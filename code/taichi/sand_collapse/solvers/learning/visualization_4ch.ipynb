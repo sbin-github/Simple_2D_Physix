{
 "cells": [
  {
   "cell_type": "code",
   "execution_count": 1,
   "metadata": {},
   "outputs": [],
   "source": [
    "import torch\n",
    "import torchvision\n",
    "import torch.nn.functional as F\n",
    "from torch import nn, optim\n",
    "from torchvision import transforms, datasets\n",
    "from torch.utils.data import DataLoader\n",
    "\n",
    "import matplotlib.pyplot as plt\n",
    "import numpy as np\n",
    "from random import randrange\n",
    "# from torchsummary import summary\n",
    "import os\n",
    "import datetime\n",
    "\n",
    "import sys"
   ]
  },
  {
   "cell_type": "code",
   "execution_count": 2,
   "metadata": {},
   "outputs": [],
   "source": [
    "testset = torch.load('../data/testset_10steps_4ch.pt')"
   ]
  },
  {
   "cell_type": "code",
   "execution_count": 3,
   "metadata": {},
   "outputs": [],
   "source": [
    "testloader = DataLoader(testset, batch_size=1, shuffle=True)"
   ]
  },
  {
   "cell_type": "code",
   "execution_count": 4,
   "metadata": {},
   "outputs": [],
   "source": [
    "class Autoencoder(nn.Module):\n",
    "    def __init__(self):\n",
    "        super(Autoencoder, self).__init__()\n",
    "        # Input size: [batch, 3, 100, 100]\n",
    "        # Output size: [batch, 3, 100, 100]\n",
    "        self.encoder = nn.Sequential(\n",
    "            nn.Conv2d(4, 32, 5, stride=1, padding=1),\n",
    "            nn.BatchNorm2d(32),\n",
    "            nn.LeakyReLU(),\n",
    "            nn.Conv2d(32, 32, 5, stride=1, padding=1),\n",
    "            nn.BatchNorm2d(32),\n",
    "            nn.LeakyReLU(),\n",
    "        )\n",
    "        self.decoder = nn.Sequential(\n",
    "            nn.ConvTranspose2d(32, 32, 5, stride=1, padding=1),\n",
    "            nn.LeakyReLU(),\n",
    "            nn.ConvTranspose2d(32, 3, 5, stride=1, padding=1),\n",
    "        )\n",
    "\n",
    "    def forward(self, x):\n",
    "        # print(x.size())\n",
    "        wall = x[:, -1]\n",
    "        # print(wall.size())\n",
    "        x = self.encoder(x)\n",
    "        x = self.decoder(x)\n",
    "        # print(x.size())\n",
    "        x = torch.cat((x, wall.reshape(len(x), 1, width_fig, width_fig)), 1)\n",
    "        # print(x.size())\n",
    "        return x"
   ]
  },
  {
   "cell_type": "code",
   "execution_count": 5,
   "metadata": {},
   "outputs": [],
   "source": [
    "class StepAE(nn.Module):\n",
    "    def __init__(self):\n",
    "        \"\"\"Variational Auto-Encoder Class\"\"\"\n",
    "        super(StepAE, self).__init__()\n",
    "        \n",
    "        self.enc = Autoencoder()\n",
    "\n",
    "    def step(self, x): # For actual run after training\n",
    "        x = self.enc(x)\n",
    "        return x\n",
    "\n",
    "    def forward(self, x): # For training\n",
    "        # Encode x to z\n",
    "        recon1 = self.enc(x)\n",
    "        recon2 = self.enc(recon1)\n",
    "        recon3 = self.enc(recon2)\n",
    "        recon4 = self.enc(recon3)\n",
    "        # recon5 = self.enc(recon4)\n",
    "        \n",
    "        return recon1, recon2, recon3, recon4"
   ]
  },
  {
   "cell_type": "code",
   "execution_count": 6,
   "metadata": {},
   "outputs": [],
   "source": [
    "def figplot():\n",
    "    model_origin.eval()\n",
    "    dataiter = iter(testloader)\n",
    "    images, _, _, _, _, _, _, _, _, _ = dataiter.next()\n",
    "    del _\n",
    "\n",
    "    recon = model_origin.step(images.permute(0, 3, 1, 2).cuda())\n",
    "\n",
    "    # del _\n",
    "    torch.cuda.empty_cache()\n",
    "    # get sample outputs\n",
    "\n",
    "    steps = 200\n",
    "    skip = int(steps/10)\n",
    "    \n",
    "    plt.figure(figsize=(6, 24))\n",
    "    ax=plt.subplot(12,1,1)\n",
    "    plt.imshow(images.permute(0,3,1,2).view(1,4,100,100).cpu()[0][:-1].permute(1,2,0))\n",
    "    ax=plt.subplot(12,1,2)\n",
    "    output = recon.detach().view(1, 4, 100, 100).cpu()[0][:-1].permute(1,2,0)\n",
    "    plt.imshow(output)\n",
    "    ii = 0\n",
    "    for i in range(steps):\n",
    "        recon = model_origin.step(recon)\n",
    "        # del _\n",
    "        \n",
    "        if i%skip == 0:\n",
    "            ii+=1\n",
    "            ax = plt.subplot(12, 1, ii + 2)\n",
    "            # print(i)\n",
    "            # output is resized into a batch of iages\n",
    "            # use detach when it's an output that requires_grad\n",
    "            output = recon.detach().view(1, 4, 100, 100).cpu()[0][:-1].permute(1, 2, 0)\n",
    "            # print(output.min(), output.max())\n",
    "            plt.imshow(output)\n",
    "            ax.get_xaxis().set_visible(False)\n",
    "            ax.get_yaxis().set_visible(False)\n",
    "            del output\n",
    "            torch.cuda.empty_cache()\n",
    "    # plt.savefig(\"../data/model/\"+timestampStr+\"/fig_{}_{}.png\".format(epochnow, step))\n",
    "    # torch.save(images, \"../data/model/\"+timestampStr+\"/input_{}_{}.pt\".format(epochnow,step))\n",
    "    del images\n",
    "    del recon\n",
    "    del dataiter"
   ]
  },
  {
   "cell_type": "code",
   "execution_count": 7,
   "metadata": {},
   "outputs": [],
   "source": [
    "width_fig = 100"
   ]
  },
  {
   "cell_type": "code",
   "execution_count": 8,
   "metadata": {},
   "outputs": [
    {
     "data": {
      "text/plain": [
       "<All keys matched successfully>"
      ]
     },
     "execution_count": 8,
     "metadata": {},
     "output_type": "execute_result"
    }
   ],
   "source": [
    "device = torch.device(\"cuda\" if torch.cuda.is_available() else \"cpu\")\n",
    "model_origin = StepAE().to(device)\n",
    "model_origin.load_state_dict(torch.load(\"new_stepwise_ep158.pt\"))"
   ]
  },
  {
   "cell_type": "code",
   "execution_count": 9,
   "metadata": {},
   "outputs": [
    {
     "data": {
      "text/plain": [
       "StepAE(\n",
       "  (enc): Autoencoder(\n",
       "    (encoder): Sequential(\n",
       "      (0): Conv2d(4, 32, kernel_size=(5, 5), stride=(1, 1), padding=(1, 1))\n",
       "      (1): BatchNorm2d(32, eps=1e-05, momentum=0.1, affine=True, track_running_stats=True)\n",
       "      (2): LeakyReLU(negative_slope=0.01)\n",
       "      (3): Conv2d(32, 32, kernel_size=(5, 5), stride=(1, 1), padding=(1, 1))\n",
       "      (4): BatchNorm2d(32, eps=1e-05, momentum=0.1, affine=True, track_running_stats=True)\n",
       "      (5): LeakyReLU(negative_slope=0.01)\n",
       "    )\n",
       "    (decoder): Sequential(\n",
       "      (0): ConvTranspose2d(32, 32, kernel_size=(5, 5), stride=(1, 1), padding=(1, 1))\n",
       "      (1): LeakyReLU(negative_slope=0.01)\n",
       "      (2): ConvTranspose2d(32, 3, kernel_size=(5, 5), stride=(1, 1), padding=(1, 1))\n",
       "    )\n",
       "  )\n",
       ")"
      ]
     },
     "execution_count": 9,
     "metadata": {},
     "output_type": "execute_result"
    }
   ],
   "source": [
    "model_origin.eval()"
   ]
  },
  {
   "cell_type": "code",
   "execution_count": 49,
   "metadata": {},
   "outputs": [
    {
     "name": "stderr",
     "output_type": "stream",
     "text": [
      "Clipping input data to the valid range for imshow with RGB data ([0..1] for floats or [0..255] for integers).\n",
      "Clipping input data to the valid range for imshow with RGB data ([0..1] for floats or [0..255] for integers).\n",
      "Clipping input data to the valid range for imshow with RGB data ([0..1] for floats or [0..255] for integers).\n",
      "Clipping input data to the valid range for imshow with RGB data ([0..1] for floats or [0..255] for integers).\n",
      "Clipping input data to the valid range for imshow with RGB data ([0..1] for floats or [0..255] for integers).\n",
      "Clipping input data to the valid range for imshow with RGB data ([0..1] for floats or [0..255] for integers).\n",
      "Clipping input data to the valid range for imshow with RGB data ([0..1] for floats or [0..255] for integers).\n",
      "Clipping input data to the valid range for imshow with RGB data ([0..1] for floats or [0..255] for integers).\n",
      "Clipping input data to the valid range for imshow with RGB data ([0..1] for floats or [0..255] for integers).\n",
      "Clipping input data to the valid range for imshow with RGB data ([0..1] for floats or [0..255] for integers).\n",
      "Clipping input data to the valid range for imshow with RGB data ([0..1] for floats or [0..255] for integers).\n",
      "Clipping input data to the valid range for imshow with RGB data ([0..1] for floats or [0..255] for integers).\n"
     ]
    },
    {
     "data": {
      "image/png": "[encoded data removed]",
      "text/plain": [
       "<Figure size 432x1728 with 12 Axes>"
      ]
     },
     "metadata": {
      "needs_background": "light"
     },
     "output_type": "display_data"
    }
   ],
   "source": [
    "figplot()"
   ]
  },
  {
   "cell_type": "code",
   "execution_count": null,
   "metadata": {},
   "outputs": [],
   "source": []
  }
 ],
 "metadata": {
  "interpreter": {
   "hash": "2c7630e42c07fc97b7bdd3b961f12b9f6f566b7756c390ffd7b074a3a9c10baf"
  },
  "kernelspec": {
   "display_name": "Python 3.9.11 ('torch')",
   "language": "python",
   "name": "python3"
  },
  "language_info": {
   "codemirror_mode": {
    "name": "ipython",
    "version": 3
   },
   "file_extension": ".py",
   "mimetype": "text/x-python",
   "name": "python",
   "nbconvert_exporter": "python",
   "pygments_lexer": "ipython3",
   "version": "3.9.11"
  },
  "orig_nbformat": 4
 },
 "nbformat": 4,
 "nbformat_minor": 2
}
