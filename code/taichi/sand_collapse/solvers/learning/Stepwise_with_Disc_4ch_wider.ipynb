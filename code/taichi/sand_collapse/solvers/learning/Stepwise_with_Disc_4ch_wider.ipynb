{
 "cells": [
  {
   "cell_type": "code",
   "execution_count": 1,
   "id": "b31499d1",
   "metadata": {},
   "outputs": [],
   "source": [
    "import torch\n",
    "import torchvision\n",
    "import torch.nn.functional as F\n",
    "from torch import nn, optim\n",
    "from torchvision import transforms, datasets\n",
    "from torch.utils.data import DataLoader\n",
    "\n",
    "import matplotlib.pyplot as plt\n",
    "import numpy as np\n",
    "from random import randrange\n",
    "# from torchsummary import summary\n",
    "import os\n",
    "import datetime\n",
    "\n",
    "import sys\n",
    "os.environ['CUDA_LAUNCH_BLOCKING'] = \"1\""
   ]
  },
  {
   "cell_type": "code",
   "execution_count": 2,
   "id": "bab6210f",
   "metadata": {},
   "outputs": [],
   "source": [
    "epochs = 100\n",
    "batch_size = 64\n",
    "width_fig = 100\n",
    "device = torch.device(\"cuda\" if torch.cuda.is_available() else \"cpu\")"
   ]
  },
  {
   "cell_type": "code",
   "execution_count": 3,
   "id": "550f8561",
   "metadata": {},
   "outputs": [],
   "source": [
    "trainset = torch.load('../data/dataset_10steps_4ch.pt')"
   ]
  },
  {
   "cell_type": "code",
   "execution_count": 4,
   "id": "1d140115",
   "metadata": {},
   "outputs": [],
   "source": [
    "trainloader = DataLoader(trainset, batch_size=batch_size, shuffle=True)"
   ]
  },
  {
   "cell_type": "code",
   "execution_count": 5,
   "id": "8445967f",
   "metadata": {},
   "outputs": [],
   "source": [
    "class Autoencoder(nn.Module):\n",
    "    def __init__(self):\n",
    "        super(Autoencoder, self).__init__()\n",
    "        # Input size: [batch, 3, 100, 100]\n",
    "        # Output size: [batch, 3, 100, 100]\n",
    "        self.encoder = nn.Sequential(\n",
    "            nn.Conv2d(4, 16, 3, stride=1, padding=1),\n",
    "            # nn.BatchNorm2d(32),\n",
    "            nn.LeakyReLU(),\n",
    "            nn.Conv2d(16, 16, 5, stride=1, padding=1),\n",
    "            # nn.BatchNorm2d(32),\n",
    "            nn.LeakyReLU(),\n",
    "            nn.Conv2d(16, 16, 7, stride=1, padding=1),\n",
    "            # nn.BatchNorm2d(32),\n",
    "            nn.LeakyReLU(),\n",
    "        )\n",
    "        self.decoder = nn.Sequential(\n",
    "            nn.ConvTranspose2d(16, 16, 7, stride=1, padding=1),\n",
    "            nn.LeakyReLU(),\n",
    "            nn.ConvTranspose2d(16, 16, 5, stride=1, padding=1),\n",
    "            nn.LeakyReLU(),\n",
    "            nn.ConvTranspose2d(16, 3, 3, stride=1, padding=1),\n",
    "        )\n",
    "\n",
    "    def forward(self, x):\n",
    "        # print(x.size())\n",
    "        wall = x[:, -1]\n",
    "        # print(wall.size())\n",
    "        x = self.encoder(x)\n",
    "        x = self.decoder(x)\n",
    "        # print(x.size())\n",
    "        x = torch.cat((x, wall.reshape(len(x), 1, width_fig, width_fig)), 1)\n",
    "        # print(x.size())\n",
    "        return x"
   ]
  },
  {
   "cell_type": "code",
   "execution_count": 6,
   "id": "3505785d",
   "metadata": {},
   "outputs": [],
   "source": [
    "# model = Autoencoder()\n",
    "# model(torch.rand((64,4,100,100)))"
   ]
  },
  {
   "cell_type": "code",
   "execution_count": 7,
   "id": "e1bb0536",
   "metadata": {},
   "outputs": [],
   "source": [
    "class Discriminator(nn.Module):\n",
    "    def __init__(self):\n",
    "        super().__init__()\n",
    "        self.conv1 = nn.Conv2d(4, 6, 9, stride=2)\n",
    "        self.pool = nn.MaxPool2d(2, 2)\n",
    "        self.conv2 = nn.Conv2d(6, 8, 7, stride=2)\n",
    "        self.pool = nn.MaxPool2d(2, 2)\n",
    "        self.dropout = nn.Dropout()\n",
    "        self.fc1 = nn.Linear(128, 32)\n",
    "        self.fc2 = nn.Linear(32, 1)\n",
    "\n",
    "    def forward(self, x):\n",
    "        # print(x.size())\n",
    "        x = self.pool(F.relu(self.conv1(x)))\n",
    "        # print(x.size())\n",
    "        x = self.pool(F.relu(self.conv2(x)))\n",
    "        # print(x.size())\n",
    "        x = torch.flatten(x, start_dim=1) # flatten all dimensions except batch\n",
    "        # print(x.size())\n",
    "        x = F.relu(self.fc1(x))\n",
    "        x = self.dropout(x)\n",
    "        # print(x.size())\n",
    "        x = F.sigmoid(self.fc2(x))\n",
    "        # print(x.size())\n",
    "        return x"
   ]
  },
  {
   "cell_type": "code",
   "execution_count": 8,
   "id": "138224bd",
   "metadata": {},
   "outputs": [],
   "source": [
    "class StepAE(nn.Module):\n",
    "    def __init__(self):\n",
    "        \"\"\"Variational Auto-Encoder Class\"\"\"\n",
    "        super(StepAE, self).__init__()\n",
    "        \n",
    "        self.enc = Autoencoder()\n",
    "\n",
    "    def step(self, x): # For actual run after training\n",
    "        x = self.enc(x)\n",
    "        return x\n",
    "\n",
    "    def forward(self, x): # For training\n",
    "        # Encode x to z\n",
    "        recon1 = self.enc(x)\n",
    "        recon2 = self.enc(recon1)\n",
    "        recon3 = self.enc(recon2)\n",
    "        recon4 = self.enc(recon3)\n",
    "        # recon5 = self.enc(recon4)\n",
    "        \n",
    "        return recon1, recon2, recon3, recon4"
   ]
  },
  {
   "cell_type": "markdown",
   "id": "8f916064",
   "metadata": {},
   "source": [
    "# Training"
   ]
  },
  {
   "cell_type": "code",
   "execution_count": 9,
   "id": "a324c19a",
   "metadata": {},
   "outputs": [],
   "source": [
    "disc_history_real = []\n",
    "disc_history_fake = []\n",
    "rme_history = []"
   ]
  },
  {
   "cell_type": "code",
   "execution_count": 10,
   "id": "6cd25f8c",
   "metadata": {},
   "outputs": [],
   "source": [
    "# https://uos-deep-learning.tistory.com/16\n",
    "def calc_gradient_penalty(netD, real_data, generated_data):\n",
    "    # GP strength\n",
    "    LAMBDA = 5\n",
    "\n",
    "    b_size = real_data.size()[0]\n",
    "\n",
    "    # Calculate interpolation\n",
    "    alpha = torch.rand(b_size, 1, 1, 1)\n",
    "    alpha = alpha.expand_as(real_data)\n",
    "    alpha = alpha.cuda()\n",
    "\n",
    "    interpolated = alpha * real_data.data + (1 - alpha) * generated_data.data\n",
    "    interpolated = torch.autograd.Variable(interpolated, requires_grad=True)\n",
    "    interpolated = interpolated.cuda()\n",
    "\n",
    "    # Calculate probability of interpolated examples\n",
    "    prob_interpolated = netD(interpolated)\n",
    "\n",
    "    # Calculate gradients of probabilities with respect to examples\n",
    "    gradients = torch.autograd.grad(outputs=prob_interpolated, inputs=interpolated,\n",
    "                           grad_outputs=torch.ones(prob_interpolated.size()).cuda(),\n",
    "                           create_graph=True, retain_graph=True)[0]\n",
    "\n",
    "    # Gradients have shape (batch_size, num_channels, img_width, img_height),\n",
    "    # so flatten to easily take norm per example in batch\n",
    "    gradients = gradients.view(b_size, -1)\n",
    "\n",
    "    # Derivatives of the gradient close to 0 can cause problems because of\n",
    "    # the square root, so manually calculate norm and add epsilon\n",
    "    gradients_norm = torch.sqrt(torch.sum(gradients ** 2, dim=1) + 1e-12)\n",
    "\n",
    "    # Return gradient penalty\n",
    "    return LAMBDA * ((gradients_norm - 1) ** 2).mean()"
   ]
  },
  {
   "cell_type": "code",
   "execution_count": 11,
   "id": "a2d4fb88",
   "metadata": {},
   "outputs": [],
   "source": [
    "def train(model, discnet, train_loader, epochnow):\n",
    "    model.train()\n",
    "    discnet.train()\n",
    "    avg_loss = 0\n",
    "    for step, (x0, _, x1, _, x2, _, x3, _, x4, _) in enumerate(train_loader):\n",
    "        # noisy_x = x + train_noise_level * torch.randn(*x.shape)\n",
    "        # noisy_x = np.clip(noisy_x, 0., 1.)\n",
    "        del _\n",
    "\n",
    "        x0 = x0.permute(0, 3, 1, 2)\n",
    "        x1 = x1.permute(0, 3, 1, 2)\n",
    "        x2 = x2.permute(0, 3, 1, 2)\n",
    "        x3 = x3.permute(0, 3, 1, 2)\n",
    "        x4 = x4.permute(0, 3, 1, 2)\n",
    "\n",
    "        ############################\n",
    "        # (1) Update D network: maximize log(D(x)) + log(1 - D(G(z))\n",
    "        # model.eval()\n",
    "        discnet.train()\n",
    "        discnet.zero_grad()\n",
    "        optimizerD.zero_grad()\n",
    "        r1, r2, r3, r4 = model(x0.cuda())\n",
    "        \n",
    "        # All real\n",
    "        label_size = x1.size(0)\n",
    "        real_label = 1\n",
    "        label = torch.full((label_size,), real_label, dtype=torch.float, device=device)       \n",
    "        for idx, x_ in enumerate([x1, x2, x3, x4]):\n",
    "            output = discnet(x_.cuda()).view(-1)\n",
    "            if idx == 0:\n",
    "                errD_real = criterionD(output, label)\n",
    "            else:\n",
    "                errD_real += criterionD(output, label)\n",
    "        errD_real.backward()\n",
    "        out_real = output.detach().cpu().numpy()\n",
    "\n",
    "        # All fake\n",
    "        fake_label = 0\n",
    "        label.fill_(fake_label)\n",
    "        for idx, r_ in enumerate([r1, r2, r3, r4]):\n",
    "            output = discnet(r_.detach().contiguous()).view(-1)\n",
    "            if idx == 0:\n",
    "                errD_fake = criterionD(output, label)\n",
    "            else:\n",
    "                errD_fake += criterionD(output, label)\n",
    "        errD_fake.backward()\n",
    "\n",
    "        grad_penalty = calc_gradient_penalty(netD, x1.cuda(), r1)\n",
    "        grad_penalty += calc_gradient_penalty(netD, x2.cuda(), r2)\n",
    "        grad_penalty += calc_gradient_penalty(netD, x3.cuda(), r3)\n",
    "        grad_penalty += calc_gradient_penalty(netD, x4.cuda(), r4)\n",
    "        grad_penalty = 1*grad_penalty\n",
    "        grad_penalty.backward()\n",
    "\n",
    "        optimizerD.step()\n",
    "        del r1, r2, r3, r4\n",
    "\n",
    "        ############################\n",
    "        # (2) Update G network: maximize log(D(G(z)))\n",
    "        ###########################\n",
    "        # model.train()\n",
    "        discnet.eval()\n",
    "        optimizer.zero_grad()\n",
    "        model.zero_grad()\n",
    "\n",
    "        r1, r2, r3, r4 = model(x0.cuda())\n",
    "        label.fill_(real_label)\n",
    "        for idx, r_ in enumerate([r1, r2, r3, r4]):\n",
    "            output = discnet(r_.detach().contiguous()).view(-1)\n",
    "            if idx == 0:\n",
    "                errG = (idx+1)*criterionD(output, label)\n",
    "            else:\n",
    "                errG += (idx)*criterionD(output, label)\n",
    "\n",
    "        loss1 = criterion(r1, x1.cuda())\n",
    "        loss2 = criterion(r2, x2.cuda())\n",
    "        loss3 = criterion(r3, x3.cuda())\n",
    "        loss4 = criterion(r4, x4.cuda())\n",
    "        # loss5 = criterion(r5, x5.cuda())\n",
    "        loss = 10*(loss1 + loss2 + loss3 + loss4) + errG\n",
    "        \n",
    "        del x0, x1, x2, x3, x4, r1, r2, r3, r4\n",
    "\n",
    "        optimizer.zero_grad()\n",
    "        loss.backward()\n",
    "        optimizer.step()\n",
    "        \n",
    "        avg_loss += loss.item()\n",
    "        loss_history.append(loss.item())\n",
    "\n",
    "        if step%10 == 0:\n",
    "            print(\"step{}, loss = {}, real = {}, fake = {}\".format(step, loss, np.mean(out_real), (output.mean().item())), errG.mean().item())\n",
    "            disc_history_real.append([out_real])\n",
    "            disc_history_fake.append([output.detach().cpu().numpy()])\n",
    "\n",
    "        if step%100 == 0:\n",
    "            # sys.stdout = open(os.devnull, 'w')\n",
    "            figplot(epochnow, step)\n",
    "            torch.save(model_origin.state_dict(), \"../data/model/\" + timestampStr + \"/wider_stepwise_ep{}_{}.pt\".format(epochnow, step))\n",
    "            torch.save(netD.state_dict(), \"../data/model/\" + timestampStr + \"/wider_discnet_ep{}_{}.pt\".format(epochnow, step))\n",
    "            torch.save(model_origin.state_dict(), \"latest_net_wdisc_4ch_wider.pt\".format(epochnow, step))\n",
    "            torch.save(netD.state_dict(), \"latest_disc_wdisc_4ch_wider.pt\".format(epochnow, step))\n",
    "            np.save(\"../data/model/\" + timestampStr +\"/disc_history_fake\", disc_history_fake)\n",
    "            np.save(\"../data/model/\" + timestampStr +\"/disc_history_real\", disc_history_real)\n",
    "            np.save(\"../data/model/\" + timestampStr +\"/loss_history\", loss_history)\n",
    "            # sys.stdout = sys.__stdout__\n",
    "\n",
    "    return avg_loss / len(train_loader)"
   ]
  },
  {
   "cell_type": "code",
   "execution_count": 12,
   "id": "7fb374ab",
   "metadata": {},
   "outputs": [],
   "source": [
    "netD = Discriminator().to(device)\n",
    "optimizerD = optim.Adam(netD.parameters(), lr=0.0001)\n",
    "criterionD = nn.BCEWithLogitsLoss()"
   ]
  },
  {
   "cell_type": "code",
   "execution_count": 13,
   "id": "a218858b",
   "metadata": {},
   "outputs": [],
   "source": [
    "model_origin = StepAE().to(device)\n",
    "criterion = nn.MSELoss()\n",
    "loss_history = []"
   ]
  },
  {
   "cell_type": "code",
   "execution_count": 14,
   "id": "a513d8ee",
   "metadata": {},
   "outputs": [],
   "source": [
    "oneloader = DataLoader(trainset, batch_size=1, shuffle=True)\n",
    "torch.cuda.empty_cache()\n",
    "\n",
    "def figplot(epochnow, step):\n",
    "    model_origin.eval()\n",
    "    dataiter = iter(oneloader)\n",
    "    images, _, _, _, _, _, _, _, _, _ = dataiter.next()\n",
    "    del _\n",
    "\n",
    "    recon = model_origin.step(images.permute(0, 3, 1, 2).cuda())\n",
    "\n",
    "    # del _\n",
    "    torch.cuda.empty_cache()\n",
    "    # get sample outputs\n",
    "\n",
    "    steps = 100\n",
    "    skip = int(steps/10)\n",
    "    \n",
    "    plt.figure(figsize=(6, 24))\n",
    "    ax=plt.subplot(12,1,1)\n",
    "    plt.imshow(images.permute(0,3,1,2).view(1,4,100,100).cpu()[0][:-1].permute(1,2,0))\n",
    "    ax=plt.subplot(12,1,2)\n",
    "    output = recon.detach().view(1, 4, 100, 100).cpu()[0][:-1].permute(1,2,0)\n",
    "    plt.imshow(output)\n",
    "    ii = 0\n",
    "    for i in range(steps):\n",
    "        recon = model_origin.step(recon)\n",
    "        # del _\n",
    "        \n",
    "        if i%skip == 0:\n",
    "            ii+=1\n",
    "            ax = plt.subplot(12, 1, ii + 2)\n",
    "            # print(i)\n",
    "            # output is resized into a batch of iages\n",
    "            # use detach when it's an output that requires_grad\n",
    "            output = recon.detach().view(1, 4, 100, 100).cpu()[0][:-1].permute(1, 2, 0)\n",
    "            # print(output.min(), output.max())\n",
    "            plt.imshow(output)\n",
    "            ax.get_xaxis().set_visible(False)\n",
    "            ax.get_yaxis().set_visible(False)\n",
    "            del output\n",
    "            torch.cuda.empty_cache()\n",
    "    plt.savefig(\"../data/model/\"+timestampStr+\"/fig_{}_{}.png\".format(epochnow, step))\n",
    "    torch.save(images, \"../data/model/\"+timestampStr+\"/input_{}_{}.pt\".format(epochnow,step))\n",
    "    del images\n",
    "    del recon\n",
    "    del dataiter"
   ]
  },
  {
   "cell_type": "code",
   "execution_count": 15,
   "id": "1e091ac9",
   "metadata": {},
   "outputs": [
    {
     "name": "stderr",
     "output_type": "stream",
     "text": [
      "c:\\Users\\sbin_LAB\\.conda\\envs\\torch\\lib\\site-packages\\torch\\nn\\functional.py:1806: UserWarning: nn.functional.sigmoid is deprecated. Use torch.sigmoid instead.\n",
      "  warnings.warn(\"nn.functional.sigmoid is deprecated. Use torch.sigmoid instead.\")\n",
      "Clipping input data to the valid range for imshow with RGB data ([0..1] for floats or [0..255] for integers).\n",
      "Clipping input data to the valid range for imshow with RGB data ([0..1] for floats or [0..255] for integers).\n",
      "Clipping input data to the valid range for imshow with RGB data ([0..1] for floats or [0..255] for integers).\n",
      "Clipping input data to the valid range for imshow with RGB data ([0..1] for floats or [0..255] for integers).\n",
      "Clipping input data to the valid range for imshow with RGB data ([0..1] for floats or [0..255] for integers).\n"
     ]
    },
    {
     "name": "stdout",
     "output_type": "stream",
     "text": [
      "step0, loss = 10.957413673400879, real = 0.5578157305717468, fake = 0.5553172826766968 3.1748390197753906\n"
     ]
    },
    {
     "name": "stderr",
     "output_type": "stream",
     "text": [
      "Clipping input data to the valid range for imshow with RGB data ([0..1] for floats or [0..255] for integers).\n",
      "Clipping input data to the valid range for imshow with RGB data ([0..1] for floats or [0..255] for integers).\n",
      "Clipping input data to the valid range for imshow with RGB data ([0..1] for floats or [0..255] for integers).\n",
      "Clipping input data to the valid range for imshow with RGB data ([0..1] for floats or [0..255] for integers).\n",
      "Clipping input data to the valid range for imshow with RGB data ([0..1] for floats or [0..255] for integers).\n",
      "Clipping input data to the valid range for imshow with RGB data ([0..1] for floats or [0..255] for integers).\n",
      "Clipping input data to the valid range for imshow with RGB data ([0..1] for floats or [0..255] for integers).\n"
     ]
    },
    {
     "name": "stdout",
     "output_type": "stream",
     "text": [
      "step10, loss = 7.770522117614746, real = 0.5589277744293213, fake = 0.5599721670150757 3.165239095687866\n",
      "step20, loss = 8.947179794311523, real = 0.5555657744407654, fake = 0.5479027032852173 3.1935133934020996\n",
      "step30, loss = 8.750725746154785, real = 0.5550981163978577, fake = 0.5440421104431152 3.202759265899658\n",
      "step40, loss = 7.732100486755371, real = 0.5545464754104614, fake = 0.5494291186332703 3.189897298812866\n",
      "step50, loss = 5.83929967880249, real = 0.5511781573295593, fake = 0.5466221570968628 3.197788715362549\n",
      "step60, loss = 5.49272346496582, real = 0.5388669371604919, fake = 0.5342454314231873 3.2276177406311035\n",
      "step70, loss = 5.490797996520996, real = 0.5366247892379761, fake = 0.5278217792510986 3.244633674621582\n",
      "step80, loss = 5.3556623458862305, real = 0.5240291357040405, fake = 0.5176575183868408 3.2711684703826904\n",
      "step90, loss = 5.338774681091309, real = 0.5184926390647888, fake = 0.5106218457221985 3.2897815704345703\n"
     ]
    },
    {
     "name": "stderr",
     "output_type": "stream",
     "text": [
      "Clipping input data to the valid range for imshow with RGB data ([0..1] for floats or [0..255] for integers).\n",
      "Clipping input data to the valid range for imshow with RGB data ([0..1] for floats or [0..255] for integers).\n",
      "Clipping input data to the valid range for imshow with RGB data ([0..1] for floats or [0..255] for integers).\n",
      "Clipping input data to the valid range for imshow with RGB data ([0..1] for floats or [0..255] for integers).\n"
     ]
    },
    {
     "name": "stdout",
     "output_type": "stream",
     "text": [
      "step100, loss = 5.16463041305542, real = 0.506878137588501, fake = 0.5001537799835205 3.3177602291107178\n"
     ]
    },
    {
     "name": "stderr",
     "output_type": "stream",
     "text": [
      "Clipping input data to the valid range for imshow with RGB data ([0..1] for floats or [0..255] for integers).\n",
      "Clipping input data to the valid range for imshow with RGB data ([0..1] for floats or [0..255] for integers).\n",
      "Clipping input data to the valid range for imshow with RGB data ([0..1] for floats or [0..255] for integers).\n",
      "Clipping input data to the valid range for imshow with RGB data ([0..1] for floats or [0..255] for integers).\n",
      "Clipping input data to the valid range for imshow with RGB data ([0..1] for floats or [0..255] for integers).\n",
      "Clipping input data to the valid range for imshow with RGB data ([0..1] for floats or [0..255] for integers).\n",
      "Clipping input data to the valid range for imshow with RGB data ([0..1] for floats or [0..255] for integers).\n",
      "Clipping input data to the valid range for imshow with RGB data ([0..1] for floats or [0..255] for integers).\n"
     ]
    },
    {
     "name": "stdout",
     "output_type": "stream",
     "text": [
      "step110, loss = 5.138274669647217, real = 0.4933915138244629, fake = 0.4902934432029724 3.3433165550231934\n",
      "step120, loss = 5.031213760375977, real = 0.4819644093513489, fake = 0.47501498460769653 3.384230375289917\n",
      "step130, loss = 4.820811748504639, real = 0.4776872992515564, fake = 0.4637480080127716 3.4149179458618164\n",
      "step140, loss = 4.906128883361816, real = 0.4658242464065552, fake = 0.45580631494522095 3.4365079402923584\n",
      "step150, loss = 4.979708671569824, real = 0.45342040061950684, fake = 0.4469033479690552 3.459778308868408\n",
      "step160, loss = 4.831600189208984, real = 0.46383151412010193, fake = 0.44971567392349243 3.453526496887207\n",
      "step170, loss = 4.7516045570373535, real = 0.46299511194229126, fake = 0.4498502314090729 3.45269775390625\n",
      "step180, loss = 4.794925212860107, real = 0.4760645627975464, fake = 0.45778965950012207 3.4305012226104736\n",
      "step190, loss = 4.577503681182861, real = 0.4847285747528076, fake = 0.4581333100795746 3.4296698570251465\n"
     ]
    },
    {
     "name": "stderr",
     "output_type": "stream",
     "text": [
      "Clipping input data to the valid range for imshow with RGB data ([0..1] for floats or [0..255] for integers).\n",
      "Clipping input data to the valid range for imshow with RGB data ([0..1] for floats or [0..255] for integers).\n",
      "Clipping input data to the valid range for imshow with RGB data ([0..1] for floats or [0..255] for integers).\n",
      "Clipping input data to the valid range for imshow with RGB data ([0..1] for floats or [0..255] for integers).\n"
     ]
    },
    {
     "name": "stdout",
     "output_type": "stream",
     "text": [
      "step200, loss = 5.321022033691406, real = 0.4779716432094574, fake = 0.44895386695861816 3.4548375606536865\n"
     ]
    },
    {
     "name": "stderr",
     "output_type": "stream",
     "text": [
      "Clipping input data to the valid range for imshow with RGB data ([0..1] for floats or [0..255] for integers).\n",
      "Clipping input data to the valid range for imshow with RGB data ([0..1] for floats or [0..255] for integers).\n",
      "Clipping input data to the valid range for imshow with RGB data ([0..1] for floats or [0..255] for integers).\n",
      "Clipping input data to the valid range for imshow with RGB data ([0..1] for floats or [0..255] for integers).\n",
      "Clipping input data to the valid range for imshow with RGB data ([0..1] for floats or [0..255] for integers).\n",
      "Clipping input data to the valid range for imshow with RGB data ([0..1] for floats or [0..255] for integers).\n",
      "Clipping input data to the valid range for imshow with RGB data ([0..1] for floats or [0..255] for integers).\n",
      "Clipping input data to the valid range for imshow with RGB data ([0..1] for floats or [0..255] for integers).\n"
     ]
    },
    {
     "name": "stdout",
     "output_type": "stream",
     "text": [
      "step210, loss = 4.669690132141113, real = 0.5065196752548218, fake = 0.46000584959983826 3.4230422973632812\n",
      "step220, loss = 4.739807605743408, real = 0.5113350749015808, fake = 0.4617758095264435 3.421043634414673\n",
      "step230, loss = 4.4633708000183105, real = 0.4888867139816284, fake = 0.455203115940094 3.4401602745056152\n",
      "step240, loss = 4.688057899475098, real = 0.5152052640914917, fake = 0.4606509804725647 3.4228134155273438\n",
      "step250, loss = 4.497817039489746, real = 0.4931206703186035, fake = 0.45305556058883667 3.4407949447631836\n",
      "step260, loss = 4.507671356201172, real = 0.5214231014251709, fake = 0.4699900448322296 3.4042649269104004\n",
      "step270, loss = 4.694141864776611, real = 0.5218467712402344, fake = 0.4417825937271118 3.470400333404541\n",
      "step280, loss = 4.559805393218994, real = 0.5262267589569092, fake = 0.45347926020622253 3.4357471466064453\n",
      "step290, loss = 4.330997467041016, real = 0.5023115873336792, fake = 0.45525676012039185 3.4424362182617188\n"
     ]
    },
    {
     "name": "stderr",
     "output_type": "stream",
     "text": [
      "Clipping input data to the valid range for imshow with RGB data ([0..1] for floats or [0..255] for integers).\n",
      "Clipping input data to the valid range for imshow with RGB data ([0..1] for floats or [0..255] for integers).\n",
      "Clipping input data to the valid range for imshow with RGB data ([0..1] for floats or [0..255] for integers).\n",
      "Clipping input data to the valid range for imshow with RGB data ([0..1] for floats or [0..255] for integers).\n"
     ]
    },
    {
     "name": "stdout",
     "output_type": "stream",
     "text": [
      "step300, loss = 5.80902099609375, real = 0.5059937238693237, fake = 0.44150933623313904 3.472963333129883\n"
     ]
    },
    {
     "name": "stderr",
     "output_type": "stream",
     "text": [
      "Clipping input data to the valid range for imshow with RGB data ([0..1] for floats or [0..255] for integers).\n",
      "Clipping input data to the valid range for imshow with RGB data ([0..1] for floats or [0..255] for integers).\n",
      "Clipping input data to the valid range for imshow with RGB data ([0..1] for floats or [0..255] for integers).\n",
      "Clipping input data to the valid range for imshow with RGB data ([0..1] for floats or [0..255] for integers).\n",
      "Clipping input data to the valid range for imshow with RGB data ([0..1] for floats or [0..255] for integers).\n",
      "Clipping input data to the valid range for imshow with RGB data ([0..1] for floats or [0..255] for integers).\n",
      "Clipping input data to the valid range for imshow with RGB data ([0..1] for floats or [0..255] for integers).\n",
      "Clipping input data to the valid range for imshow with RGB data ([0..1] for floats or [0..255] for integers).\n"
     ]
    },
    {
     "name": "stdout",
     "output_type": "stream",
     "text": [
      "step310, loss = 4.477254390716553, real = 0.5462875366210938, fake = 0.4580322802066803 3.4232442378997803\n",
      "step320, loss = 5.032549858093262, real = 0.5297510623931885, fake = 0.4565296173095703 3.4316582679748535\n",
      "step330, loss = 4.646935939788818, real = 0.5439417362213135, fake = 0.44981828331947327 3.44734525680542\n",
      "step340, loss = 4.567320823669434, real = 0.5429471731185913, fake = 0.45306479930877686 3.4399466514587402\n",
      "step350, loss = 4.595276832580566, real = 0.5319511890411377, fake = 0.44371113181114197 3.4657294750213623\n",
      "step360, loss = 4.659872055053711, real = 0.5394302606582642, fake = 0.46271347999572754 3.4196527004241943\n",
      "step370, loss = 4.322606086730957, real = 0.5357239246368408, fake = 0.4544961750507355 3.439350128173828\n",
      "step380, loss = 4.9278059005737305, real = 0.5180025100708008, fake = 0.45828837156295776 3.431471586227417\n",
      "step390, loss = 4.453397750854492, real = 0.5694702863693237, fake = 0.4796420931816101 3.3761253356933594\n"
     ]
    },
    {
     "name": "stderr",
     "output_type": "stream",
     "text": [
      "Clipping input data to the valid range for imshow with RGB data ([0..1] for floats or [0..255] for integers).\n",
      "Clipping input data to the valid range for imshow with RGB data ([0..1] for floats or [0..255] for integers).\n",
      "Clipping input data to the valid range for imshow with RGB data ([0..1] for floats or [0..255] for integers).\n",
      "Clipping input data to the valid range for imshow with RGB data ([0..1] for floats or [0..255] for integers).\n"
     ]
    },
    {
     "name": "stdout",
     "output_type": "stream",
     "text": [
      "step400, loss = 4.293811321258545, real = 0.5297650098800659, fake = 0.4581444263458252 3.4300806522369385\n"
     ]
    },
    {
     "name": "stderr",
     "output_type": "stream",
     "text": [
      "Clipping input data to the valid range for imshow with RGB data ([0..1] for floats or [0..255] for integers).\n",
      "Clipping input data to the valid range for imshow with RGB data ([0..1] for floats or [0..255] for integers).\n",
      "Clipping input data to the valid range for imshow with RGB data ([0..1] for floats or [0..255] for integers).\n",
      "Clipping input data to the valid range for imshow with RGB data ([0..1] for floats or [0..255] for integers).\n",
      "Clipping input data to the valid range for imshow with RGB data ([0..1] for floats or [0..255] for integers).\n",
      "Clipping input data to the valid range for imshow with RGB data ([0..1] for floats or [0..255] for integers).\n",
      "Clipping input data to the valid range for imshow with RGB data ([0..1] for floats or [0..255] for integers).\n",
      "Clipping input data to the valid range for imshow with RGB data ([0..1] for floats or [0..255] for integers).\n"
     ]
    },
    {
     "name": "stdout",
     "output_type": "stream",
     "text": [
      "step410, loss = 4.495778560638428, real = 0.5362101793289185, fake = 0.46051764488220215 3.419196367263794\n",
      "step420, loss = 4.330595970153809, real = 0.5298306345939636, fake = 0.4721936583518982 3.3934593200683594\n",
      "step430, loss = 4.323979377746582, real = 0.5258327722549438, fake = 0.460886150598526 3.4227216243743896\n",
      "step440, loss = 4.549310207366943, real = 0.521884560585022, fake = 0.45077866315841675 3.444654941558838\n",
      "step450, loss = 4.5776872634887695, real = 0.536540150642395, fake = 0.45263683795928955 3.442401170730591\n",
      "step460, loss = 4.41152286529541, real = 0.5303276777267456, fake = 0.46485698223114014 3.4090752601623535\n",
      "step470, loss = 4.350076198577881, real = 0.5397242307662964, fake = 0.46607425808906555 3.409712791442871\n",
      "step480, loss = 4.404690742492676, real = 0.5407230854034424, fake = 0.4670979380607605 3.4031624794006348\n",
      "step490, loss = 4.651453018188477, real = 0.5566064119338989, fake = 0.4556945264339447 3.429877281188965\n"
     ]
    },
    {
     "name": "stderr",
     "output_type": "stream",
     "text": [
      "Clipping input data to the valid range for imshow with RGB data ([0..1] for floats or [0..255] for integers).\n",
      "Clipping input data to the valid range for imshow with RGB data ([0..1] for floats or [0..255] for integers).\n",
      "Clipping input data to the valid range for imshow with RGB data ([0..1] for floats or [0..255] for integers).\n",
      "Clipping input data to the valid range for imshow with RGB data ([0..1] for floats or [0..255] for integers).\n",
      "Clipping input data to the valid range for imshow with RGB data ([0..1] for floats or [0..255] for integers).\n"
     ]
    },
    {
     "name": "stdout",
     "output_type": "stream",
     "text": [
      "step500, loss = 4.50620174407959, real = 0.5358375906944275, fake = 0.4613415598869324 3.41790771484375\n"
     ]
    },
    {
     "name": "stderr",
     "output_type": "stream",
     "text": [
      "Clipping input data to the valid range for imshow with RGB data ([0..1] for floats or [0..255] for integers).\n",
      "Clipping input data to the valid range for imshow with RGB data ([0..1] for floats or [0..255] for integers).\n",
      "Clipping input data to the valid range for imshow with RGB data ([0..1] for floats or [0..255] for integers).\n",
      "Clipping input data to the valid range for imshow with RGB data ([0..1] for floats or [0..255] for integers).\n",
      "Clipping input data to the valid range for imshow with RGB data ([0..1] for floats or [0..255] for integers).\n",
      "Clipping input data to the valid range for imshow with RGB data ([0..1] for floats or [0..255] for integers).\n",
      "Clipping input data to the valid range for imshow with RGB data ([0..1] for floats or [0..255] for integers).\n"
     ]
    },
    {
     "name": "stdout",
     "output_type": "stream",
     "text": [
      "step510, loss = 4.374300479888916, real = 0.5343334078788757, fake = 0.4603138566017151 3.421947956085205\n",
      "step520, loss = 4.846642017364502, real = 0.5355212688446045, fake = 0.46637803316116333 3.409306526184082\n",
      "step530, loss = 4.443441867828369, real = 0.5175739526748657, fake = 0.44289320707321167 3.4741051197052\n",
      "step540, loss = 4.609745979309082, real = 0.5372013449668884, fake = 0.4386560618877411 3.485642910003662\n",
      "step550, loss = 4.4433794021606445, real = 0.525825023651123, fake = 0.4457814693450928 3.469409227371216\n",
      "step560, loss = 4.684722900390625, real = 0.5218023061752319, fake = 0.43497008085250854 3.499323844909668\n",
      "step570, loss = 4.659489154815674, real = 0.5048370361328125, fake = 0.3959420323371887 3.597632646560669\n",
      "step580, loss = 4.779693603515625, real = 0.45142167806625366, fake = 0.3775886595249176 3.668282985687256\n",
      "step590, loss = 4.5251898765563965, real = 0.48850950598716736, fake = 0.39738595485687256 3.5966570377349854\n"
     ]
    },
    {
     "name": "stderr",
     "output_type": "stream",
     "text": [
      "Clipping input data to the valid range for imshow with RGB data ([0..1] for floats or [0..255] for integers).\n",
      "Clipping input data to the valid range for imshow with RGB data ([0..1] for floats or [0..255] for integers).\n",
      "Clipping input data to the valid range for imshow with RGB data ([0..1] for floats or [0..255] for integers).\n",
      "Clipping input data to the valid range for imshow with RGB data ([0..1] for floats or [0..255] for integers).\n"
     ]
    },
    {
     "name": "stdout",
     "output_type": "stream",
     "text": [
      "step600, loss = 4.591548442840576, real = 0.43385618925094604, fake = 0.3546372056007385 3.719944953918457\n"
     ]
    },
    {
     "name": "stderr",
     "output_type": "stream",
     "text": [
      "Clipping input data to the valid range for imshow with RGB data ([0..1] for floats or [0..255] for integers).\n",
      "Clipping input data to the valid range for imshow with RGB data ([0..1] for floats or [0..255] for integers).\n",
      "Clipping input data to the valid range for imshow with RGB data ([0..1] for floats or [0..255] for integers).\n",
      "Clipping input data to the valid range for imshow with RGB data ([0..1] for floats or [0..255] for integers).\n",
      "Clipping input data to the valid range for imshow with RGB data ([0..1] for floats or [0..255] for integers).\n",
      "Clipping input data to the valid range for imshow with RGB data ([0..1] for floats or [0..255] for integers).\n",
      "Clipping input data to the valid range for imshow with RGB data ([0..1] for floats or [0..255] for integers).\n",
      "Clipping input data to the valid range for imshow with RGB data ([0..1] for floats or [0..255] for integers).\n"
     ]
    },
    {
     "name": "stdout",
     "output_type": "stream",
     "text": [
      "step610, loss = 5.297588348388672, real = 0.4336623549461365, fake = 0.34490132331848145 3.754669189453125\n",
      "step620, loss = 4.564990997314453, real = 0.4487153887748718, fake = 0.36396557092666626 3.6904735565185547\n",
      "step630, loss = 4.598910331726074, real = 0.40358203649520874, fake = 0.31767722964286804 3.8266735076904297\n",
      "step640, loss = 5.0322585105896, real = 0.44315463304519653, fake = 0.32276344299316406 3.8185086250305176\n",
      "step650, loss = 4.883848667144775, real = 0.40882205963134766, fake = 0.29980480670928955 3.8824782371520996\n",
      "step660, loss = 4.971554756164551, real = 0.41725999116897583, fake = 0.3074028193950653 3.85849666595459\n",
      "step670, loss = 4.886970043182373, real = 0.41314882040023804, fake = 0.3222559690475464 3.8166942596435547\n",
      "step680, loss = 4.723535537719727, real = 0.4168010354042053, fake = 0.3313390016555786 3.7907419204711914\n",
      "step690, loss = 5.528050422668457, real = 0.4273488223552704, fake = 0.3467331826686859 3.7464771270751953\n"
     ]
    },
    {
     "name": "stderr",
     "output_type": "stream",
     "text": [
      "Clipping input data to the valid range for imshow with RGB data ([0..1] for floats or [0..255] for integers).\n",
      "Clipping input data to the valid range for imshow with RGB data ([0..1] for floats or [0..255] for integers).\n",
      "Clipping input data to the valid range for imshow with RGB data ([0..1] for floats or [0..255] for integers).\n",
      "Clipping input data to the valid range for imshow with RGB data ([0..1] for floats or [0..255] for integers).\n"
     ]
    },
    {
     "name": "stdout",
     "output_type": "stream",
     "text": [
      "step700, loss = 4.734113693237305, real = 0.39880484342575073, fake = 0.318783700466156 3.8339028358459473\n"
     ]
    },
    {
     "name": "stderr",
     "output_type": "stream",
     "text": [
      "Clipping input data to the valid range for imshow with RGB data ([0..1] for floats or [0..255] for integers).\n",
      "Clipping input data to the valid range for imshow with RGB data ([0..1] for floats or [0..255] for integers).\n",
      "Clipping input data to the valid range for imshow with RGB data ([0..1] for floats or [0..255] for integers).\n",
      "Clipping input data to the valid range for imshow with RGB data ([0..1] for floats or [0..255] for integers).\n",
      "Clipping input data to the valid range for imshow with RGB data ([0..1] for floats or [0..255] for integers).\n",
      "Clipping input data to the valid range for imshow with RGB data ([0..1] for floats or [0..255] for integers).\n",
      "Clipping input data to the valid range for imshow with RGB data ([0..1] for floats or [0..255] for integers).\n",
      "Clipping input data to the valid range for imshow with RGB data ([0..1] for floats or [0..255] for integers).\n"
     ]
    },
    {
     "name": "stdout",
     "output_type": "stream",
     "text": [
      "step710, loss = 4.684882164001465, real = 0.40391647815704346, fake = 0.3206230700016022 3.8242526054382324\n",
      "step720, loss = 4.889098644256592, real = 0.3598445653915405, fake = 0.29093343019485474 3.9001684188842773\n",
      "step730, loss = 5.018164157867432, real = 0.3903980255126953, fake = 0.2910981774330139 3.9021151065826416\n",
      "step740, loss = 5.213455677032471, real = 0.35825115442276, fake = 0.2621305286884308 3.9961884021759033\n",
      "step750, loss = 4.85906982421875, real = 0.3550577163696289, fake = 0.29447412490844727 3.8986871242523193\n",
      "step760, loss = 4.880688667297363, real = 0.3372200131416321, fake = 0.2694511413574219 3.9773831367492676\n",
      "step770, loss = 4.9193830490112305, real = 0.3508087396621704, fake = 0.2763456106185913 3.948336124420166\n",
      "step780, loss = 4.817845344543457, real = 0.33431729674339294, fake = 0.2676096558570862 3.9685134887695312\n",
      "step790, loss = 5.300151824951172, real = 0.33535605669021606, fake = 0.26698777079582214 3.969174385070801\n"
     ]
    },
    {
     "name": "stderr",
     "output_type": "stream",
     "text": [
      "Clipping input data to the valid range for imshow with RGB data ([0..1] for floats or [0..255] for integers).\n",
      "Clipping input data to the valid range for imshow with RGB data ([0..1] for floats or [0..255] for integers).\n",
      "Clipping input data to the valid range for imshow with RGB data ([0..1] for floats or [0..255] for integers).\n",
      "Clipping input data to the valid range for imshow with RGB data ([0..1] for floats or [0..255] for integers).\n"
     ]
    },
    {
     "name": "stdout",
     "output_type": "stream",
     "text": [
      "step800, loss = 5.192968368530273, real = 0.2997039258480072, fake = 0.2421942949295044 4.05062198638916\n"
     ]
    },
    {
     "name": "stderr",
     "output_type": "stream",
     "text": [
      "Clipping input data to the valid range for imshow with RGB data ([0..1] for floats or [0..255] for integers).\n",
      "Clipping input data to the valid range for imshow with RGB data ([0..1] for floats or [0..255] for integers).\n",
      "Clipping input data to the valid range for imshow with RGB data ([0..1] for floats or [0..255] for integers).\n",
      "Clipping input data to the valid range for imshow with RGB data ([0..1] for floats or [0..255] for integers).\n",
      "Clipping input data to the valid range for imshow with RGB data ([0..1] for floats or [0..255] for integers).\n",
      "Clipping input data to the valid range for imshow with RGB data ([0..1] for floats or [0..255] for integers).\n",
      "Clipping input data to the valid range for imshow with RGB data ([0..1] for floats or [0..255] for integers).\n",
      "Clipping input data to the valid range for imshow with RGB data ([0..1] for floats or [0..255] for integers).\n"
     ]
    },
    {
     "name": "stdout",
     "output_type": "stream",
     "text": [
      "step810, loss = 4.900028228759766, real = 0.3030644357204437, fake = 0.2868976891040802 3.921473264694214\n",
      "step820, loss = 4.977704048156738, real = 0.292039692401886, fake = 0.246703639626503 4.036821365356445\n",
      "step830, loss = 4.777512550354004, real = 0.33330923318862915, fake = 0.3108152151107788 3.8415794372558594\n",
      "step840, loss = 5.051733493804932, real = 0.2704777121543884, fake = 0.24254633486270905 4.05197811126709\n",
      "step850, loss = 5.374502182006836, real = 0.3722721040248871, fake = 0.33593836426734924 3.776324510574341\n",
      "step860, loss = 5.190154075622559, real = 0.3773879110813141, fake = 0.328976571559906 3.794853925704956\n",
      "step870, loss = 4.738611221313477, real = 0.33107879757881165, fake = 0.30087989568710327 3.876315116882324\n",
      "step880, loss = 4.7778120040893555, real = 0.30006974935531616, fake = 0.2874155640602112 3.9158387184143066\n",
      "step890, loss = 5.299754619598389, real = 0.3719799518585205, fake = 0.333238422870636 3.7803523540496826\n"
     ]
    },
    {
     "name": "stderr",
     "output_type": "stream",
     "text": [
      "Clipping input data to the valid range for imshow with RGB data ([0..1] for floats or [0..255] for integers).\n",
      "Clipping input data to the valid range for imshow with RGB data ([0..1] for floats or [0..255] for integers).\n",
      "Clipping input data to the valid range for imshow with RGB data ([0..1] for floats or [0..255] for integers).\n",
      "Clipping input data to the valid range for imshow with RGB data ([0..1] for floats or [0..255] for integers).\n",
      "Clipping input data to the valid range for imshow with RGB data ([0..1] for floats or [0..255] for integers).\n"
     ]
    },
    {
     "name": "stdout",
     "output_type": "stream",
     "text": [
      "step900, loss = 4.777515411376953, real = 0.3536188006401062, fake = 0.3099755644798279 3.8487048149108887\n"
     ]
    },
    {
     "name": "stderr",
     "output_type": "stream",
     "text": [
      "Clipping input data to the valid range for imshow with RGB data ([0..1] for floats or [0..255] for integers).\n",
      "Clipping input data to the valid range for imshow with RGB data ([0..1] for floats or [0..255] for integers).\n",
      "Clipping input data to the valid range for imshow with RGB data ([0..1] for floats or [0..255] for integers).\n",
      "Clipping input data to the valid range for imshow with RGB data ([0..1] for floats or [0..255] for integers).\n",
      "Clipping input data to the valid range for imshow with RGB data ([0..1] for floats or [0..255] for integers).\n",
      "Clipping input data to the valid range for imshow with RGB data ([0..1] for floats or [0..255] for integers).\n",
      "Clipping input data to the valid range for imshow with RGB data ([0..1] for floats or [0..255] for integers).\n"
     ]
    },
    {
     "name": "stdout",
     "output_type": "stream",
     "text": [
      "step910, loss = 4.602598667144775, real = 0.36069148778915405, fake = 0.342979371547699 3.757103204727173\n",
      "step920, loss = 4.67011833190918, real = 0.41289660334587097, fake = 0.37900617718696594 3.6560049057006836\n",
      "step930, loss = 4.704113006591797, real = 0.4417024552822113, fake = 0.3842243552207947 3.632570743560791\n",
      "step940, loss = 4.919033050537109, real = 0.41744208335876465, fake = 0.37586677074432373 3.6605327129364014\n",
      "step950, loss = 4.586076259613037, real = 0.38984787464141846, fake = 0.3490312099456787 3.7311501502990723\n",
      "step960, loss = 4.685964107513428, real = 0.3817569315433502, fake = 0.32964929938316345 3.7887940406799316\n",
      "step970, loss = 4.720619201660156, real = 0.36569374799728394, fake = 0.32085707783699036 3.8151206970214844\n",
      "step980, loss = 4.6275739669799805, real = 0.37008145451545715, fake = 0.3219730257987976 3.8156049251556396\n",
      "step990, loss = 4.793763160705566, real = 0.3627987205982208, fake = 0.307280570268631 3.857816219329834\n"
     ]
    },
    {
     "name": "stderr",
     "output_type": "stream",
     "text": [
      "Clipping input data to the valid range for imshow with RGB data ([0..1] for floats or [0..255] for integers).\n",
      "Clipping input data to the valid range for imshow with RGB data ([0..1] for floats or [0..255] for integers).\n",
      "Clipping input data to the valid range for imshow with RGB data ([0..1] for floats or [0..255] for integers).\n",
      "Clipping input data to the valid range for imshow with RGB data ([0..1] for floats or [0..255] for integers).\n"
     ]
    },
    {
     "name": "stdout",
     "output_type": "stream",
     "text": [
      "step1000, loss = 4.741075038909912, real = 0.3459446132183075, fake = 0.295718789100647 3.884341239929199\n"
     ]
    },
    {
     "name": "stderr",
     "output_type": "stream",
     "text": [
      "Clipping input data to the valid range for imshow with RGB data ([0..1] for floats or [0..255] for integers).\n",
      "Clipping input data to the valid range for imshow with RGB data ([0..1] for floats or [0..255] for integers).\n",
      "Clipping input data to the valid range for imshow with RGB data ([0..1] for floats or [0..255] for integers).\n",
      "Clipping input data to the valid range for imshow with RGB data ([0..1] for floats or [0..255] for integers).\n",
      "Clipping input data to the valid range for imshow with RGB data ([0..1] for floats or [0..255] for integers).\n",
      "Clipping input data to the valid range for imshow with RGB data ([0..1] for floats or [0..255] for integers).\n",
      "Clipping input data to the valid range for imshow with RGB data ([0..1] for floats or [0..255] for integers).\n",
      "Clipping input data to the valid range for imshow with RGB data ([0..1] for floats or [0..255] for integers).\n"
     ]
    },
    {
     "name": "stdout",
     "output_type": "stream",
     "text": [
      "step1010, loss = 4.736208915710449, real = 0.35047343373298645, fake = 0.2996450364589691 3.8822810649871826\n",
      "step1020, loss = 4.76239013671875, real = 0.3440417945384979, fake = 0.30769309401512146 3.867401599884033\n",
      "step1030, loss = 4.912093162536621, real = 0.3475745916366577, fake = 0.2769848704338074 3.9429991245269775\n",
      "step1040, loss = 4.597616672515869, real = 0.32985401153564453, fake = 0.29039597511291504 3.90425968170166\n",
      "step1050, loss = 4.710021018981934, real = 0.32380837202072144, fake = 0.28291547298431396 3.933767318725586\n",
      "step1060, loss = 4.97341775894165, real = 0.31550341844558716, fake = 0.2697809934616089 3.9681649208068848\n",
      "step1070, loss = 5.542750358581543, real = 0.3192185163497925, fake = 0.26656582951545715 3.9772565364837646\n",
      "step1080, loss = 4.8635029792785645, real = 0.32382917404174805, fake = 0.2608603239059448 3.990596055984497\n",
      "step1090, loss = 5.703902244567871, real = 0.32628798484802246, fake = 0.27268102765083313 3.9660167694091797\n"
     ]
    },
    {
     "name": "stderr",
     "output_type": "stream",
     "text": [
      "Clipping input data to the valid range for imshow with RGB data ([0..1] for floats or [0..255] for integers).\n",
      "Clipping input data to the valid range for imshow with RGB data ([0..1] for floats or [0..255] for integers).\n",
      "Clipping input data to the valid range for imshow with RGB data ([0..1] for floats or [0..255] for integers).\n",
      "Clipping input data to the valid range for imshow with RGB data ([0..1] for floats or [0..255] for integers).\n",
      "Clipping input data to the valid range for imshow with RGB data ([0..1] for floats or [0..255] for integers).\n"
     ]
    },
    {
     "name": "stdout",
     "output_type": "stream",
     "text": [
      "step1100, loss = 5.551328659057617, real = 0.3150554895401001, fake = 0.2674272358417511 3.981184482574463\n"
     ]
    },
    {
     "name": "stderr",
     "output_type": "stream",
     "text": [
      "Clipping input data to the valid range for imshow with RGB data ([0..1] for floats or [0..255] for integers).\n",
      "Clipping input data to the valid range for imshow with RGB data ([0..1] for floats or [0..255] for integers).\n",
      "Clipping input data to the valid range for imshow with RGB data ([0..1] for floats or [0..255] for integers).\n",
      "Clipping input data to the valid range for imshow with RGB data ([0..1] for floats or [0..255] for integers).\n",
      "Clipping input data to the valid range for imshow with RGB data ([0..1] for floats or [0..255] for integers).\n",
      "Clipping input data to the valid range for imshow with RGB data ([0..1] for floats or [0..255] for integers).\n",
      "Clipping input data to the valid range for imshow with RGB data ([0..1] for floats or [0..255] for integers).\n"
     ]
    },
    {
     "name": "stdout",
     "output_type": "stream",
     "text": [
      "step1110, loss = 4.878593444824219, real = 0.30903494358062744, fake = 0.2593366503715515 4.005367279052734\n",
      "step1120, loss = 4.959413528442383, real = 0.2989664673805237, fake = 0.2596108317375183 3.999573230743408\n",
      "step1130, loss = 5.048002243041992, real = 0.2918047308921814, fake = 0.2562832534313202 4.014942169189453\n",
      "step1140, loss = 4.9298529624938965, real = 0.2974907159805298, fake = 0.2475689798593521 4.035821914672852\n",
      "step1150, loss = 4.702710151672363, real = 0.2714659571647644, fake = 0.25804534554481506 4.0067362785339355\n",
      "step1160, loss = 4.9278082847595215, real = 0.28817808628082275, fake = 0.24631699919700623 4.035312652587891\n",
      "step1170, loss = 4.774130344390869, real = 0.2914731502532959, fake = 0.2521311640739441 4.022239685058594\n",
      "step1180, loss = 4.851413726806641, real = 0.27833694219589233, fake = 0.25204581022262573 4.026635646820068\n",
      "step1190, loss = 4.846991062164307, real = 0.2872444689273834, fake = 0.23612971603870392 4.071826934814453\n"
     ]
    },
    {
     "name": "stderr",
     "output_type": "stream",
     "text": [
      "Clipping input data to the valid range for imshow with RGB data ([0..1] for floats or [0..255] for integers).\n",
      "Clipping input data to the valid range for imshow with RGB data ([0..1] for floats or [0..255] for integers).\n",
      "Clipping input data to the valid range for imshow with RGB data ([0..1] for floats or [0..255] for integers).\n",
      "Clipping input data to the valid range for imshow with RGB data ([0..1] for floats or [0..255] for integers).\n"
     ]
    },
    {
     "name": "stdout",
     "output_type": "stream",
     "text": [
      "step1200, loss = 4.94954776763916, real = 0.28512561321258545, fake = 0.25120997428894043 4.026043891906738\n"
     ]
    },
    {
     "name": "stderr",
     "output_type": "stream",
     "text": [
      "Clipping input data to the valid range for imshow with RGB data ([0..1] for floats or [0..255] for integers).\n",
      "Clipping input data to the valid range for imshow with RGB data ([0..1] for floats or [0..255] for integers).\n",
      "Clipping input data to the valid range for imshow with RGB data ([0..1] for floats or [0..255] for integers).\n",
      "Clipping input data to the valid range for imshow with RGB data ([0..1] for floats or [0..255] for integers).\n",
      "Clipping input data to the valid range for imshow with RGB data ([0..1] for floats or [0..255] for integers).\n",
      "Clipping input data to the valid range for imshow with RGB data ([0..1] for floats or [0..255] for integers).\n",
      "Clipping input data to the valid range for imshow with RGB data ([0..1] for floats or [0..255] for integers).\n",
      "Clipping input data to the valid range for imshow with RGB data ([0..1] for floats or [0..255] for integers).\n"
     ]
    },
    {
     "name": "stdout",
     "output_type": "stream",
     "text": [
      "step1210, loss = 5.173924922943115, real = 0.2713994085788727, fake = 0.23260626196861267 4.080171585083008\n",
      "step1220, loss = 4.841003894805908, real = 0.26630622148513794, fake = 0.23744268715381622 4.0690388679504395\n",
      "step1230, loss = 4.758195877075195, real = 0.25423625111579895, fake = 0.23993106186389923 4.060227870941162\n",
      "step1240, loss = 4.7997283935546875, real = 0.25934821367263794, fake = 0.2322830706834793 4.08839225769043\n",
      "step1250, loss = 5.542932510375977, real = 0.256608784198761, fake = 0.22398728132247925 4.105207443237305\n",
      "step1260, loss = 5.212320804595947, real = 0.2684934139251709, fake = 0.2293330430984497 4.094482421875\n",
      "step1270, loss = 5.109333038330078, real = 0.2791123390197754, fake = 0.21786201000213623 4.125204086303711\n",
      "step1280, loss = 5.098667144775391, real = 0.2764638662338257, fake = 0.23589003086090088 4.041987895965576\n",
      "step1290, loss = 4.847380638122559, real = 0.2600833773612976, fake = 0.24737682938575745 4.039507865905762\n"
     ]
    },
    {
     "name": "stderr",
     "output_type": "stream",
     "text": [
      "Clipping input data to the valid range for imshow with RGB data ([0..1] for floats or [0..255] for integers).\n",
      "Clipping input data to the valid range for imshow with RGB data ([0..1] for floats or [0..255] for integers).\n",
      "Clipping input data to the valid range for imshow with RGB data ([0..1] for floats or [0..255] for integers).\n",
      "Clipping input data to the valid range for imshow with RGB data ([0..1] for floats or [0..255] for integers).\n"
     ]
    },
    {
     "name": "stdout",
     "output_type": "stream",
     "text": [
      "step1300, loss = 5.127506732940674, real = 0.2855052053928375, fake = 0.2709505259990692 3.95951509475708\n"
     ]
    },
    {
     "name": "stderr",
     "output_type": "stream",
     "text": [
      "Clipping input data to the valid range for imshow with RGB data ([0..1] for floats or [0..255] for integers).\n",
      "Clipping input data to the valid range for imshow with RGB data ([0..1] for floats or [0..255] for integers).\n",
      "Clipping input data to the valid range for imshow with RGB data ([0..1] for floats or [0..255] for integers).\n",
      "Clipping input data to the valid range for imshow with RGB data ([0..1] for floats or [0..255] for integers).\n",
      "Clipping input data to the valid range for imshow with RGB data ([0..1] for floats or [0..255] for integers).\n",
      "Clipping input data to the valid range for imshow with RGB data ([0..1] for floats or [0..255] for integers).\n",
      "Clipping input data to the valid range for imshow with RGB data ([0..1] for floats or [0..255] for integers).\n",
      "Clipping input data to the valid range for imshow with RGB data ([0..1] for floats or [0..255] for integers).\n"
     ]
    },
    {
     "name": "stdout",
     "output_type": "stream",
     "text": [
      "step1310, loss = 5.888511657714844, real = 0.28720247745513916, fake = 0.24889767169952393 4.035026550292969\n",
      "step1320, loss = 4.753786563873291, real = 0.3063129186630249, fake = 0.2573097348213196 4.006155014038086\n",
      "step1330, loss = 5.393762588500977, real = 0.28009793162345886, fake = 0.24868109822273254 4.027557373046875\n",
      "step1340, loss = 5.2470784187316895, real = 0.25483438372612, fake = 0.24090340733528137 4.054660797119141\n",
      "step1350, loss = 5.347701072692871, real = 0.29433098435401917, fake = 0.2671130895614624 3.9782252311706543\n",
      "step1360, loss = 5.308117866516113, real = 0.23660863935947418, fake = 0.21620993316173553 4.135382175445557\n",
      "step1370, loss = 5.791293144226074, real = 0.27265140414237976, fake = 0.2540002465248108 4.017614364624023\n",
      "step1380, loss = 4.869422912597656, real = 0.2734094262123108, fake = 0.25908344984054565 4.002060890197754\n",
      "step1390, loss = 5.18183708190918, real = 0.25761133432388306, fake = 0.23662781715393066 4.071417808532715\n"
     ]
    },
    {
     "name": "stderr",
     "output_type": "stream",
     "text": [
      "Clipping input data to the valid range for imshow with RGB data ([0..1] for floats or [0..255] for integers).\n",
      "Clipping input data to the valid range for imshow with RGB data ([0..1] for floats or [0..255] for integers).\n",
      "Clipping input data to the valid range for imshow with RGB data ([0..1] for floats or [0..255] for integers).\n",
      "Clipping input data to the valid range for imshow with RGB data ([0..1] for floats or [0..255] for integers).\n"
     ]
    },
    {
     "name": "stdout",
     "output_type": "stream",
     "text": [
      "step1400, loss = 4.98268985748291, real = 0.2782531976699829, fake = 0.24633783102035522 4.040578365325928\n"
     ]
    },
    {
     "name": "stderr",
     "output_type": "stream",
     "text": [
      "Clipping input data to the valid range for imshow with RGB data ([0..1] for floats or [0..255] for integers).\n",
      "Clipping input data to the valid range for imshow with RGB data ([0..1] for floats or [0..255] for integers).\n",
      "Clipping input data to the valid range for imshow with RGB data ([0..1] for floats or [0..255] for integers).\n",
      "Clipping input data to the valid range for imshow with RGB data ([0..1] for floats or [0..255] for integers).\n",
      "Clipping input data to the valid range for imshow with RGB data ([0..1] for floats or [0..255] for integers).\n",
      "Clipping input data to the valid range for imshow with RGB data ([0..1] for floats or [0..255] for integers).\n",
      "Clipping input data to the valid range for imshow with RGB data ([0..1] for floats or [0..255] for integers).\n",
      "Clipping input data to the valid range for imshow with RGB data ([0..1] for floats or [0..255] for integers).\n"
     ]
    },
    {
     "name": "stdout",
     "output_type": "stream",
     "text": [
      "step1410, loss = 5.484790802001953, real = 0.2686184048652649, fake = 0.23713453114032745 4.067967891693115\n",
      "step1420, loss = 4.794429779052734, real = 0.2404361069202423, fake = 0.23554912209510803 4.075528621673584\n",
      "step1430, loss = 4.818111419677734, real = 0.24420326948165894, fake = 0.23633229732513428 4.072312831878662\n",
      "step1440, loss = 4.816096305847168, real = 0.26480743288993835, fake = 0.2340991497039795 4.077247619628906\n",
      "step1450, loss = 4.917437553405762, real = 0.25882086157798767, fake = 0.23511868715286255 4.0802788734436035\n",
      "step1460, loss = 4.9144697189331055, real = 0.24663591384887695, fake = 0.22912761569023132 4.0965447425842285\n",
      "step1470, loss = 4.926963806152344, real = 0.27889376878738403, fake = 0.23270979523658752 4.086644172668457\n",
      "step1480, loss = 5.617083549499512, real = 0.25515425205230713, fake = 0.22848814725875854 4.101828098297119\n",
      "step1490, loss = 4.885434150695801, real = 0.25504326820373535, fake = 0.22437380254268646 4.114107608795166\n"
     ]
    },
    {
     "name": "stderr",
     "output_type": "stream",
     "text": [
      "Clipping input data to the valid range for imshow with RGB data ([0..1] for floats or [0..255] for integers).\n",
      "Clipping input data to the valid range for imshow with RGB data ([0..1] for floats or [0..255] for integers).\n",
      "Clipping input data to the valid range for imshow with RGB data ([0..1] for floats or [0..255] for integers).\n",
      "Clipping input data to the valid range for imshow with RGB data ([0..1] for floats or [0..255] for integers).\n"
     ]
    },
    {
     "name": "stdout",
     "output_type": "stream",
     "text": [
      "step1500, loss = 5.263733863830566, real = 0.25782644748687744, fake = 0.22485241293907166 4.108425140380859\n"
     ]
    },
    {
     "name": "stderr",
     "output_type": "stream",
     "text": [
      "Clipping input data to the valid range for imshow with RGB data ([0..1] for floats or [0..255] for integers).\n",
      "Clipping input data to the valid range for imshow with RGB data ([0..1] for floats or [0..255] for integers).\n",
      "Clipping input data to the valid range for imshow with RGB data ([0..1] for floats or [0..255] for integers).\n",
      "Clipping input data to the valid range for imshow with RGB data ([0..1] for floats or [0..255] for integers).\n",
      "Clipping input data to the valid range for imshow with RGB data ([0..1] for floats or [0..255] for integers).\n",
      "Clipping input data to the valid range for imshow with RGB data ([0..1] for floats or [0..255] for integers).\n",
      "Clipping input data to the valid range for imshow with RGB data ([0..1] for floats or [0..255] for integers).\n",
      "Clipping input data to the valid range for imshow with RGB data ([0..1] for floats or [0..255] for integers).\n"
     ]
    },
    {
     "name": "stdout",
     "output_type": "stream",
     "text": [
      "step1510, loss = 5.010073661804199, real = 0.25554516911506653, fake = 0.21948611736297607 4.124898433685303\n",
      "step1520, loss = 4.878711223602295, real = 0.23728135228157043, fake = 0.2216678261756897 4.117844581604004\n",
      "step1530, loss = 4.839941501617432, real = 0.2344636619091034, fake = 0.22148266434669495 4.116520881652832\n",
      "step1540, loss = 4.992337226867676, real = 0.25390148162841797, fake = 0.2213543951511383 4.117001533508301\n",
      "step1550, loss = 4.883169651031494, real = 0.2383335530757904, fake = 0.21694521605968475 4.134033679962158\n",
      "step1560, loss = 4.7582807540893555, real = 0.24268481135368347, fake = 0.21732762455940247 4.135372161865234\n",
      "step1570, loss = 4.884175777435303, real = 0.24680958688259125, fake = 0.21596361696720123 4.1346282958984375\n",
      "step1580, loss = 4.762376308441162, real = 0.23917093873023987, fake = 0.21445509791374207 4.138117790222168\n",
      "step1590, loss = 4.83836555480957, real = 0.24517056345939636, fake = 0.21488016843795776 4.137424468994141\n"
     ]
    },
    {
     "name": "stderr",
     "output_type": "stream",
     "text": [
      "Clipping input data to the valid range for imshow with RGB data ([0..1] for floats or [0..255] for integers).\n",
      "Clipping input data to the valid range for imshow with RGB data ([0..1] for floats or [0..255] for integers).\n",
      "Clipping input data to the valid range for imshow with RGB data ([0..1] for floats or [0..255] for integers).\n",
      "Clipping input data to the valid range for imshow with RGB data ([0..1] for floats or [0..255] for integers).\n"
     ]
    },
    {
     "name": "stdout",
     "output_type": "stream",
     "text": [
      "step1600, loss = 4.782283782958984, real = 0.24831175804138184, fake = 0.20754876732826233 4.16251277923584\n"
     ]
    },
    {
     "name": "stderr",
     "output_type": "stream",
     "text": [
      "Clipping input data to the valid range for imshow with RGB data ([0..1] for floats or [0..255] for integers).\n",
      "Clipping input data to the valid range for imshow with RGB data ([0..1] for floats or [0..255] for integers).\n",
      "Clipping input data to the valid range for imshow with RGB data ([0..1] for floats or [0..255] for integers).\n",
      "Clipping input data to the valid range for imshow with RGB data ([0..1] for floats or [0..255] for integers).\n",
      "Clipping input data to the valid range for imshow with RGB data ([0..1] for floats or [0..255] for integers).\n",
      "Clipping input data to the valid range for imshow with RGB data ([0..1] for floats or [0..255] for integers).\n",
      "Clipping input data to the valid range for imshow with RGB data ([0..1] for floats or [0..255] for integers).\n",
      "Clipping input data to the valid range for imshow with RGB data ([0..1] for floats or [0..255] for integers).\n"
     ]
    },
    {
     "name": "stdout",
     "output_type": "stream",
     "text": [
      "step1610, loss = 4.846540927886963, real = 0.231346994638443, fake = 0.21102739870548248 4.151795387268066\n",
      "step1620, loss = 4.828451633453369, real = 0.2275650054216385, fake = 0.2132035493850708 4.147123336791992\n",
      "step1630, loss = 4.960625648498535, real = 0.24202802777290344, fake = 0.21268415451049805 4.1455559730529785\n",
      "step1640, loss = 5.054361820220947, real = 0.24085025489330292, fake = 0.2128850668668747 4.145515441894531\n",
      "step1650, loss = 5.040189743041992, real = 0.2557114064693451, fake = 0.21085861325263977 4.14971399307251\n",
      "step1660, loss = 4.797055244445801, real = 0.2132059633731842, fake = 0.20465116202831268 4.163815498352051\n",
      "step1670, loss = 5.108434677124023, real = 0.23447474837303162, fake = 0.20759090781211853 4.162554740905762\n",
      "step1680, loss = 4.757354736328125, real = 0.2342328578233719, fake = 0.20849010348320007 4.160567283630371\n",
      "step1690, loss = 4.891550064086914, real = 0.22855667769908905, fake = 0.2068076729774475 4.168038845062256\n"
     ]
    },
    {
     "name": "stderr",
     "output_type": "stream",
     "text": [
      "Clipping input data to the valid range for imshow with RGB data ([0..1] for floats or [0..255] for integers).\n",
      "Clipping input data to the valid range for imshow with RGB data ([0..1] for floats or [0..255] for integers).\n",
      "Clipping input data to the valid range for imshow with RGB data ([0..1] for floats or [0..255] for integers).\n",
      "Clipping input data to the valid range for imshow with RGB data ([0..1] for floats or [0..255] for integers).\n"
     ]
    },
    {
     "name": "stdout",
     "output_type": "stream",
     "text": [
      "step1700, loss = 4.6792426109313965, real = 0.22545002400875092, fake = 0.21217508614063263 4.148627281188965\n"
     ]
    },
    {
     "name": "stderr",
     "output_type": "stream",
     "text": [
      "Clipping input data to the valid range for imshow with RGB data ([0..1] for floats or [0..255] for integers).\n",
      "Clipping input data to the valid range for imshow with RGB data ([0..1] for floats or [0..255] for integers).\n",
      "Clipping input data to the valid range for imshow with RGB data ([0..1] for floats or [0..255] for integers).\n",
      "Clipping input data to the valid range for imshow with RGB data ([0..1] for floats or [0..255] for integers).\n",
      "Clipping input data to the valid range for imshow with RGB data ([0..1] for floats or [0..255] for integers).\n",
      "Clipping input data to the valid range for imshow with RGB data ([0..1] for floats or [0..255] for integers).\n",
      "Clipping input data to the valid range for imshow with RGB data ([0..1] for floats or [0..255] for integers).\n",
      "Clipping input data to the valid range for imshow with RGB data ([0..1] for floats or [0..255] for integers).\n"
     ]
    }
   ],
   "source": [
    "optimizer = torch.optim.Adam(model_origin.parameters(), lr=0.001)\n",
    "\n",
    "import datetime\n",
    "dateTimeObj = datetime.datetime.now()\n",
    "timestampStr = dateTimeObj.strftime(\"%d_%b_%Y_%H_%M\")\n",
    "if timestampStr not in os.listdir(\"../data/model/\"):\n",
    "    os.mkdir(\"../data/model/\"+timestampStr)\n",
    "\n",
    "for epoch in range(1, epochs+1):\n",
    "    epoch_loss = train(model=model_origin, discnet=netD, train_loader=trainloader, epochnow=epoch)\n",
    "    print(\"[Epoch {}] loss:{}\".format(epoch, epoch_loss))\n",
    "    torch.save(model_origin.state_dict(), \"../data/model/\" + timestampStr + \"/new_stepwise_ep{}.pt\".format(epoch))\n",
    "    torch.save(netD.state_dict(), \"../data/model/\" + timestampStr + \"/new_discnet_ep{}.pt\".format(epoch))"
   ]
  },
  {
   "cell_type": "code",
   "execution_count": null,
   "id": "5cc3cb21",
   "metadata": {},
   "outputs": [],
   "source": [
    "plt.plot(loss_history)\n",
    "plt.show()\n",
    "torch.cuda.empty_cache()"
   ]
  },
  {
   "cell_type": "code",
   "execution_count": null,
   "id": "1e8922dd",
   "metadata": {},
   "outputs": [],
   "source": [
    "# torch.cuda.empty_cache()\n",
    "# model_origin = StepAE().to(device)\n",
    "# model_origin.load_state_dict(torch.load(\"cifar10.pt\"))\n",
    "model_origin.eval()"
   ]
  },
  {
   "cell_type": "markdown",
   "id": "5078dbc5",
   "metadata": {},
   "source": [
    "# Visualize"
   ]
  },
  {
   "cell_type": "code",
   "execution_count": null,
   "id": "596a301f",
   "metadata": {},
   "outputs": [],
   "source": [
    "model_origin = StepAE().to(device)\n",
    "model_origin.load_state_dict(torch.load(\"../data/model/27_May_2022_18_52/new_stepwise_ep5.pt\"))\n",
    "model_origin.eval()"
   ]
  }
 ],
 "metadata": {
  "interpreter": {
   "hash": "2c7630e42c07fc97b7bdd3b961f12b9f6f566b7756c390ffd7b074a3a9c10baf"
  },
  "kernelspec": {
   "display_name": "Python 3.9.11 ('torch')",
   "language": "python",
   "name": "python3"
  },
  "language_info": {
   "codemirror_mode": {
    "name": "ipython",
    "version": 3
   },
   "file_extension": ".py",
   "mimetype": "text/x-python",
   "name": "python",
   "nbconvert_exporter": "python",
   "pygments_lexer": "ipython3",
   "version": "3.9.11"
  }
 },
 "nbformat": 4,
 "nbformat_minor": 5
}
