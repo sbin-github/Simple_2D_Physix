{
 "cells": [
  {
   "cell_type": "code",
   "execution_count": 3,
   "id": "b31499d1",
   "metadata": {},
   "outputs": [
    {
     "ename": "ModuleNotFoundError",
     "evalue": "No module named 'torch'",
     "output_type": "error",
     "traceback": [
      "\u001b[0;31m---------------------------------------------------------------------------\u001b[0m",
      "\u001b[0;31mModuleNotFoundError\u001b[0m                       Traceback (most recent call last)",
      "Input \u001b[0;32mIn [3]\u001b[0m, in \u001b[0;36m<cell line: 1>\u001b[0;34m()\u001b[0m\n\u001b[0;32m----> 1\u001b[0m \u001b[38;5;28;01mimport\u001b[39;00m \u001b[38;5;21;01mtorch\u001b[39;00m\n\u001b[1;32m      2\u001b[0m \u001b[38;5;28;01mimport\u001b[39;00m \u001b[38;5;21;01mtorchvision\u001b[39;00m\n\u001b[1;32m      3\u001b[0m \u001b[38;5;28;01mimport\u001b[39;00m \u001b[38;5;21;01mtorch\u001b[39;00m\u001b[38;5;21;01m.\u001b[39;00m\u001b[38;5;21;01mnn\u001b[39;00m\u001b[38;5;21;01m.\u001b[39;00m\u001b[38;5;21;01mfunctional\u001b[39;00m \u001b[38;5;28;01mas\u001b[39;00m \u001b[38;5;21;01mF\u001b[39;00m\n",
      "\u001b[0;31mModuleNotFoundError\u001b[0m: No module named 'torch'"
     ]
    }
   ],
   "source": [
    "import torch\n",
    "import torchvision\n",
    "import torch.nn.functional as F\n",
    "from torch import nn, optim\n",
    "from torchvision import transforms, datasets\n",
    "from torch.utils.data import DataLoader\n",
    "\n",
    "import matplotlib.pyplot as plt\n",
    "import numpy as np\n",
    "from random import randrangeD\n",
    "# from torchsummary import summary\n",
    "import os\n",
    "import datetime\n",
    "\n",
    "import sys\n",
    "os.environ['CUDA_LAUNCH_BLOCKING'] = \"1\"\n",
    "\n",
    "from CoordConvModule import *"
   ]
  },
  {
   "cell_type": "code",
   "execution_count": 1,
   "id": "c07c781d",
   "metadata": {},
   "outputs": [
    {
     "ename": "NameError",
     "evalue": "name 'os' is not defined",
     "output_type": "error",
     "traceback": [
      "\u001b[0;31m---------------------------------------------------------------------------\u001b[0m",
      "\u001b[0;31mNameError\u001b[0m                                 Traceback (most recent call last)",
      "Input \u001b[0;32mIn [1]\u001b[0m, in \u001b[0;36m<cell line: 4>\u001b[0;34m()\u001b[0m\n\u001b[1;32m      2\u001b[0m dateTimeObj \u001b[38;5;241m=\u001b[39m datetime\u001b[38;5;241m.\u001b[39mdatetime\u001b[38;5;241m.\u001b[39mnow()\n\u001b[1;32m      3\u001b[0m timestampStr \u001b[38;5;241m=\u001b[39m \u001b[38;5;124m\"\u001b[39m\u001b[38;5;124mDeeper_\u001b[39m\u001b[38;5;124m\"\u001b[39m \u001b[38;5;241m+\u001b[39m dateTimeObj\u001b[38;5;241m.\u001b[39mstrftime(\u001b[38;5;124m\"\u001b[39m\u001b[38;5;132;01m%d\u001b[39;00m\u001b[38;5;124m_\u001b[39m\u001b[38;5;124m%\u001b[39m\u001b[38;5;124mb_\u001b[39m\u001b[38;5;124m%\u001b[39m\u001b[38;5;124mY_\u001b[39m\u001b[38;5;124m%\u001b[39m\u001b[38;5;124mH_\u001b[39m\u001b[38;5;124m%\u001b[39m\u001b[38;5;124mM\u001b[39m\u001b[38;5;124m\"\u001b[39m)\n\u001b[0;32m----> 4\u001b[0m \u001b[38;5;28;01mif\u001b[39;00m timestampStr \u001b[38;5;129;01mnot\u001b[39;00m \u001b[38;5;129;01min\u001b[39;00m \u001b[43mos\u001b[49m\u001b[38;5;241m.\u001b[39mlistdir(\u001b[38;5;124m\"\u001b[39m\u001b[38;5;124m../data/model/\u001b[39m\u001b[38;5;124m\"\u001b[39m):\n\u001b[1;32m      5\u001b[0m     os\u001b[38;5;241m.\u001b[39mmkdir(\u001b[38;5;124m\"\u001b[39m\u001b[38;5;124m../data/model/\u001b[39m\u001b[38;5;124m\"\u001b[39m\u001b[38;5;241m+\u001b[39mtimestampStr)\n",
      "\u001b[0;31mNameError\u001b[0m: name 'os' is not defined"
     ]
    }
   ],
   "source": [
    "import datetime\n",
    "dateTimeObj = datetime.datetime.now()\n",
    "timestampStr = \"Deeper_\" + dateTimeObj.strftime(\"%d_%b_%Y_%H_%M\")\n",
    "if timestampStr not in os.listdir(\"../data/model/\"):\n",
    "    os.mkdir(\"../data/model/\"+timestampStr)"
   ]
  },
  {
   "cell_type": "code",
   "execution_count": 2,
   "id": "bab6210f",
   "metadata": {},
   "outputs": [],
   "source": [
    "epochs = 1000\n",
    "batch_size = 256\n",
    "device = torch.device(\"cuda\" if torch.cuda.is_available() else \"cpu\")"
   ]
  },
  {
   "cell_type": "code",
   "execution_count": 3,
   "id": "550f8561",
   "metadata": {},
   "outputs": [],
   "source": [
    "trainset = torch.load('../data/dataset_10steps.pt')"
   ]
  },
  {
   "cell_type": "code",
   "execution_count": 4,
   "id": "1d140115",
   "metadata": {},
   "outputs": [],
   "source": [
    "trainloader = DataLoader(trainset, batch_size=batch_size, shuffle=True)"
   ]
  },
  {
   "cell_type": "code",
   "execution_count": 5,
   "id": "8445967f",
   "metadata": {},
   "outputs": [],
   "source": [
    "class Autoencoder(nn.Module):\n",
    "    def __init__(self):\n",
    "        super(Autoencoder, self).__init__()\n",
    "        # Input size: [batch, 3, 100, 100]\n",
    "        # Output size: [batch, 3, 100, 100]\n",
    "        self.encoder = nn.Sequential(\n",
    "            CoordConv(3, 64, kernel_size = 1, stride=1),\n",
    "            nn.Conv2d(64, 64, kernel_size = 5, stride=1, padding=1),\n",
    "            # nn.BatchNorm2d(32),\n",
    "            nn.LeakyReLU(),\n",
    "            nn.Conv2d(64, 64, 7, stride=1, padding=1),\n",
    "            # nn.BatchNorm2d(32),\n",
    "            nn.LeakyReLU(),\n",
    "        )\n",
    "        self.decoder = nn.Sequential(\n",
    "            nn.ConvTranspose2d(64, 64, 7, stride=1, padding=1),\n",
    "            nn.LeakyReLU(),\n",
    "            nn.ConvTranspose2d(64, 64, 5, stride=1, padding=1),\n",
    "            nn.LeakyReLU(),\n",
    "            nn.Conv2d(64, 3, 1, stride=1)\n",
    "        )\n",
    "\n",
    "    def forward(self, x):\n",
    "        # print(x.size())\n",
    "        # wall = x[:, -1]\n",
    "        # print(wall.size())\n",
    "        x = self.encoder(x)\n",
    "        x = self.decoder(x)\n",
    "        # print(x.size())\n",
    "        # x = torch.cat((x, wall.reshape(len(x), 1, width_fig, width_fig)), 1)\n",
    "        # print(x.size())\n",
    "        return x"
   ]
  },
  {
   "cell_type": "code",
   "execution_count": 6,
   "id": "e1bb0536",
   "metadata": {},
   "outputs": [],
   "source": [
    "class Discriminator(nn.Module):\n",
    "    def __init__(self):\n",
    "        super().__init__()\n",
    "        self.conv1 = nn.Conv2d(3, 6, 9, stride=2)\n",
    "        self.pool = nn.MaxPool2d(2, 2)\n",
    "        self.conv2 = nn.Conv2d(6, 8, 7, stride=2)\n",
    "        self.pool = nn.MaxPool2d(2, 2)\n",
    "        self.dropout = nn.Dropout()\n",
    "        self.fc1 = nn.Linear(128, 32)\n",
    "        self.fc2 = nn.Linear(32, 1)\n",
    "\n",
    "    def forward(self, x):\n",
    "        # print(x.size())\n",
    "        x = self.pool(F.relu(self.conv1(x)))\n",
    "        # print(x.size())\n",
    "        x = self.pool(F.relu(self.conv2(x)))\n",
    "        # print(x.size())\n",
    "        x = torch.flatten(x, start_dim=1) # flatten all dimensions except batch\n",
    "        # print(x.size())\n",
    "        x = F.relu(self.fc1(x))\n",
    "        x = self.dropout(x)\n",
    "        # print(x.size())\n",
    "        x = F.sigmoid(self.fc2(x))\n",
    "        # print(x.size())\n",
    "        return x"
   ]
  },
  {
   "cell_type": "code",
   "execution_count": 7,
   "id": "138224bd",
   "metadata": {},
   "outputs": [],
   "source": [
    "class StepAE(nn.Module):\n",
    "    def __init__(self):\n",
    "        \"\"\"Variational Auto-Encoder Class\"\"\"\n",
    "        super(StepAE, self).__init__()\n",
    "        \n",
    "        self.enc = Autoencoder()\n",
    "\n",
    "    def step(self, x): # For actual run after training\n",
    "        x = self.enc(x)\n",
    "        return x\n",
    "\n",
    "    def forward(self, x): # For training\n",
    "        # Encode x to z\n",
    "        recon1 = self.enc(x)\n",
    "        recon2 = self.enc(recon1)\n",
    "        recon3 = self.enc(recon2)\n",
    "        recon4 = self.enc(recon3)\n",
    "        # recon5 = self.enc(recon4)\n",
    "        \n",
    "        return recon1, recon2, recon3, recon4"
   ]
  },
  {
   "cell_type": "markdown",
   "id": "8f916064",
   "metadata": {},
   "source": [
    "# Training"
   ]
  },
  {
   "cell_type": "code",
   "execution_count": 8,
   "id": "a324c19a",
   "metadata": {},
   "outputs": [],
   "source": [
    "disc_history_real = []\n",
    "disc_history_fake = []\n",
    "rme_history = []"
   ]
  },
  {
   "cell_type": "code",
   "execution_count": 9,
   "id": "6cd25f8c",
   "metadata": {},
   "outputs": [],
   "source": [
    "# https://uos-deep-learning.tistory.com/16\n",
    "def calc_gradient_penalty(netD, real_data, generated_data):\n",
    "    # GP strength\n",
    "    LAMBDA = 3\n",
    "\n",
    "    b_size = real_data.size()[0]\n",
    "\n",
    "    # Calculate interpolation\n",
    "    alpha = torch.rand(b_size, 1, 1, 1)\n",
    "    alpha = alpha.expand_as(real_data)\n",
    "    alpha = alpha.cuda()\n",
    "\n",
    "    interpolated = alpha * real_data.data + (1 - alpha) * generated_data.data\n",
    "    interpolated = torch.autograd.Variable(interpolated, requires_grad=True)\n",
    "    interpolated = interpolated.cuda()\n",
    "\n",
    "    # Calculate probability of interpolated examples\n",
    "    prob_interpolated = netD(interpolated)\n",
    "\n",
    "    # Calculate gradients of probabilities with respect to examples\n",
    "    gradients = torch.autograd.grad(outputs=prob_interpolated, inputs=interpolated,\n",
    "                           grad_outputs=torch.ones(prob_interpolated.size()).cuda(),\n",
    "                           create_graph=True, retain_graph=True)[0]\n",
    "\n",
    "    # Gradients have shape (batch_size, num_channels, img_width, img_height),\n",
    "    # so flatten to easily take norm per example in batch\n",
    "    gradients = gradients.view(b_size, -1)\n",
    "\n",
    "    # Derivatives of the gradient close to 0 can cause problems because of\n",
    "    # the square root, so manually calculate norm and add epsilon\n",
    "    gradients_norm = torch.sqrt(torch.sum(gradients ** 2, dim=1) + 1e-12)\n",
    "\n",
    "    # Return gradient penalty\n",
    "    return LAMBDA * ((gradients_norm - 1) ** 2).mean()"
   ]
  },
  {
   "cell_type": "code",
   "execution_count": 10,
   "id": "a2d4fb88",
   "metadata": {},
   "outputs": [],
   "source": [
    "def train(model, discnet, train_loader, epochnow):\n",
    "    model.train()\n",
    "    discnet.train()\n",
    "    avg_loss = 0\n",
    "    for step, (x0, _, x1, _, x2, _, x3, _, x4, _) in enumerate(train_loader):\n",
    "        # noisy_x = x + train_noise_level * torch.randn(*x.shape)\n",
    "        # noisy_x = np.clip(noisy_x, 0., 1.)\n",
    "        del _\n",
    "\n",
    "        x0 = x0.permute(0, 3, 1, 2)\n",
    "        x1 = x1.permute(0, 3, 1, 2)\n",
    "        x2 = x2.permute(0, 3, 1, 2)\n",
    "        x3 = x3.permute(0, 3, 1, 2)\n",
    "        x4 = x4.permute(0, 3, 1, 2)\n",
    "\n",
    "        ############################\n",
    "        # (1) Update D network: maximize log(D(x)) + log(1 - D(G(z))\n",
    "        # model.eval()\n",
    "        discnet.train()\n",
    "        discnet.zero_grad()\n",
    "        optimizerD.zero_grad()\n",
    "        r1, r2, r3, r4 = model(x0.cuda())\n",
    "        \n",
    "        # All real\n",
    "        label_size = x1.size(0)\n",
    "        real_label = 1\n",
    "        label = torch.full((label_size,), real_label, dtype=torch.float, device=device)       \n",
    "        for idx, x_ in enumerate([x1, x2, x3, x4]):\n",
    "            output = discnet(x_.cuda()).view(-1)\n",
    "            if idx == 0:\n",
    "                errD_real = criterionD(output, label)\n",
    "            else:\n",
    "                errD_real += criterionD(output, label)\n",
    "        errD_real.backward()\n",
    "        out_real = output.detach().cpu().numpy()\n",
    "\n",
    "        # All fake\n",
    "        fake_label = 0\n",
    "        label.fill_(fake_label)\n",
    "        for idx, r_ in enumerate([r1, r2, r3, r4]):\n",
    "            output = discnet(r_.detach().contiguous()).view(-1)\n",
    "            if idx == 0:\n",
    "                errD_fake = criterionD(output, label)\n",
    "            else:\n",
    "                errD_fake += criterionD(output, label)\n",
    "        errD_fake.backward()\n",
    "\n",
    "        grad_penalty = calc_gradient_penalty(netD, x1.cuda(), r1)\n",
    "        grad_penalty += calc_gradient_penalty(netD, x2.cuda(), r2)\n",
    "        grad_penalty += calc_gradient_penalty(netD, x3.cuda(), r3)\n",
    "        grad_penalty += calc_gradient_penalty(netD, x4.cuda(), r4)\n",
    "        grad_penalty = 1*grad_penalty\n",
    "        grad_penalty.backward()\n",
    "\n",
    "        optimizerD.step()\n",
    "        del r1, r2, r3, r4\n",
    "\n",
    "        ############################\n",
    "        # (2) Update G network: maximize log(D(G(z)))\n",
    "        ###########################\n",
    "        # model.train()\n",
    "        discnet.eval()\n",
    "        optimizer.zero_grad()\n",
    "        model.zero_grad()\n",
    "\n",
    "        r1, r2, r3, r4 = model(x0.cuda())\n",
    "        label.fill_(real_label)\n",
    "        for idx, r_ in enumerate([r1, r2, r3, r4]):\n",
    "            output = discnet(r_.detach().contiguous()).view(-1)\n",
    "            if idx == 0:\n",
    "                errG = criterionD(output, label)\n",
    "            else:\n",
    "                errG += (idx+1)*criterionD(output, label)\n",
    "\n",
    "        loss1 = criterion(r1, x1.cuda())\n",
    "        loss2 = 2*criterion(r2, x2.cuda())\n",
    "        loss3 = 3*criterion(r3, x3.cuda())\n",
    "        loss4 = 4*criterion(r4, x4.cuda())\n",
    "        # loss5 = criterion(r5, x5.cuda())\n",
    "        loss = 10*(loss1 + loss2 + loss3 + loss4) + errG\n",
    "        \n",
    "        del x0, x1, x2, x3, x4, r1, r2, r3, r4\n",
    "\n",
    "        optimizer.zero_grad()\n",
    "        loss.backward()\n",
    "        optimizer.step()\n",
    "        \n",
    "        avg_loss += loss.item()\n",
    "        loss_history.append(loss.item())\n",
    "\n",
    "        if step%10 == 0:\n",
    "            print(\"step{}, loss = {}, real = {}, fake = {}\".format(step, loss, np.mean(out_real), (output.mean().item())), errG.mean().item())\n",
    "            disc_history_real.append([out_real])\n",
    "            disc_history_fake.append([output.detach().cpu().numpy()])\n",
    "\n",
    "        if step%100 == 0:\n",
    "            # sys.stdout = open(os.devnull, 'w')\n",
    "            figplot(epochnow, step)\n",
    "            torch.save(model_origin.state_dict(), \"../data/model/\" + timestampStr + \"/CConv_stepwise_ep{}_{}.pt\".format(epochnow, step))\n",
    "            torch.save(netD.state_dict(), \"../data/model/\" + timestampStr + \"/CConv_discnet_ep{}_{}.pt\".format(epochnow, step))\n",
    "            torch.save(model_origin.state_dict(), \"latest_deeper_net.pt\".format(epochnow, step))\n",
    "            torch.save(netD.state_dict(), \"latest_deeper_disc.pt\".format(epochnow, step))\n",
    "            np.save(\"../data/model/\" + timestampStr +\"/disc_history_fake\", disc_history_fake)\n",
    "            np.save(\"../data/model/\" + timestampStr +\"/disc_history_real\", disc_history_real)\n",
    "            np.save(\"../data/model/\" + timestampStr +\"/loss_history\", loss_history)\n",
    "            # sys.stdout = sys.__stdout__\n",
    "\n",
    "    return avg_loss / len(train_loader)"
   ]
  },
  {
   "cell_type": "code",
   "execution_count": 11,
   "id": "7fb374ab",
   "metadata": {},
   "outputs": [],
   "source": [
    "netD = Discriminator().to(device)\n",
    "optimizerD = optim.Adam(netD.parameters(), lr=0.0001)\n",
    "criterionD = nn.BCEWithLogitsLoss()"
   ]
  },
  {
   "cell_type": "code",
   "execution_count": 12,
   "id": "a218858b",
   "metadata": {},
   "outputs": [],
   "source": [
    "model_origin = StepAE().to(device)\n",
    "# model_origin.load_state_dict(torch.load(\"Deeper_net.pt\"))\n",
    "criterion = nn.MSELoss()\n",
    "loss_history = []"
   ]
  },
  {
   "cell_type": "code",
   "execution_count": 13,
   "id": "a513d8ee",
   "metadata": {},
   "outputs": [],
   "source": [
    "oneloader = DataLoader(trainset, batch_size=1, shuffle=True)\n",
    "torch.cuda.empty_cache()\n",
    "\n",
    "def figplot(epochnow, step):\n",
    "    model_origin.eval()\n",
    "    dataiter = iter(oneloader)\n",
    "    images, *_ = dataiter.next()\n",
    "    del _\n",
    "\n",
    "    recon, *_ = model_origin(images.permute(0, 3, 1, 2).cuda())\n",
    "\n",
    "    del _\n",
    "    torch.cuda.empty_cache()\n",
    "    # get sample outputs\n",
    "\n",
    "    steps = 100\n",
    "    skip = int(steps/10)\n",
    "    plt.figure(figsize=(6, 20))\n",
    "    ii = 0\n",
    "    for i in range(steps):\n",
    "        recon, *_ = model_origin(recon)\n",
    "        del _\n",
    "        \n",
    "        if i%skip == 0:\n",
    "            ii+=1\n",
    "            ax = plt.subplot(10, 1, ii + 0)\n",
    "            # print(i)\n",
    "            # output is resized into a batch of iages\n",
    "            # use detach when it's an output that requires_grad\n",
    "            output = recon.detach().view(1, 3, 100, 100).cpu()[0].permute(1, 2, 0)\n",
    "            # print(output.min(), output.max())\n",
    "            plt.imshow(output)\n",
    "            ax.get_xaxis().set_visible(False)\n",
    "            ax.get_yaxis().set_visible(False)\n",
    "            del output\n",
    "            torch.cuda.empty_cache()\n",
    "    plt.savefig(\"../data/model/\"+timestampStr+\"/fig_{}_{}.png\".format(epochnow, step))\n",
    "    torch.save(images, \"../data/model/\"+timestampStr+\"/input_{}_{}.pt\".format(epochnow,step))\n",
    "    del images\n",
    "    del recon\n",
    "    del dataiter"
   ]
  },
  {
   "cell_type": "code",
   "execution_count": 14,
   "id": "1e091ac9",
   "metadata": {
    "scrolled": false
   },
   "outputs": [
    {
     "name": "stderr",
     "output_type": "stream",
     "text": [
      "c:\\Users\\sbin_LAB\\.conda\\envs\\torch\\lib\\site-packages\\torch\\nn\\functional.py:1806: UserWarning: nn.functional.sigmoid is deprecated. Use torch.sigmoid instead.\n",
      "  warnings.warn(\"nn.functional.sigmoid is deprecated. Use torch.sigmoid instead.\")\n",
      "Clipping input data to the valid range for imshow with RGB data ([0..1] for floats or [0..255] for integers).\n",
      "Clipping input data to the valid range for imshow with RGB data ([0..1] for floats or [0..255] for integers).\n"
     ]
    },
    {
     "name": "stdout",
     "output_type": "stream",
     "text": [
      "step0, loss = 8.146778106689453, real = 0.5237764120101929, fake = 0.5236799120903015 4.651943206787109\n"
     ]
    },
    {
     "name": "stderr",
     "output_type": "stream",
     "text": [
      "Clipping input data to the valid range for imshow with RGB data ([0..1] for floats or [0..255] for integers).\n",
      "Clipping input data to the valid range for imshow with RGB data ([0..1] for floats or [0..255] for integers).\n",
      "Clipping input data to the valid range for imshow with RGB data ([0..1] for floats or [0..255] for integers).\n",
      "Clipping input data to the valid range for imshow with RGB data ([0..1] for floats or [0..255] for integers).\n",
      "Clipping input data to the valid range for imshow with RGB data ([0..1] for floats or [0..255] for integers).\n",
      "Clipping input data to the valid range for imshow with RGB data ([0..1] for floats or [0..255] for integers).\n",
      "Clipping input data to the valid range for imshow with RGB data ([0..1] for floats or [0..255] for integers).\n",
      "Clipping input data to the valid range for imshow with RGB data ([0..1] for floats or [0..255] for integers).\n"
     ]
    },
    {
     "name": "stdout",
     "output_type": "stream",
     "text": [
      "step10, loss = 6.9983367919921875, real = 0.5219845771789551, fake = 0.518273115158081 4.6730756759643555\n",
      "step20, loss = 6.223796367645264, real = 0.5137369632720947, fake = 0.5150071382522583 4.684863567352295\n",
      "step30, loss = 6.395179748535156, real = 0.511593222618103, fake = 0.5118033289909363 4.697489261627197\n",
      "step40, loss = 6.892699718475342, real = 0.49617207050323486, fake = 0.4958575963973999 4.757315635681152\n",
      "step50, loss = 6.48932409286499, real = 0.47917017340660095, fake = 0.4810059368610382 4.8139214515686035\n",
      "step60, loss = 8.451725959777832, real = 0.45389074087142944, fake = 0.4629594683647156 4.883194923400879\n",
      "step70, loss = 8.367746353149414, real = 0.439695805311203, fake = 0.4422540068626404 4.969286918640137\n",
      "step80, loss = 6.677439212799072, real = 0.4618173837661743, fake = 0.4605749547481537 4.894329071044922\n",
      "step90, loss = 6.544144630432129, real = 0.4595450162887573, fake = 0.456278920173645 4.9096999168396\n"
     ]
    },
    {
     "name": "stderr",
     "output_type": "stream",
     "text": [
      "Clipping input data to the valid range for imshow with RGB data ([0..1] for floats or [0..255] for integers).\n",
      "Clipping input data to the valid range for imshow with RGB data ([0..1] for floats or [0..255] for integers).\n"
     ]
    },
    {
     "name": "stdout",
     "output_type": "stream",
     "text": [
      "step100, loss = 7.647602081298828, real = 0.44221562147140503, fake = 0.45246434211730957 4.923210144042969\n"
     ]
    },
    {
     "name": "stderr",
     "output_type": "stream",
     "text": [
      "Clipping input data to the valid range for imshow with RGB data ([0..1] for floats or [0..255] for integers).\n",
      "Clipping input data to the valid range for imshow with RGB data ([0..1] for floats or [0..255] for integers).\n",
      "Clipping input data to the valid range for imshow with RGB data ([0..1] for floats or [0..255] for integers).\n",
      "Clipping input data to the valid range for imshow with RGB data ([0..1] for floats or [0..255] for integers).\n",
      "Clipping input data to the valid range for imshow with RGB data ([0..1] for floats or [0..255] for integers).\n",
      "Clipping input data to the valid range for imshow with RGB data ([0..1] for floats or [0..255] for integers).\n",
      "Clipping input data to the valid range for imshow with RGB data ([0..1] for floats or [0..255] for integers).\n",
      "Clipping input data to the valid range for imshow with RGB data ([0..1] for floats or [0..255] for integers).\n"
     ]
    },
    {
     "name": "stdout",
     "output_type": "stream",
     "text": [
      "step110, loss = 6.759307861328125, real = 0.4671054482460022, fake = 0.46750950813293457 4.867268085479736\n",
      "step120, loss = 6.509856224060059, real = 0.4594751298427582, fake = 0.4594798684120178 4.897884368896484\n",
      "step130, loss = 6.455882549285889, real = 0.4604091942310333, fake = 0.46231937408447266 4.887035369873047\n",
      "step140, loss = 6.634400367736816, real = 0.46865716576576233, fake = 0.47386348247528076 4.842797756195068\n",
      "step150, loss = 8.23615837097168, real = 0.4799085855484009, fake = 0.479289174079895 4.816984176635742\n",
      "step160, loss = 8.289860725402832, real = 0.48655200004577637, fake = 0.48567017912864685 4.8034539222717285\n",
      "step170, loss = 6.321335792541504, real = 0.48496535420417786, fake = 0.4790056347846985 4.823099136352539\n",
      "step180, loss = 6.603720664978027, real = 0.49068310856819153, fake = 0.48578310012817383 4.798543930053711\n",
      "step190, loss = 6.419985771179199, real = 0.49432653188705444, fake = 0.4881002604961395 4.789950370788574\n"
     ]
    },
    {
     "name": "stderr",
     "output_type": "stream",
     "text": [
      "Clipping input data to the valid range for imshow with RGB data ([0..1] for floats or [0..255] for integers).\n",
      "Clipping input data to the valid range for imshow with RGB data ([0..1] for floats or [0..255] for integers).\n"
     ]
    },
    {
     "name": "stdout",
     "output_type": "stream",
     "text": [
      "step200, loss = 6.527746200561523, real = 0.48862507939338684, fake = 0.4867027997970581 4.793364524841309\n"
     ]
    },
    {
     "name": "stderr",
     "output_type": "stream",
     "text": [
      "Clipping input data to the valid range for imshow with RGB data ([0..1] for floats or [0..255] for integers).\n",
      "Clipping input data to the valid range for imshow with RGB data ([0..1] for floats or [0..255] for integers).\n",
      "Clipping input data to the valid range for imshow with RGB data ([0..1] for floats or [0..255] for integers).\n",
      "Clipping input data to the valid range for imshow with RGB data ([0..1] for floats or [0..255] for integers).\n",
      "Clipping input data to the valid range for imshow with RGB data ([0..1] for floats or [0..255] for integers).\n",
      "Clipping input data to the valid range for imshow with RGB data ([0..1] for floats or [0..255] for integers).\n",
      "Clipping input data to the valid range for imshow with RGB data ([0..1] for floats or [0..255] for integers).\n",
      "Clipping input data to the valid range for imshow with RGB data ([0..1] for floats or [0..255] for integers).\n"
     ]
    },
    {
     "name": "stdout",
     "output_type": "stream",
     "text": [
      "step210, loss = 8.205938339233398, real = 0.48965322971343994, fake = 0.49173325300216675 4.7715559005737305\n",
      "step220, loss = 6.494826316833496, real = 0.4841345250606537, fake = 0.4745553135871887 4.840096473693848\n",
      "step230, loss = 7.995384693145752, real = 0.48087963461875916, fake = 0.4753744602203369 4.839424133300781\n",
      "step240, loss = 6.903909683227539, real = 0.4678921401500702, fake = 0.4443884491920471 4.959883689880371\n",
      "step250, loss = 6.965523719787598, real = 0.3877336382865906, fake = 0.3602706491947174 5.285831928253174\n",
      "step260, loss = 9.954965591430664, real = 0.2969192564487457, fake = 0.29571616649627686 5.564579010009766\n",
      "step270, loss = 7.375194072723389, real = 0.30566325783729553, fake = 0.27418696880340576 5.656778335571289\n",
      "step280, loss = 6.966639041900635, real = 0.3124590218067169, fake = 0.31943002343177795 5.461097240447998\n",
      "step290, loss = 7.207897186279297, real = 0.27539557218551636, fake = 0.23149242997169495 5.840968132019043\n"
     ]
    },
    {
     "name": "stderr",
     "output_type": "stream",
     "text": [
      "Clipping input data to the valid range for imshow with RGB data ([0..1] for floats or [0..255] for integers).\n",
      "Clipping input data to the valid range for imshow with RGB data ([0..1] for floats or [0..255] for integers).\n"
     ]
    },
    {
     "name": "stdout",
     "output_type": "stream",
     "text": [
      "step300, loss = 7.276393890380859, real = 0.2686581313610077, fake = 0.23723380267620087 5.818646430969238\n"
     ]
    },
    {
     "name": "stderr",
     "output_type": "stream",
     "text": [
      "Clipping input data to the valid range for imshow with RGB data ([0..1] for floats or [0..255] for integers).\n",
      "Clipping input data to the valid range for imshow with RGB data ([0..1] for floats or [0..255] for integers).\n",
      "Clipping input data to the valid range for imshow with RGB data ([0..1] for floats or [0..255] for integers).\n",
      "Clipping input data to the valid range for imshow with RGB data ([0..1] for floats or [0..255] for integers).\n",
      "Clipping input data to the valid range for imshow with RGB data ([0..1] for floats or [0..255] for integers).\n",
      "Clipping input data to the valid range for imshow with RGB data ([0..1] for floats or [0..255] for integers).\n",
      "Clipping input data to the valid range for imshow with RGB data ([0..1] for floats or [0..255] for integers).\n",
      "Clipping input data to the valid range for imshow with RGB data ([0..1] for floats or [0..255] for integers).\n"
     ]
    },
    {
     "name": "stdout",
     "output_type": "stream",
     "text": [
      "step310, loss = 7.587145805358887, real = 0.25862085819244385, fake = 0.2533929944038391 5.74580192565918\n",
      "step320, loss = 7.329537868499756, real = 0.25741812586784363, fake = 0.2287551462650299 5.858864784240723\n",
      "step330, loss = 7.2241363525390625, real = 0.2581956386566162, fake = 0.24967513978481293 5.767032146453857\n",
      "step340, loss = 7.957884788513184, real = 0.24230748414993286, fake = 0.2285226285457611 5.867128372192383\n",
      "step350, loss = 7.842950820922852, real = 0.23107078671455383, fake = 0.20030595362186432 5.984253406524658\n",
      "step360, loss = 8.571226119995117, real = 0.2553738057613373, fake = 0.24189674854278564 5.796611309051514\n",
      "step370, loss = 7.512482643127441, real = 0.23652252554893494, fake = 0.23743288218975067 5.816367149353027\n",
      "step380, loss = 7.612966537475586, real = 0.24635547399520874, fake = 0.20451129972934723 5.961247444152832\n",
      "step390, loss = 7.398778438568115, real = 0.220918670296669, fake = 0.19630083441734314 6.002632141113281\n"
     ]
    },
    {
     "name": "stderr",
     "output_type": "stream",
     "text": [
      "Clipping input data to the valid range for imshow with RGB data ([0..1] for floats or [0..255] for integers).\n",
      "Clipping input data to the valid range for imshow with RGB data ([0..1] for floats or [0..255] for integers).\n",
      "Clipping input data to the valid range for imshow with RGB data ([0..1] for floats or [0..255] for integers).\n"
     ]
    },
    {
     "name": "stdout",
     "output_type": "stream",
     "text": [
      "step400, loss = 9.30501937866211, real = 0.24924030900001526, fake = 0.22786127030849457 5.856733798980713\n"
     ]
    },
    {
     "name": "stderr",
     "output_type": "stream",
     "text": [
      "Clipping input data to the valid range for imshow with RGB data ([0..1] for floats or [0..255] for integers).\n",
      "Clipping input data to the valid range for imshow with RGB data ([0..1] for floats or [0..255] for integers).\n",
      "Clipping input data to the valid range for imshow with RGB data ([0..1] for floats or [0..255] for integers).\n",
      "Clipping input data to the valid range for imshow with RGB data ([0..1] for floats or [0..255] for integers).\n",
      "Clipping input data to the valid range for imshow with RGB data ([0..1] for floats or [0..255] for integers).\n",
      "Clipping input data to the valid range for imshow with RGB data ([0..1] for floats or [0..255] for integers).\n",
      "Clipping input data to the valid range for imshow with RGB data ([0..1] for floats or [0..255] for integers).\n"
     ]
    },
    {
     "name": "stdout",
     "output_type": "stream",
     "text": [
      "step410, loss = 7.625438690185547, real = 0.24364179372787476, fake = 0.21287822723388672 5.925722122192383\n",
      "step420, loss = 7.3998284339904785, real = 0.23287297785282135, fake = 0.20980535447597504 5.940024375915527\n",
      "step430, loss = 8.281805038452148, real = 0.2541762888431549, fake = 0.20297259092330933 5.969110012054443\n",
      "step440, loss = 7.633345127105713, real = 0.2039874792098999, fake = 0.1757817566394806 6.097100734710693\n",
      "step450, loss = 7.464945316314697, real = 0.22143298387527466, fake = 0.22361329197883606 5.876862049102783\n",
      "step460, loss = 7.712312698364258, real = 0.22324296832084656, fake = 0.19155359268188477 6.020163536071777\n",
      "step470, loss = 7.840041637420654, real = 0.19272834062576294, fake = 0.17164014279842377 6.11635684967041\n",
      "step480, loss = 7.3140788078308105, real = 0.22850820422172546, fake = 0.21039442718029022 5.937399864196777\n",
      "step490, loss = 7.6556854248046875, real = 0.19568029046058655, fake = 0.17097628116607666 6.114671230316162\n"
     ]
    },
    {
     "name": "stderr",
     "output_type": "stream",
     "text": [
      "Clipping input data to the valid range for imshow with RGB data ([0..1] for floats or [0..255] for integers).\n",
      "Clipping input data to the valid range for imshow with RGB data ([0..1] for floats or [0..255] for integers).\n"
     ]
    },
    {
     "name": "stdout",
     "output_type": "stream",
     "text": [
      "step500, loss = 7.168985843658447, real = 0.2375420480966568, fake = 0.22316408157348633 5.877007961273193\n"
     ]
    },
    {
     "name": "stderr",
     "output_type": "stream",
     "text": [
      "Clipping input data to the valid range for imshow with RGB data ([0..1] for floats or [0..255] for integers).\n",
      "Clipping input data to the valid range for imshow with RGB data ([0..1] for floats or [0..255] for integers).\n",
      "Clipping input data to the valid range for imshow with RGB data ([0..1] for floats or [0..255] for integers).\n",
      "Clipping input data to the valid range for imshow with RGB data ([0..1] for floats or [0..255] for integers).\n",
      "Clipping input data to the valid range for imshow with RGB data ([0..1] for floats or [0..255] for integers).\n",
      "Clipping input data to the valid range for imshow with RGB data ([0..1] for floats or [0..255] for integers).\n",
      "Clipping input data to the valid range for imshow with RGB data ([0..1] for floats or [0..255] for integers).\n",
      "Clipping input data to the valid range for imshow with RGB data ([0..1] for floats or [0..255] for integers).\n"
     ]
    },
    {
     "name": "stdout",
     "output_type": "stream",
     "text": [
      "step510, loss = 7.7899346351623535, real = 0.21814702451229095, fake = 0.20388539135456085 5.964447021484375\n",
      "step520, loss = 7.894701957702637, real = 0.18472225964069366, fake = 0.16048499941825867 6.160550117492676\n",
      "step530, loss = 9.009404182434082, real = 0.2265850007534027, fake = 0.18355590105056763 6.055253028869629\n",
      "step540, loss = 7.927338600158691, real = 0.19782376289367676, fake = 0.18840619921684265 6.0333356857299805\n",
      "step550, loss = 9.140235900878906, real = 0.20401477813720703, fake = 0.19335699081420898 6.005385398864746\n",
      "step560, loss = 8.513367652893066, real = 0.20875853300094604, fake = 0.17227983474731445 6.110804557800293\n",
      "step570, loss = 7.454631328582764, real = 0.2076917588710785, fake = 0.20079293847084045 5.984159469604492\n",
      "step580, loss = 7.1168107986450195, real = 0.20968639850616455, fake = 0.23521924018859863 5.828608512878418\n",
      "step590, loss = 9.07455825805664, real = 0.22478371858596802, fake = 0.17548489570617676 6.08984375\n"
     ]
    },
    {
     "name": "stderr",
     "output_type": "stream",
     "text": [
      "Clipping input data to the valid range for imshow with RGB data ([0..1] for floats or [0..255] for integers).\n",
      "Clipping input data to the valid range for imshow with RGB data ([0..1] for floats or [0..255] for integers).\n"
     ]
    },
    {
     "name": "stdout",
     "output_type": "stream",
     "text": [
      "step600, loss = 8.00684928894043, real = 0.21296201646327972, fake = 0.16663311421871185 6.13316011428833\n"
     ]
    },
    {
     "name": "stderr",
     "output_type": "stream",
     "text": [
      "Clipping input data to the valid range for imshow with RGB data ([0..1] for floats or [0..255] for integers).\n",
      "Clipping input data to the valid range for imshow with RGB data ([0..1] for floats or [0..255] for integers).\n",
      "Clipping input data to the valid range for imshow with RGB data ([0..1] for floats or [0..255] for integers).\n",
      "Clipping input data to the valid range for imshow with RGB data ([0..1] for floats or [0..255] for integers).\n",
      "Clipping input data to the valid range for imshow with RGB data ([0..1] for floats or [0..255] for integers).\n",
      "Clipping input data to the valid range for imshow with RGB data ([0..1] for floats or [0..255] for integers).\n",
      "Clipping input data to the valid range for imshow with RGB data ([0..1] for floats or [0..255] for integers).\n",
      "Clipping input data to the valid range for imshow with RGB data ([0..1] for floats or [0..255] for integers).\n"
     ]
    },
    {
     "name": "stdout",
     "output_type": "stream",
     "text": [
      "step610, loss = 7.889970779418945, real = 0.21975238621234894, fake = 0.16328325867652893 6.150175094604492\n",
      "step620, loss = 7.637366771697998, real = 0.20618191361427307, fake = 0.16116668283939362 6.1572699546813965\n",
      "step630, loss = 7.797586917877197, real = 0.22331398725509644, fake = 0.19771987199783325 5.996560096740723\n",
      "step640, loss = 8.783712387084961, real = 0.20509691536426544, fake = 0.17550663650035858 6.094072341918945\n",
      "step650, loss = 8.869077682495117, real = 0.19650046527385712, fake = 0.17148375511169434 6.111037254333496\n",
      "step660, loss = 7.651741027832031, real = 0.2048240602016449, fake = 0.17673256993293762 6.088032245635986\n",
      "step670, loss = 7.9879302978515625, real = 0.20673318207263947, fake = 0.2198093831539154 5.897690773010254\n",
      "step680, loss = 7.935574531555176, real = 0.20195648074150085, fake = 0.1523512452840805 6.2024431228637695\n",
      "step690, loss = 7.362663269042969, real = 0.2215549349784851, fake = 0.17564436793327332 6.09063720703125\n"
     ]
    },
    {
     "name": "stderr",
     "output_type": "stream",
     "text": [
      "Clipping input data to the valid range for imshow with RGB data ([0..1] for floats or [0..255] for integers).\n",
      "Clipping input data to the valid range for imshow with RGB data ([0..1] for floats or [0..255] for integers).\n"
     ]
    },
    {
     "name": "stdout",
     "output_type": "stream",
     "text": [
      "step700, loss = 7.662607192993164, real = 0.22576592862606049, fake = 0.19167141616344452 6.020410060882568\n"
     ]
    },
    {
     "name": "stderr",
     "output_type": "stream",
     "text": [
      "Clipping input data to the valid range for imshow with RGB data ([0..1] for floats or [0..255] for integers).\n",
      "Clipping input data to the valid range for imshow with RGB data ([0..1] for floats or [0..255] for integers).\n",
      "Clipping input data to the valid range for imshow with RGB data ([0..1] for floats or [0..255] for integers).\n",
      "Clipping input data to the valid range for imshow with RGB data ([0..1] for floats or [0..255] for integers).\n",
      "Clipping input data to the valid range for imshow with RGB data ([0..1] for floats or [0..255] for integers).\n",
      "Clipping input data to the valid range for imshow with RGB data ([0..1] for floats or [0..255] for integers).\n",
      "Clipping input data to the valid range for imshow with RGB data ([0..1] for floats or [0..255] for integers).\n",
      "Clipping input data to the valid range for imshow with RGB data ([0..1] for floats or [0..255] for integers).\n"
     ]
    },
    {
     "name": "stdout",
     "output_type": "stream",
     "text": [
      "step710, loss = 7.348577499389648, real = 0.19959011673927307, fake = 0.20276081562042236 5.969812393188477\n",
      "step720, loss = 7.624098777770996, real = 0.21762040257453918, fake = 0.20383217930793762 5.970660209655762\n",
      "step730, loss = 7.4506354331970215, real = 0.2079431563615799, fake = 0.16694192588329315 6.134387016296387\n",
      "step740, loss = 7.667312145233154, real = 0.21613141894340515, fake = 0.18130075931549072 6.069705009460449\n",
      "step750, loss = 7.951692581176758, real = 0.19540441036224365, fake = 0.20923295617103577 5.939501762390137\n",
      "step760, loss = 7.4590744972229, real = 0.21153435111045837, fake = 0.16965539753437042 6.119180679321289\n",
      "step770, loss = 9.354402542114258, real = 0.1994117796421051, fake = 0.17212700843811035 6.106523513793945\n",
      "step780, loss = 8.65184211730957, real = 0.20381999015808105, fake = 0.17695534229278564 6.084097862243652\n",
      "step790, loss = 7.81406831741333, real = 0.22180333733558655, fake = 0.19425711035728455 6.007149696350098\n"
     ]
    },
    {
     "name": "stderr",
     "output_type": "stream",
     "text": [
      "Clipping input data to the valid range for imshow with RGB data ([0..1] for floats or [0..255] for integers).\n",
      "Clipping input data to the valid range for imshow with RGB data ([0..1] for floats or [0..255] for integers).\n"
     ]
    },
    {
     "name": "stdout",
     "output_type": "stream",
     "text": [
      "step800, loss = 7.639534950256348, real = 0.20426301658153534, fake = 0.19282156229019165 6.014446258544922\n"
     ]
    },
    {
     "name": "stderr",
     "output_type": "stream",
     "text": [
      "Clipping input data to the valid range for imshow with RGB data ([0..1] for floats or [0..255] for integers).\n",
      "Clipping input data to the valid range for imshow with RGB data ([0..1] for floats or [0..255] for integers).\n",
      "Clipping input data to the valid range for imshow with RGB data ([0..1] for floats or [0..255] for integers).\n",
      "Clipping input data to the valid range for imshow with RGB data ([0..1] for floats or [0..255] for integers).\n",
      "Clipping input data to the valid range for imshow with RGB data ([0..1] for floats or [0..255] for integers).\n",
      "Clipping input data to the valid range for imshow with RGB data ([0..1] for floats or [0..255] for integers).\n",
      "Clipping input data to the valid range for imshow with RGB data ([0..1] for floats or [0..255] for integers).\n",
      "Clipping input data to the valid range for imshow with RGB data ([0..1] for floats or [0..255] for integers).\n"
     ]
    },
    {
     "name": "stdout",
     "output_type": "stream",
     "text": [
      "step810, loss = 7.773499488830566, real = 0.20147596299648285, fake = 0.1821480691432953 6.060870170593262\n",
      "step820, loss = 7.914029121398926, real = 0.1959068477153778, fake = 0.15880350768566132 6.167729377746582\n",
      "step830, loss = 7.63933801651001, real = 0.19220954179763794, fake = 0.1658758521080017 6.139821529388428\n",
      "step840, loss = 7.544256210327148, real = 0.2037312090396881, fake = 0.16140635311603546 6.1564788818359375\n",
      "step850, loss = 7.740447998046875, real = 0.21224655210971832, fake = 0.18774864077568054 6.038796901702881\n",
      "step860, loss = 7.278524398803711, real = 0.20685535669326782, fake = 0.17386981844902039 6.1015520095825195\n",
      "step870, loss = 9.639043807983398, real = 0.20947270095348358, fake = 0.1666354089975357 6.137507438659668\n",
      "step880, loss = 7.688405990600586, real = 0.20243701338768005, fake = 0.17915508151054382 6.076180458068848\n",
      "step890, loss = 7.863672256469727, real = 0.19194993376731873, fake = 0.15162554383277893 6.199797630310059\n"
     ]
    },
    {
     "name": "stderr",
     "output_type": "stream",
     "text": [
      "Clipping input data to the valid range for imshow with RGB data ([0..1] for floats or [0..255] for integers).\n",
      "Clipping input data to the valid range for imshow with RGB data ([0..1] for floats or [0..255] for integers).\n"
     ]
    },
    {
     "name": "stdout",
     "output_type": "stream",
     "text": [
      "step900, loss = 8.900636672973633, real = 0.22421163320541382, fake = 0.18838131427764893 6.036942481994629\n"
     ]
    },
    {
     "name": "stderr",
     "output_type": "stream",
     "text": [
      "Clipping input data to the valid range for imshow with RGB data ([0..1] for floats or [0..255] for integers).\n",
      "Clipping input data to the valid range for imshow with RGB data ([0..1] for floats or [0..255] for integers).\n",
      "Clipping input data to the valid range for imshow with RGB data ([0..1] for floats or [0..255] for integers).\n",
      "Clipping input data to the valid range for imshow with RGB data ([0..1] for floats or [0..255] for integers).\n",
      "Clipping input data to the valid range for imshow with RGB data ([0..1] for floats or [0..255] for integers).\n",
      "Clipping input data to the valid range for imshow with RGB data ([0..1] for floats or [0..255] for integers).\n",
      "Clipping input data to the valid range for imshow with RGB data ([0..1] for floats or [0..255] for integers).\n",
      "Clipping input data to the valid range for imshow with RGB data ([0..1] for floats or [0..255] for integers).\n"
     ]
    },
    {
     "name": "stdout",
     "output_type": "stream",
     "text": [
      "step910, loss = 7.558324337005615, real = 0.19848668575286865, fake = 0.18006782233715057 6.0697712898254395\n",
      "step920, loss = 7.486116409301758, real = 0.209052175283432, fake = 0.21206319332122803 5.924569129943848\n",
      "step930, loss = 7.82411527633667, real = 0.20075476169586182, fake = 0.16138949990272522 6.1589202880859375\n",
      "step940, loss = 11.039151191711426, real = 0.2288014143705368, fake = 0.17329496145248413 6.10162353515625\n",
      "step950, loss = 9.929388046264648, real = 0.20994363725185394, fake = 0.1865854412317276 6.043705463409424\n",
      "step960, loss = 7.514819145202637, real = 0.1849958300590515, fake = 0.1661841720342636 6.138387203216553\n",
      "step970, loss = 7.547157287597656, real = 0.19324812293052673, fake = 0.16702041029930115 6.1337103843688965\n",
      "step980, loss = 7.3152971267700195, real = 0.19988800585269928, fake = 0.18460997939109802 6.04512357711792\n",
      "step990, loss = 7.482688903808594, real = 0.20372693240642548, fake = 0.18067894876003265 6.068775177001953\n"
     ]
    },
    {
     "name": "stderr",
     "output_type": "stream",
     "text": [
      "Clipping input data to the valid range for imshow with RGB data ([0..1] for floats or [0..255] for integers).\n",
      "Clipping input data to the valid range for imshow with RGB data ([0..1] for floats or [0..255] for integers).\n"
     ]
    },
    {
     "name": "stdout",
     "output_type": "stream",
     "text": [
      "step1000, loss = 7.004941940307617, real = 0.20457713305950165, fake = 0.177353635430336 6.08417272567749\n"
     ]
    },
    {
     "name": "stderr",
     "output_type": "stream",
     "text": [
      "Clipping input data to the valid range for imshow with RGB data ([0..1] for floats or [0..255] for integers).\n",
      "Clipping input data to the valid range for imshow with RGB data ([0..1] for floats or [0..255] for integers).\n",
      "Clipping input data to the valid range for imshow with RGB data ([0..1] for floats or [0..255] for integers).\n",
      "Clipping input data to the valid range for imshow with RGB data ([0..1] for floats or [0..255] for integers).\n",
      "Clipping input data to the valid range for imshow with RGB data ([0..1] for floats or [0..255] for integers).\n",
      "Clipping input data to the valid range for imshow with RGB data ([0..1] for floats or [0..255] for integers).\n",
      "Clipping input data to the valid range for imshow with RGB data ([0..1] for floats or [0..255] for integers).\n",
      "Clipping input data to the valid range for imshow with RGB data ([0..1] for floats or [0..255] for integers).\n"
     ]
    },
    {
     "name": "stdout",
     "output_type": "stream",
     "text": [
      "step1010, loss = 7.675290107727051, real = 0.2240423560142517, fake = 0.1981429159641266 5.987300872802734\n",
      "step1020, loss = 9.210285186767578, real = 0.20738956332206726, fake = 0.1642807126045227 6.144492149353027\n",
      "step1030, loss = 7.570128440856934, real = 0.2029692381620407, fake = 0.1777551919221878 6.084670066833496\n",
      "step1040, loss = 7.4990715980529785, real = 0.20652450621128082, fake = 0.1857021003961563 6.042695999145508\n",
      "step1050, loss = 7.922933578491211, real = 0.17847445607185364, fake = 0.1430985927581787 6.24040412902832\n",
      "step1060, loss = 7.6741533279418945, real = 0.19211474061012268, fake = 0.15552397072315216 6.184029579162598\n",
      "step1070, loss = 7.66892147064209, real = 0.19710993766784668, fake = 0.19675609469413757 5.997704982757568\n",
      "step1080, loss = 7.599740982055664, real = 0.20477856695652008, fake = 0.18940570950508118 6.028212547302246\n",
      "step1090, loss = 9.3831148147583, real = 0.19380632042884827, fake = 0.16695798933506012 6.131882667541504\n"
     ]
    },
    {
     "name": "stderr",
     "output_type": "stream",
     "text": [
      "Clipping input data to the valid range for imshow with RGB data ([0..1] for floats or [0..255] for integers).\n",
      "Clipping input data to the valid range for imshow with RGB data ([0..1] for floats or [0..255] for integers).\n"
     ]
    },
    {
     "name": "stdout",
     "output_type": "stream",
     "text": [
      "step1100, loss = 7.231152534484863, real = 0.19198235869407654, fake = 0.18533474206924438 6.0490922927856445\n"
     ]
    },
    {
     "name": "stderr",
     "output_type": "stream",
     "text": [
      "Clipping input data to the valid range for imshow with RGB data ([0..1] for floats or [0..255] for integers).\n",
      "Clipping input data to the valid range for imshow with RGB data ([0..1] for floats or [0..255] for integers).\n",
      "Clipping input data to the valid range for imshow with RGB data ([0..1] for floats or [0..255] for integers).\n",
      "Clipping input data to the valid range for imshow with RGB data ([0..1] for floats or [0..255] for integers).\n",
      "Clipping input data to the valid range for imshow with RGB data ([0..1] for floats or [0..255] for integers).\n",
      "Clipping input data to the valid range for imshow with RGB data ([0..1] for floats or [0..255] for integers).\n",
      "Clipping input data to the valid range for imshow with RGB data ([0..1] for floats or [0..255] for integers).\n",
      "Clipping input data to the valid range for imshow with RGB data ([0..1] for floats or [0..255] for integers).\n"
     ]
    },
    {
     "name": "stdout",
     "output_type": "stream",
     "text": [
      "step1110, loss = 7.210075378417969, real = 0.21636098623275757, fake = 0.18689370155334473 6.039510250091553\n",
      "step1120, loss = 7.367247581481934, real = 0.21443608403205872, fake = 0.1966383457183838 5.998553276062012\n",
      "step1130, loss = 8.89712142944336, real = 0.22371843457221985, fake = 0.17862075567245483 6.078393459320068\n",
      "step1140, loss = 7.51922607421875, real = 0.2252250611782074, fake = 0.17270100116729736 6.1049675941467285\n",
      "step1150, loss = 7.59193229675293, real = 0.19134125113487244, fake = 0.18600419163703918 6.046021938323975\n",
      "step1160, loss = 7.799239635467529, real = 0.21654829382896423, fake = 0.2034440040588379 5.967667579650879\n",
      "step1170, loss = 7.727449417114258, real = 0.19393402338027954, fake = 0.16970166563987732 6.120534420013428\n",
      "step1180, loss = 7.808337688446045, real = 0.1889297515153885, fake = 0.14005687832832336 6.253863334655762\n",
      "step1190, loss = 8.746030807495117, real = 0.22293278574943542, fake = 0.16047818958759308 6.1583123207092285\n"
     ]
    },
    {
     "name": "stderr",
     "output_type": "stream",
     "text": [
      "Clipping input data to the valid range for imshow with RGB data ([0..1] for floats or [0..255] for integers).\n",
      "Clipping input data to the valid range for imshow with RGB data ([0..1] for floats or [0..255] for integers).\n",
      "Clipping input data to the valid range for imshow with RGB data ([0..1] for floats or [0..255] for integers).\n"
     ]
    },
    {
     "name": "stdout",
     "output_type": "stream",
     "text": [
      "step1200, loss = 7.209397315979004, real = 0.2109280228614807, fake = 0.18614667654037476 6.042656421661377\n"
     ]
    },
    {
     "name": "stderr",
     "output_type": "stream",
     "text": [
      "Clipping input data to the valid range for imshow with RGB data ([0..1] for floats or [0..255] for integers).\n",
      "Clipping input data to the valid range for imshow with RGB data ([0..1] for floats or [0..255] for integers).\n",
      "Clipping input data to the valid range for imshow with RGB data ([0..1] for floats or [0..255] for integers).\n",
      "Clipping input data to the valid range for imshow with RGB data ([0..1] for floats or [0..255] for integers).\n",
      "Clipping input data to the valid range for imshow with RGB data ([0..1] for floats or [0..255] for integers).\n",
      "Clipping input data to the valid range for imshow with RGB data ([0..1] for floats or [0..255] for integers).\n",
      "Clipping input data to the valid range for imshow with RGB data ([0..1] for floats or [0..255] for integers).\n"
     ]
    },
    {
     "name": "stdout",
     "output_type": "stream",
     "text": [
      "step1210, loss = 7.393736839294434, real = 0.21494123339653015, fake = 0.20597973465919495 5.95127010345459\n",
      "step1220, loss = 7.540356159210205, real = 0.2122807502746582, fake = 0.18513189256191254 6.04538106918335\n",
      "step1230, loss = 8.180057525634766, real = 0.20387418568134308, fake = 0.17122872173786163 6.112724781036377\n",
      "step1240, loss = 9.002677917480469, real = 0.21497230231761932, fake = 0.17110022902488708 6.111580848693848\n",
      "step1250, loss = 7.924846649169922, real = 0.20810608565807343, fake = 0.1663479208946228 6.137376308441162\n",
      "step1260, loss = 8.287138938903809, real = 0.1989223062992096, fake = 0.17320552468299866 6.107817649841309\n",
      "step1270, loss = 8.024836540222168, real = 0.19721053540706635, fake = 0.18225714564323425 6.059751033782959\n",
      "step1280, loss = 7.476126670837402, real = 0.21070566773414612, fake = 0.19240912795066833 6.014050483703613\n",
      "step1290, loss = 7.836247444152832, real = 0.20232148468494415, fake = 0.1660143882036209 6.133542060852051\n"
     ]
    },
    {
     "name": "stderr",
     "output_type": "stream",
     "text": [
      "Clipping input data to the valid range for imshow with RGB data ([0..1] for floats or [0..255] for integers).\n",
      "Clipping input data to the valid range for imshow with RGB data ([0..1] for floats or [0..255] for integers).\n"
     ]
    },
    {
     "name": "stdout",
     "output_type": "stream",
     "text": [
      "step1300, loss = 8.962103843688965, real = 0.19759061932563782, fake = 0.1631123423576355 6.144317626953125\n"
     ]
    },
    {
     "name": "stderr",
     "output_type": "stream",
     "text": [
      "Clipping input data to the valid range for imshow with RGB data ([0..1] for floats or [0..255] for integers).\n",
      "Clipping input data to the valid range for imshow with RGB data ([0..1] for floats or [0..255] for integers).\n",
      "Clipping input data to the valid range for imshow with RGB data ([0..1] for floats or [0..255] for integers).\n",
      "Clipping input data to the valid range for imshow with RGB data ([0..1] for floats or [0..255] for integers).\n",
      "Clipping input data to the valid range for imshow with RGB data ([0..1] for floats or [0..255] for integers).\n",
      "Clipping input data to the valid range for imshow with RGB data ([0..1] for floats or [0..255] for integers).\n",
      "Clipping input data to the valid range for imshow with RGB data ([0..1] for floats or [0..255] for integers).\n",
      "Clipping input data to the valid range for imshow with RGB data ([0..1] for floats or [0..255] for integers).\n"
     ]
    },
    {
     "name": "stdout",
     "output_type": "stream",
     "text": [
      "step1310, loss = 7.50721549987793, real = 0.1915750503540039, fake = 0.163084477186203 6.147698879241943\n",
      "step1320, loss = 8.054545402526855, real = 0.2059677541255951, fake = 0.17625436186790466 6.093807220458984\n",
      "step1330, loss = 7.889007568359375, real = 0.1834372878074646, fake = 0.17825771868228912 6.078476905822754\n",
      "step1340, loss = 8.66332721710205, real = 0.20690740644931793, fake = 0.1993609368801117 5.985391616821289\n",
      "step1350, loss = 7.534584999084473, real = 0.19148950278759003, fake = 0.1722901314496994 6.109797954559326\n",
      "step1360, loss = 7.725859642028809, real = 0.2087026685476303, fake = 0.17004255950450897 6.116973876953125\n",
      "step1370, loss = 8.41520881652832, real = 0.21046847105026245, fake = 0.18399183452129364 6.0498857498168945\n",
      "step1380, loss = 7.415402412414551, real = 0.21136876940727234, fake = 0.20235314965248108 5.972389221191406\n",
      "step1390, loss = 7.5726118087768555, real = 0.18936404585838318, fake = 0.15393754839897156 6.192314147949219\n"
     ]
    },
    {
     "name": "stderr",
     "output_type": "stream",
     "text": [
      "Clipping input data to the valid range for imshow with RGB data ([0..1] for floats or [0..255] for integers).\n",
      "Clipping input data to the valid range for imshow with RGB data ([0..1] for floats or [0..255] for integers).\n"
     ]
    },
    {
     "name": "stdout",
     "output_type": "stream",
     "text": [
      "step1400, loss = 7.607965469360352, real = 0.1927001178264618, fake = 0.17305342853069305 6.105064392089844\n"
     ]
    },
    {
     "name": "stderr",
     "output_type": "stream",
     "text": [
      "Clipping input data to the valid range for imshow with RGB data ([0..1] for floats or [0..255] for integers).\n",
      "Clipping input data to the valid range for imshow with RGB data ([0..1] for floats or [0..255] for integers).\n",
      "Clipping input data to the valid range for imshow with RGB data ([0..1] for floats or [0..255] for integers).\n",
      "Clipping input data to the valid range for imshow with RGB data ([0..1] for floats or [0..255] for integers).\n",
      "Clipping input data to the valid range for imshow with RGB data ([0..1] for floats or [0..255] for integers).\n",
      "Clipping input data to the valid range for imshow with RGB data ([0..1] for floats or [0..255] for integers).\n",
      "Clipping input data to the valid range for imshow with RGB data ([0..1] for floats or [0..255] for integers).\n",
      "Clipping input data to the valid range for imshow with RGB data ([0..1] for floats or [0..255] for integers).\n"
     ]
    },
    {
     "name": "stdout",
     "output_type": "stream",
     "text": [
      "step1410, loss = 8.188653945922852, real = 0.20234425365924835, fake = 0.1761583685874939 6.08901834487915\n",
      "step1420, loss = 7.349154949188232, real = 0.19775311648845673, fake = 0.18021389842033386 6.067965030670166\n",
      "step1430, loss = 9.334461212158203, real = 0.21962511539459229, fake = 0.19100016355514526 6.019782543182373\n",
      "step1440, loss = 7.637274742126465, real = 0.22878709435462952, fake = 0.19096429646015167 6.01986026763916\n",
      "step1450, loss = 7.971901893615723, real = 0.19400393962860107, fake = 0.14142978191375732 6.24668025970459\n",
      "step1460, loss = 8.070801734924316, real = 0.1986774206161499, fake = 0.1749660074710846 6.093652725219727\n",
      "step1470, loss = 7.893011093139648, real = 0.20355987548828125, fake = 0.1790846288204193 6.075843811035156\n",
      "step1480, loss = 7.304105758666992, real = 0.21617725491523743, fake = 0.1932859718799591 6.007505893707275\n",
      "step1490, loss = 8.923654556274414, real = 0.19049984216690063, fake = 0.16328175365924835 6.148076057434082\n"
     ]
    },
    {
     "name": "stderr",
     "output_type": "stream",
     "text": [
      "Clipping input data to the valid range for imshow with RGB data ([0..1] for floats or [0..255] for integers).\n",
      "Clipping input data to the valid range for imshow with RGB data ([0..1] for floats or [0..255] for integers).\n"
     ]
    },
    {
     "name": "stdout",
     "output_type": "stream",
     "text": [
      "step1500, loss = 8.525625228881836, real = 0.19545592367649078, fake = 0.15735995769500732 6.177062511444092\n"
     ]
    },
    {
     "name": "stderr",
     "output_type": "stream",
     "text": [
      "Clipping input data to the valid range for imshow with RGB data ([0..1] for floats or [0..255] for integers).\n",
      "Clipping input data to the valid range for imshow with RGB data ([0..1] for floats or [0..255] for integers).\n",
      "Clipping input data to the valid range for imshow with RGB data ([0..1] for floats or [0..255] for integers).\n",
      "Clipping input data to the valid range for imshow with RGB data ([0..1] for floats or [0..255] for integers).\n",
      "Clipping input data to the valid range for imshow with RGB data ([0..1] for floats or [0..255] for integers).\n",
      "Clipping input data to the valid range for imshow with RGB data ([0..1] for floats or [0..255] for integers).\n",
      "Clipping input data to the valid range for imshow with RGB data ([0..1] for floats or [0..255] for integers).\n",
      "Clipping input data to the valid range for imshow with RGB data ([0..1] for floats or [0..255] for integers).\n"
     ]
    },
    {
     "name": "stdout",
     "output_type": "stream",
     "text": [
      "step1510, loss = 7.938250541687012, real = 0.218449205160141, fake = 0.20729105174541473 5.941305160522461\n",
      "step1520, loss = 7.653369426727295, real = 0.19997194409370422, fake = 0.1796473264694214 6.070967674255371\n",
      "step1530, loss = 7.203147888183594, real = 0.19205012917518616, fake = 0.16530591249465942 6.139873504638672\n",
      "step1540, loss = 7.52980375289917, real = 0.2020586133003235, fake = 0.17939504981040955 6.0771074295043945\n",
      "step1550, loss = 8.934677124023438, real = 0.21025589108467102, fake = 0.16666872799396515 6.133282661437988\n",
      "step1560, loss = 7.355457782745361, real = 0.21493962407112122, fake = 0.1981176733970642 5.994674205780029\n",
      "step1570, loss = 7.602941989898682, real = 0.20421361923217773, fake = 0.17037226259708405 6.1169657707214355\n",
      "step1580, loss = 8.830350875854492, real = 0.19081322848796844, fake = 0.16347599029541016 6.147170066833496\n",
      "step1590, loss = 8.109207153320312, real = 0.22747722268104553, fake = 0.17779171466827393 6.083089828491211\n"
     ]
    },
    {
     "name": "stderr",
     "output_type": "stream",
     "text": [
      "Clipping input data to the valid range for imshow with RGB data ([0..1] for floats or [0..255] for integers).\n",
      "Clipping input data to the valid range for imshow with RGB data ([0..1] for floats or [0..255] for integers).\n"
     ]
    },
    {
     "name": "stdout",
     "output_type": "stream",
     "text": [
      "step1600, loss = 7.423242568969727, real = 0.22033682465553284, fake = 0.16289415955543518 6.145099639892578\n"
     ]
    },
    {
     "name": "stderr",
     "output_type": "stream",
     "text": [
      "Clipping input data to the valid range for imshow with RGB data ([0..1] for floats or [0..255] for integers).\n",
      "Clipping input data to the valid range for imshow with RGB data ([0..1] for floats or [0..255] for integers).\n",
      "Clipping input data to the valid range for imshow with RGB data ([0..1] for floats or [0..255] for integers).\n",
      "Clipping input data to the valid range for imshow with RGB data ([0..1] for floats or [0..255] for integers).\n",
      "Clipping input data to the valid range for imshow with RGB data ([0..1] for floats or [0..255] for integers).\n",
      "Clipping input data to the valid range for imshow with RGB data ([0..1] for floats or [0..255] for integers).\n",
      "Clipping input data to the valid range for imshow with RGB data ([0..1] for floats or [0..255] for integers).\n",
      "Clipping input data to the valid range for imshow with RGB data ([0..1] for floats or [0..255] for integers).\n"
     ]
    },
    {
     "name": "stdout",
     "output_type": "stream",
     "text": [
      "step1610, loss = 7.686874866485596, real = 0.19083954393863678, fake = 0.16121640801429749 6.160942554473877\n",
      "step1620, loss = 7.6690168380737305, real = 0.2186674177646637, fake = 0.18421106040477753 6.0551300048828125\n",
      "step1630, loss = 7.744266033172607, real = 0.21363067626953125, fake = 0.1794539839029312 6.07706356048584\n",
      "step1640, loss = 7.996766090393066, real = 0.20241154730319977, fake = 0.1436367928981781 6.238687515258789\n",
      "step1650, loss = 7.938723087310791, real = 0.19777005910873413, fake = 0.17038972675800323 6.116511344909668\n",
      "step1660, loss = 7.356855869293213, real = 0.2193542718887329, fake = 0.18820956349372864 6.033130645751953\n",
      "step1670, loss = 7.743729591369629, real = 0.19363123178482056, fake = 0.1607164740562439 6.15986967086792\n",
      "step1680, loss = 7.4644775390625, real = 0.2179022878408432, fake = 0.17960898578166962 6.0744853019714355\n",
      "step1690, loss = 8.542253494262695, real = 0.19510972499847412, fake = 0.16563117504119873 6.138309478759766\n"
     ]
    },
    {
     "name": "stderr",
     "output_type": "stream",
     "text": [
      "Clipping input data to the valid range for imshow with RGB data ([0..1] for floats or [0..255] for integers).\n",
      "Clipping input data to the valid range for imshow with RGB data ([0..1] for floats or [0..255] for integers).\n"
     ]
    },
    {
     "name": "stdout",
     "output_type": "stream",
     "text": [
      "step1700, loss = 7.703494071960449, real = 0.18042117357254028, fake = 0.1546497941017151 6.18534517288208\n"
     ]
    },
    {
     "name": "stderr",
     "output_type": "stream",
     "text": [
      "Clipping input data to the valid range for imshow with RGB data ([0..1] for floats or [0..255] for integers).\n",
      "Clipping input data to the valid range for imshow with RGB data ([0..1] for floats or [0..255] for integers).\n",
      "Clipping input data to the valid range for imshow with RGB data ([0..1] for floats or [0..255] for integers).\n",
      "Clipping input data to the valid range for imshow with RGB data ([0..1] for floats or [0..255] for integers).\n",
      "Clipping input data to the valid range for imshow with RGB data ([0..1] for floats or [0..255] for integers).\n",
      "Clipping input data to the valid range for imshow with RGB data ([0..1] for floats or [0..255] for integers).\n",
      "Clipping input data to the valid range for imshow with RGB data ([0..1] for floats or [0..255] for integers).\n",
      "Clipping input data to the valid range for imshow with RGB data ([0..1] for floats or [0..255] for integers).\n"
     ]
    },
    {
     "name": "stdout",
     "output_type": "stream",
     "text": [
      "step1710, loss = 7.242112159729004, real = 0.20411357283592224, fake = 0.17695289850234985 6.08223819732666\n",
      "step1720, loss = 8.735146522521973, real = 0.2094893604516983, fake = 0.18281866610050201 6.058310508728027\n",
      "step1730, loss = 7.758665084838867, real = 0.18704789876937866, fake = 0.15319395065307617 6.196751117706299\n",
      "step1740, loss = 7.762842178344727, real = 0.2200918197631836, fake = 0.17709273099899292 6.086763381958008\n",
      "step1750, loss = 7.4874348640441895, real = 0.20197831094264984, fake = 0.18705961108207703 6.037858963012695\n",
      "step1760, loss = 7.768519401550293, real = 0.21193665266036987, fake = 0.17501971125602722 6.096336364746094\n",
      "step1770, loss = 7.344729423522949, real = 0.20614664256572723, fake = 0.17221656441688538 6.104581356048584\n",
      "step1780, loss = 7.720303058624268, real = 0.21756407618522644, fake = 0.17341680824756622 6.099126815795898\n",
      "step1790, loss = 9.69043254852295, real = 0.20939280092716217, fake = 0.1752551794052124 6.09011697769165\n"
     ]
    },
    {
     "name": "stderr",
     "output_type": "stream",
     "text": [
      "Clipping input data to the valid range for imshow with RGB data ([0..1] for floats or [0..255] for integers).\n",
      "Clipping input data to the valid range for imshow with RGB data ([0..1] for floats or [0..255] for integers).\n"
     ]
    },
    {
     "name": "stdout",
     "output_type": "stream",
     "text": [
      "step1800, loss = 7.452487945556641, real = 0.21123501658439636, fake = 0.17631202936172485 6.08942174911499\n"
     ]
    },
    {
     "name": "stderr",
     "output_type": "stream",
     "text": [
      "Clipping input data to the valid range for imshow with RGB data ([0..1] for floats or [0..255] for integers).\n",
      "Clipping input data to the valid range for imshow with RGB data ([0..1] for floats or [0..255] for integers).\n",
      "Clipping input data to the valid range for imshow with RGB data ([0..1] for floats or [0..255] for integers).\n",
      "Clipping input data to the valid range for imshow with RGB data ([0..1] for floats or [0..255] for integers).\n",
      "Clipping input data to the valid range for imshow with RGB data ([0..1] for floats or [0..255] for integers).\n",
      "Clipping input data to the valid range for imshow with RGB data ([0..1] for floats or [0..255] for integers).\n",
      "Clipping input data to the valid range for imshow with RGB data ([0..1] for floats or [0..255] for integers).\n",
      "Clipping input data to the valid range for imshow with RGB data ([0..1] for floats or [0..255] for integers).\n"
     ]
    },
    {
     "name": "stdout",
     "output_type": "stream",
     "text": [
      "step1810, loss = 7.288903713226318, real = 0.20833000540733337, fake = 0.17561858892440796 6.091233253479004\n",
      "step1820, loss = 8.882871627807617, real = 0.2051754891872406, fake = 0.17847463488578796 6.076035499572754\n",
      "step1830, loss = 7.4197587966918945, real = 0.1901426613330841, fake = 0.15435853600502014 6.189376354217529\n",
      "[Epoch 1] loss:7.7866996847341055\n"
     ]
    },
    {
     "name": "stderr",
     "output_type": "stream",
     "text": [
      "Clipping input data to the valid range for imshow with RGB data ([0..1] for floats or [0..255] for integers).\n",
      "Clipping input data to the valid range for imshow with RGB data ([0..1] for floats or [0..255] for integers).\n",
      "Clipping input data to the valid range for imshow with RGB data ([0..1] for floats or [0..255] for integers).\n"
     ]
    },
    {
     "name": "stdout",
     "output_type": "stream",
     "text": [
      "step0, loss = 11.018320083618164, real = 0.19958704710006714, fake = 0.2683248519897461 5.695810317993164\n"
     ]
    },
    {
     "name": "stderr",
     "output_type": "stream",
     "text": [
      "Clipping input data to the valid range for imshow with RGB data ([0..1] for floats or [0..255] for integers).\n",
      "Clipping input data to the valid range for imshow with RGB data ([0..1] for floats or [0..255] for integers).\n",
      "Clipping input data to the valid range for imshow with RGB data ([0..1] for floats or [0..255] for integers).\n",
      "Clipping input data to the valid range for imshow with RGB data ([0..1] for floats or [0..255] for integers).\n",
      "Clipping input data to the valid range for imshow with RGB data ([0..1] for floats or [0..255] for integers).\n",
      "Clipping input data to the valid range for imshow with RGB data ([0..1] for floats or [0..255] for integers).\n",
      "Clipping input data to the valid range for imshow with RGB data ([0..1] for floats or [0..255] for integers).\n"
     ]
    },
    {
     "name": "stdout",
     "output_type": "stream",
     "text": [
      "step10, loss = 7.488690376281738, real = 0.23129843175411224, fake = 0.19477812945842743 6.002618789672852\n",
      "step20, loss = 8.158221244812012, real = 0.21252484619617462, fake = 0.12836530804634094 6.306410789489746\n",
      "step30, loss = 7.913361549377441, real = 0.21225884556770325, fake = 0.17013108730316162 6.118535041809082\n",
      "step40, loss = 7.518004417419434, real = 0.2225610613822937, fake = 0.21704041957855225 5.907806873321533\n",
      "step50, loss = 7.7574286460876465, real = 0.2007574737071991, fake = 0.16330696642398834 6.154359817504883\n",
      "step60, loss = 7.431962966918945, real = 0.21906088292598724, fake = 0.1942598819732666 6.006263732910156\n",
      "step70, loss = 7.344409942626953, real = 0.23481222987174988, fake = 0.2082543671131134 5.943863868713379\n",
      "step80, loss = 7.426381587982178, real = 0.20616810023784637, fake = 0.17464525997638702 6.096566677093506\n",
      "step90, loss = 8.905384063720703, real = 0.18976911902427673, fake = 0.15795132517814636 6.171839714050293\n"
     ]
    },
    {
     "name": "stderr",
     "output_type": "stream",
     "text": [
      "C:\\Users\\sbin_LAB\\AppData\\Local\\Temp\\ipykernel_30392\\2056485379.py:18: RuntimeWarning: More than 20 figures have been opened. Figures created through the pyplot interface (`matplotlib.pyplot.figure`) are retained until explicitly closed and may consume too much memory. (To control this warning, see the rcParam `figure.max_open_warning`).\n",
      "  plt.figure(figsize=(6, 20))\n",
      "Clipping input data to the valid range for imshow with RGB data ([0..1] for floats or [0..255] for integers).\n",
      "Clipping input data to the valid range for imshow with RGB data ([0..1] for floats or [0..255] for integers).\n"
     ]
    },
    {
     "name": "stdout",
     "output_type": "stream",
     "text": [
      "step100, loss = 7.709720611572266, real = 0.21258877217769623, fake = 0.1858762800693512 6.047347068786621\n"
     ]
    },
    {
     "name": "stderr",
     "output_type": "stream",
     "text": [
      "Clipping input data to the valid range for imshow with RGB data ([0..1] for floats or [0..255] for integers).\n",
      "Clipping input data to the valid range for imshow with RGB data ([0..1] for floats or [0..255] for integers).\n",
      "Clipping input data to the valid range for imshow with RGB data ([0..1] for floats or [0..255] for integers).\n",
      "Clipping input data to the valid range for imshow with RGB data ([0..1] for floats or [0..255] for integers).\n",
      "Clipping input data to the valid range for imshow with RGB data ([0..1] for floats or [0..255] for integers).\n",
      "Clipping input data to the valid range for imshow with RGB data ([0..1] for floats or [0..255] for integers).\n",
      "Clipping input data to the valid range for imshow with RGB data ([0..1] for floats or [0..255] for integers).\n",
      "Clipping input data to the valid range for imshow with RGB data ([0..1] for floats or [0..255] for integers).\n"
     ]
    },
    {
     "name": "stdout",
     "output_type": "stream",
     "text": [
      "step110, loss = 8.727700233459473, real = 0.2183036208152771, fake = 0.17141756415367126 6.105813026428223\n",
      "step120, loss = 7.741626739501953, real = 0.2004777491092682, fake = 0.15617164969444275 6.1795654296875\n",
      "step130, loss = 7.72697639465332, real = 0.21128150820732117, fake = 0.17377206683158875 6.100587844848633\n",
      "step140, loss = 7.693122863769531, real = 0.19682148098945618, fake = 0.1812254786491394 6.063935279846191\n",
      "step150, loss = 7.5040693283081055, real = 0.20488014817237854, fake = 0.17203271389007568 6.109606742858887\n",
      "step160, loss = 10.119635581970215, real = 0.21271677315235138, fake = 0.1604107767343521 6.158413887023926\n",
      "step170, loss = 7.662613391876221, real = 0.19998276233673096, fake = 0.1483398824930191 6.21653938293457\n",
      "step180, loss = 10.288480758666992, real = 0.2082410752773285, fake = 0.187631756067276 6.035612106323242\n",
      "step190, loss = 7.500507831573486, real = 0.19472038745880127, fake = 0.15946856141090393 6.168013572692871\n"
     ]
    },
    {
     "name": "stderr",
     "output_type": "stream",
     "text": [
      "Clipping input data to the valid range for imshow with RGB data ([0..1] for floats or [0..255] for integers).\n",
      "Clipping input data to the valid range for imshow with RGB data ([0..1] for floats or [0..255] for integers).\n"
     ]
    },
    {
     "name": "stdout",
     "output_type": "stream",
     "text": [
      "step200, loss = 7.300724029541016, real = 0.20870527625083923, fake = 0.2101147174835205 5.938723087310791\n"
     ]
    },
    {
     "name": "stderr",
     "output_type": "stream",
     "text": [
      "Clipping input data to the valid range for imshow with RGB data ([0..1] for floats or [0..255] for integers).\n",
      "Clipping input data to the valid range for imshow with RGB data ([0..1] for floats or [0..255] for integers).\n",
      "Clipping input data to the valid range for imshow with RGB data ([0..1] for floats or [0..255] for integers).\n",
      "Clipping input data to the valid range for imshow with RGB data ([0..1] for floats or [0..255] for integers).\n",
      "Clipping input data to the valid range for imshow with RGB data ([0..1] for floats or [0..255] for integers).\n",
      "Clipping input data to the valid range for imshow with RGB data ([0..1] for floats or [0..255] for integers).\n",
      "Clipping input data to the valid range for imshow with RGB data ([0..1] for floats or [0..255] for integers).\n",
      "Clipping input data to the valid range for imshow with RGB data ([0..1] for floats or [0..255] for integers).\n"
     ]
    },
    {
     "name": "stdout",
     "output_type": "stream",
     "text": [
      "step210, loss = 7.812456130981445, real = 0.21473725140094757, fake = 0.17768365144729614 6.084926605224609\n",
      "step220, loss = 10.005096435546875, real = 0.1986985206604004, fake = 0.16859984397888184 6.119187355041504\n",
      "step230, loss = 7.635223388671875, real = 0.2039739042520523, fake = 0.18277639150619507 6.066459655761719\n",
      "step240, loss = 7.572758674621582, real = 0.2059098333120346, fake = 0.15619760751724243 6.181809425354004\n",
      "step250, loss = 7.293539047241211, real = 0.20401093363761902, fake = 0.18682873249053955 6.039693355560303\n",
      "step260, loss = 7.5139617919921875, real = 0.19469353556632996, fake = 0.16598019003868103 6.131056785583496\n",
      "step270, loss = 9.365406036376953, real = 0.20500198006629944, fake = 0.18742504715919495 6.036720275878906\n",
      "step280, loss = 7.496796607971191, real = 0.21400411427021027, fake = 0.18130230903625488 6.069087982177734\n",
      "step290, loss = 8.145444869995117, real = 0.19621038436889648, fake = 0.16868376731872559 6.125458717346191\n"
     ]
    },
    {
     "name": "stderr",
     "output_type": "stream",
     "text": [
      "Clipping input data to the valid range for imshow with RGB data ([0..1] for floats or [0..255] for integers).\n",
      "Clipping input data to the valid range for imshow with RGB data ([0..1] for floats or [0..255] for integers).\n"
     ]
    },
    {
     "name": "stdout",
     "output_type": "stream",
     "text": [
      "step300, loss = 9.725167274475098, real = 0.20887720584869385, fake = 0.15088239312171936 6.204071044921875\n"
     ]
    },
    {
     "name": "stderr",
     "output_type": "stream",
     "text": [
      "Clipping input data to the valid range for imshow with RGB data ([0..1] for floats or [0..255] for integers).\n",
      "Clipping input data to the valid range for imshow with RGB data ([0..1] for floats or [0..255] for integers).\n",
      "Clipping input data to the valid range for imshow with RGB data ([0..1] for floats or [0..255] for integers).\n",
      "Clipping input data to the valid range for imshow with RGB data ([0..1] for floats or [0..255] for integers).\n",
      "Clipping input data to the valid range for imshow with RGB data ([0..1] for floats or [0..255] for integers).\n",
      "Clipping input data to the valid range for imshow with RGB data ([0..1] for floats or [0..255] for integers).\n",
      "Clipping input data to the valid range for imshow with RGB data ([0..1] for floats or [0..255] for integers).\n",
      "Clipping input data to the valid range for imshow with RGB data ([0..1] for floats or [0..255] for integers).\n"
     ]
    },
    {
     "name": "stdout",
     "output_type": "stream",
     "text": [
      "step310, loss = 7.611446857452393, real = 0.2165992259979248, fake = 0.18946577608585358 6.03226375579834\n",
      "step320, loss = 7.713849067687988, real = 0.21871665120124817, fake = 0.16720016300678253 6.13106632232666\n",
      "step330, loss = 7.6442790031433105, real = 0.19408270716667175, fake = 0.17708805203437805 6.083545684814453\n",
      "step340, loss = 8.09932804107666, real = 0.19144457578659058, fake = 0.1671314388513565 6.129688739776611\n",
      "step350, loss = 7.492074489593506, real = 0.20729157328605652, fake = 0.1855912208557129 6.049412250518799\n",
      "step360, loss = 8.990763664245605, real = 0.21936608850955963, fake = 0.16568785905838013 6.1403422355651855\n",
      "step370, loss = 7.751186370849609, real = 0.20243299007415771, fake = 0.17283600568771362 6.1043806076049805\n",
      "step380, loss = 7.746942043304443, real = 0.18095499277114868, fake = 0.16765977442264557 6.127262115478516\n",
      "step390, loss = 7.486498832702637, real = 0.20208987593650818, fake = 0.1792513132095337 6.074811935424805\n"
     ]
    },
    {
     "name": "stderr",
     "output_type": "stream",
     "text": [
      "Clipping input data to the valid range for imshow with RGB data ([0..1] for floats or [0..255] for integers).\n",
      "Clipping input data to the valid range for imshow with RGB data ([0..1] for floats or [0..255] for integers).\n",
      "Clipping input data to the valid range for imshow with RGB data ([0..1] for floats or [0..255] for integers).\n"
     ]
    },
    {
     "name": "stdout",
     "output_type": "stream",
     "text": [
      "step400, loss = 7.693150520324707, real = 0.20661284029483795, fake = 0.16071206331253052 6.160167217254639\n"
     ]
    },
    {
     "name": "stderr",
     "output_type": "stream",
     "text": [
      "Clipping input data to the valid range for imshow with RGB data ([0..1] for floats or [0..255] for integers).\n",
      "Clipping input data to the valid range for imshow with RGB data ([0..1] for floats or [0..255] for integers).\n",
      "Clipping input data to the valid range for imshow with RGB data ([0..1] for floats or [0..255] for integers).\n",
      "Clipping input data to the valid range for imshow with RGB data ([0..1] for floats or [0..255] for integers).\n",
      "Clipping input data to the valid range for imshow with RGB data ([0..1] for floats or [0..255] for integers).\n",
      "Clipping input data to the valid range for imshow with RGB data ([0..1] for floats or [0..255] for integers).\n",
      "Clipping input data to the valid range for imshow with RGB data ([0..1] for floats or [0..255] for integers).\n"
     ]
    },
    {
     "name": "stdout",
     "output_type": "stream",
     "text": [
      "step410, loss = 8.57958984375, real = 0.20757418870925903, fake = 0.17613635957241058 6.085596084594727\n",
      "step420, loss = 8.358829498291016, real = 0.1989118754863739, fake = 0.1534678041934967 6.195310592651367\n",
      "step430, loss = 7.450348854064941, real = 0.2079595923423767, fake = 0.17129561305046082 6.11200475692749\n",
      "step440, loss = 8.459551811218262, real = 0.22530055046081543, fake = 0.19327029585838318 6.007540702819824\n",
      "step450, loss = 7.402313232421875, real = 0.20829889178276062, fake = 0.16880616545677185 6.121332168579102\n",
      "step460, loss = 7.937261581420898, real = 0.1938806176185608, fake = 0.15528632700443268 6.19166374206543\n",
      "step470, loss = 7.516009330749512, real = 0.20080652832984924, fake = 0.17522472143173218 6.095629692077637\n",
      "step480, loss = 7.742034912109375, real = 0.1975000947713852, fake = 0.17213687300682068 6.1067070960998535\n",
      "step490, loss = 7.594820499420166, real = 0.209102064371109, fake = 0.15518569946289062 6.184079170227051\n"
     ]
    },
    {
     "name": "stderr",
     "output_type": "stream",
     "text": [
      "Clipping input data to the valid range for imshow with RGB data ([0..1] for floats or [0..255] for integers).\n",
      "Clipping input data to the valid range for imshow with RGB data ([0..1] for floats or [0..255] for integers).\n"
     ]
    },
    {
     "name": "stdout",
     "output_type": "stream",
     "text": [
      "step500, loss = 11.093873023986816, real = 0.22574661672115326, fake = 0.1778283715248108 6.074843406677246\n"
     ]
    },
    {
     "name": "stderr",
     "output_type": "stream",
     "text": [
      "Clipping input data to the valid range for imshow with RGB data ([0..1] for floats or [0..255] for integers).\n",
      "Clipping input data to the valid range for imshow with RGB data ([0..1] for floats or [0..255] for integers).\n",
      "Clipping input data to the valid range for imshow with RGB data ([0..1] for floats or [0..255] for integers).\n",
      "Clipping input data to the valid range for imshow with RGB data ([0..1] for floats or [0..255] for integers).\n",
      "Clipping input data to the valid range for imshow with RGB data ([0..1] for floats or [0..255] for integers).\n",
      "Clipping input data to the valid range for imshow with RGB data ([0..1] for floats or [0..255] for integers).\n",
      "Clipping input data to the valid range for imshow with RGB data ([0..1] for floats or [0..255] for integers).\n",
      "Clipping input data to the valid range for imshow with RGB data ([0..1] for floats or [0..255] for integers).\n"
     ]
    },
    {
     "name": "stdout",
     "output_type": "stream",
     "text": [
      "step510, loss = 7.653336048126221, real = 0.20672577619552612, fake = 0.1757364273071289 6.090961456298828\n",
      "step520, loss = 8.124947547912598, real = 0.20972184836864471, fake = 0.1810692548751831 6.068134307861328\n",
      "step530, loss = 7.548463344573975, real = 0.20337069034576416, fake = 0.1716822236776352 6.106188774108887\n",
      "step540, loss = 8.01032829284668, real = 0.19472043216228485, fake = 0.17404280602931976 6.100542068481445\n",
      "step550, loss = 7.9374284744262695, real = 0.1972276121377945, fake = 0.17153096199035645 6.112069129943848\n",
      "step560, loss = 7.786006927490234, real = 0.20529651641845703, fake = 0.16153700649738312 6.153359413146973\n",
      "step570, loss = 7.972855091094971, real = 0.197040855884552, fake = 0.1625751256942749 6.150724411010742\n",
      "step580, loss = 7.959717750549316, real = 0.19462618231773376, fake = 0.1575867384672165 6.177602767944336\n",
      "step590, loss = 7.703070640563965, real = 0.20187914371490479, fake = 0.1675066500902176 6.129181861877441\n"
     ]
    },
    {
     "name": "stderr",
     "output_type": "stream",
     "text": [
      "Clipping input data to the valid range for imshow with RGB data ([0..1] for floats or [0..255] for integers).\n",
      "Clipping input data to the valid range for imshow with RGB data ([0..1] for floats or [0..255] for integers).\n"
     ]
    },
    {
     "name": "stdout",
     "output_type": "stream",
     "text": [
      "step600, loss = 7.404868125915527, real = 0.20834636688232422, fake = 0.17474114894866943 6.0916032791137695\n"
     ]
    },
    {
     "name": "stderr",
     "output_type": "stream",
     "text": [
      "Clipping input data to the valid range for imshow with RGB data ([0..1] for floats or [0..255] for integers).\n",
      "Clipping input data to the valid range for imshow with RGB data ([0..1] for floats or [0..255] for integers).\n",
      "Clipping input data to the valid range for imshow with RGB data ([0..1] for floats or [0..255] for integers).\n",
      "Clipping input data to the valid range for imshow with RGB data ([0..1] for floats or [0..255] for integers).\n",
      "Clipping input data to the valid range for imshow with RGB data ([0..1] for floats or [0..255] for integers).\n",
      "Clipping input data to the valid range for imshow with RGB data ([0..1] for floats or [0..255] for integers).\n",
      "Clipping input data to the valid range for imshow with RGB data ([0..1] for floats or [0..255] for integers).\n",
      "Clipping input data to the valid range for imshow with RGB data ([0..1] for floats or [0..255] for integers).\n"
     ]
    },
    {
     "name": "stdout",
     "output_type": "stream",
     "text": [
      "step610, loss = 9.277108192443848, real = 0.1932305544614792, fake = 0.18375054001808167 6.051060676574707\n",
      "step620, loss = 8.873483657836914, real = 0.19562950730323792, fake = 0.15942257642745972 6.168308734893799\n",
      "step630, loss = 7.642232418060303, real = 0.1975535750389099, fake = 0.18039652705192566 6.0673604011535645\n",
      "step640, loss = 7.6096577644348145, real = 0.1963607370853424, fake = 0.16470761597156525 6.141120910644531\n",
      "step650, loss = 8.427702903747559, real = 0.22476902604103088, fake = 0.1734851598739624 6.093385696411133\n",
      "step660, loss = 7.578924179077148, real = 0.2083321213722229, fake = 0.16407795250415802 6.145279407501221\n",
      "step670, loss = 7.4980268478393555, real = 0.19185218214988708, fake = 0.16894565522670746 6.1220173835754395\n",
      "step680, loss = 7.792201995849609, real = 0.19068795442581177, fake = 0.17181724309921265 6.108173370361328\n",
      "step690, loss = 8.211772918701172, real = 0.21490955352783203, fake = 0.16624268889427185 6.133682727813721\n"
     ]
    },
    {
     "name": "stderr",
     "output_type": "stream",
     "text": [
      "Clipping input data to the valid range for imshow with RGB data ([0..1] for floats or [0..255] for integers).\n",
      "Clipping input data to the valid range for imshow with RGB data ([0..1] for floats or [0..255] for integers).\n"
     ]
    },
    {
     "name": "stdout",
     "output_type": "stream",
     "text": [
      "step700, loss = 7.4504289627075195, real = 0.2220364511013031, fake = 0.1676938831806183 6.1247406005859375\n"
     ]
    },
    {
     "name": "stderr",
     "output_type": "stream",
     "text": [
      "Clipping input data to the valid range for imshow with RGB data ([0..1] for floats or [0..255] for integers).\n",
      "Clipping input data to the valid range for imshow with RGB data ([0..1] for floats or [0..255] for integers).\n",
      "Clipping input data to the valid range for imshow with RGB data ([0..1] for floats or [0..255] for integers).\n",
      "Clipping input data to the valid range for imshow with RGB data ([0..1] for floats or [0..255] for integers).\n",
      "Clipping input data to the valid range for imshow with RGB data ([0..1] for floats or [0..255] for integers).\n",
      "Clipping input data to the valid range for imshow with RGB data ([0..1] for floats or [0..255] for integers).\n",
      "Clipping input data to the valid range for imshow with RGB data ([0..1] for floats or [0..255] for integers).\n",
      "Clipping input data to the valid range for imshow with RGB data ([0..1] for floats or [0..255] for integers).\n"
     ]
    },
    {
     "name": "stdout",
     "output_type": "stream",
     "text": [
      "step710, loss = 8.721726417541504, real = 0.21359357237815857, fake = 0.17704512178897858 6.085776329040527\n",
      "step720, loss = 8.063559532165527, real = 0.22283199429512024, fake = 0.17621150612831116 6.087233066558838\n",
      "step730, loss = 7.631096363067627, real = 0.20662716031074524, fake = 0.1617826223373413 6.1551361083984375\n",
      "step740, loss = 8.026705741882324, real = 0.2045801877975464, fake = 0.1817677617073059 6.0613203048706055\n",
      "step750, loss = 7.521597862243652, real = 0.182967409491539, fake = 0.14573970437049866 6.231653213500977\n",
      "step760, loss = 7.802656650543213, real = 0.20733338594436646, fake = 0.1533324271440506 6.193459510803223\n",
      "step770, loss = 7.522844314575195, real = 0.2023836374282837, fake = 0.1778494417667389 6.080322742462158\n",
      "step780, loss = 10.052271842956543, real = 0.2137763500213623, fake = 0.1708310842514038 6.10528564453125\n",
      "step790, loss = 9.449323654174805, real = 0.19603130221366882, fake = 0.15382443368434906 6.191987037658691\n"
     ]
    },
    {
     "name": "stderr",
     "output_type": "stream",
     "text": [
      "Clipping input data to the valid range for imshow with RGB data ([0..1] for floats or [0..255] for integers).\n",
      "Clipping input data to the valid range for imshow with RGB data ([0..1] for floats or [0..255] for integers).\n"
     ]
    },
    {
     "name": "stdout",
     "output_type": "stream",
     "text": [
      "step800, loss = 9.417621612548828, real = 0.20747409760951996, fake = 0.18005505204200745 6.0691938400268555\n"
     ]
    },
    {
     "name": "stderr",
     "output_type": "stream",
     "text": [
      "Clipping input data to the valid range for imshow with RGB data ([0..1] for floats or [0..255] for integers).\n",
      "Clipping input data to the valid range for imshow with RGB data ([0..1] for floats or [0..255] for integers).\n",
      "Clipping input data to the valid range for imshow with RGB data ([0..1] for floats or [0..255] for integers).\n",
      "Clipping input data to the valid range for imshow with RGB data ([0..1] for floats or [0..255] for integers).\n",
      "Clipping input data to the valid range for imshow with RGB data ([0..1] for floats or [0..255] for integers).\n",
      "Clipping input data to the valid range for imshow with RGB data ([0..1] for floats or [0..255] for integers).\n",
      "Clipping input data to the valid range for imshow with RGB data ([0..1] for floats or [0..255] for integers).\n",
      "Clipping input data to the valid range for imshow with RGB data ([0..1] for floats or [0..255] for integers).\n"
     ]
    },
    {
     "name": "stdout",
     "output_type": "stream",
     "text": [
      "step810, loss = 7.220588207244873, real = 0.1900290846824646, fake = 0.1671769618988037 6.131965160369873\n",
      "step820, loss = 7.517622947692871, real = 0.21026726067066193, fake = 0.17522749304771423 6.090488910675049\n",
      "step830, loss = 7.523866176605225, real = 0.2077295184135437, fake = 0.186428502202034 6.040589332580566\n",
      "step840, loss = 7.758853912353516, real = 0.19848738610744476, fake = 0.16713012754917145 6.130527019500732\n",
      "step850, loss = 8.039421081542969, real = 0.21189239621162415, fake = 0.17292259633541107 6.104437828063965\n",
      "step860, loss = 7.663211345672607, real = 0.21544307470321655, fake = 0.1592465490102768 6.164361000061035\n",
      "step870, loss = 8.808900833129883, real = 0.18768784403800964, fake = 0.1696254014968872 6.116542816162109\n",
      "step880, loss = 7.309295654296875, real = 0.2117515206336975, fake = 0.173833966255188 6.097807884216309\n",
      "step890, loss = 7.717188358306885, real = 0.18141573667526245, fake = 0.14462661743164062 6.232412338256836\n"
     ]
    },
    {
     "name": "stderr",
     "output_type": "stream",
     "text": [
      "Clipping input data to the valid range for imshow with RGB data ([0..1] for floats or [0..255] for integers).\n",
      "Clipping input data to the valid range for imshow with RGB data ([0..1] for floats or [0..255] for integers).\n"
     ]
    },
    {
     "name": "stdout",
     "output_type": "stream",
     "text": [
      "step900, loss = 7.345947742462158, real = 0.21431086957454681, fake = 0.18205946683883667 6.06174898147583\n"
     ]
    },
    {
     "name": "stderr",
     "output_type": "stream",
     "text": [
      "Clipping input data to the valid range for imshow with RGB data ([0..1] for floats or [0..255] for integers).\n",
      "Clipping input data to the valid range for imshow with RGB data ([0..1] for floats or [0..255] for integers).\n",
      "Clipping input data to the valid range for imshow with RGB data ([0..1] for floats or [0..255] for integers).\n",
      "Clipping input data to the valid range for imshow with RGB data ([0..1] for floats or [0..255] for integers).\n",
      "Clipping input data to the valid range for imshow with RGB data ([0..1] for floats or [0..255] for integers).\n",
      "Clipping input data to the valid range for imshow with RGB data ([0..1] for floats or [0..255] for integers).\n",
      "Clipping input data to the valid range for imshow with RGB data ([0..1] for floats or [0..255] for integers).\n",
      "Clipping input data to the valid range for imshow with RGB data ([0..1] for floats or [0..255] for integers).\n"
     ]
    },
    {
     "name": "stdout",
     "output_type": "stream",
     "text": [
      "step910, loss = 7.419041156768799, real = 0.20597684383392334, fake = 0.17660737037658691 6.088094234466553\n",
      "step920, loss = 7.367514133453369, real = 0.21317487955093384, fake = 0.17841137945652008 6.079585075378418\n",
      "step930, loss = 7.352540969848633, real = 0.19960620999336243, fake = 0.17815494537353516 6.076396942138672\n",
      "step940, loss = 7.408148765563965, real = 0.20629075169563293, fake = 0.16177332401275635 6.153677940368652\n",
      "step950, loss = 8.776981353759766, real = 0.2073436975479126, fake = 0.17197857797145844 6.107819557189941\n",
      "step960, loss = 7.75570011138916, real = 0.21648381650447845, fake = 0.16370666027069092 6.142666816711426\n",
      "step970, loss = 7.580496788024902, real = 0.20374581217765808, fake = 0.18765562772750854 6.03463077545166\n",
      "step980, loss = 8.62978744506836, real = 0.21461297571659088, fake = 0.19180160760879517 6.015552520751953\n",
      "step990, loss = 7.448755264282227, real = 0.21368813514709473, fake = 0.16478237509727478 6.138632774353027\n"
     ]
    },
    {
     "name": "stderr",
     "output_type": "stream",
     "text": [
      "Clipping input data to the valid range for imshow with RGB data ([0..1] for floats or [0..255] for integers).\n",
      "Clipping input data to the valid range for imshow with RGB data ([0..1] for floats or [0..255] for integers).\n"
     ]
    },
    {
     "name": "stdout",
     "output_type": "stream",
     "text": [
      "step1000, loss = 7.551785469055176, real = 0.19366322457790375, fake = 0.15202221274375916 6.197230815887451\n"
     ]
    },
    {
     "name": "stderr",
     "output_type": "stream",
     "text": [
      "Clipping input data to the valid range for imshow with RGB data ([0..1] for floats or [0..255] for integers).\n",
      "Clipping input data to the valid range for imshow with RGB data ([0..1] for floats or [0..255] for integers).\n",
      "Clipping input data to the valid range for imshow with RGB data ([0..1] for floats or [0..255] for integers).\n",
      "Clipping input data to the valid range for imshow with RGB data ([0..1] for floats or [0..255] for integers).\n",
      "Clipping input data to the valid range for imshow with RGB data ([0..1] for floats or [0..255] for integers).\n",
      "Clipping input data to the valid range for imshow with RGB data ([0..1] for floats or [0..255] for integers).\n",
      "Clipping input data to the valid range for imshow with RGB data ([0..1] for floats or [0..255] for integers).\n",
      "Clipping input data to the valid range for imshow with RGB data ([0..1] for floats or [0..255] for integers).\n"
     ]
    },
    {
     "name": "stdout",
     "output_type": "stream",
     "text": [
      "step1010, loss = 7.378450393676758, real = 0.20784887671470642, fake = 0.16857165098190308 6.122193336486816\n",
      "step1020, loss = 7.6661505699157715, real = 0.21884199976921082, fake = 0.17920786142349243 6.0708513259887695\n",
      "step1030, loss = 7.708204746246338, real = 0.2015494704246521, fake = 0.180282860994339 6.07081413269043\n",
      "step1040, loss = 8.644973754882812, real = 0.20139525830745697, fake = 0.1718102991580963 6.108071804046631\n",
      "step1050, loss = 8.143884658813477, real = 0.21390148997306824, fake = 0.15851810574531555 6.16922664642334\n",
      "step1060, loss = 8.015932083129883, real = 0.21346944570541382, fake = 0.15444636344909668 6.183931827545166\n",
      "step1070, loss = 10.082124710083008, real = 0.209386944770813, fake = 0.18091171979904175 6.066695690155029\n",
      "step1080, loss = 7.459737777709961, real = 0.20146070420742035, fake = 0.15585237741470337 6.180754661560059\n",
      "step1090, loss = 7.983813285827637, real = 0.19790542125701904, fake = 0.17052853107452393 6.118193626403809\n"
     ]
    },
    {
     "name": "stderr",
     "output_type": "stream",
     "text": [
      "Clipping input data to the valid range for imshow with RGB data ([0..1] for floats or [0..255] for integers).\n",
      "Clipping input data to the valid range for imshow with RGB data ([0..1] for floats or [0..255] for integers).\n"
     ]
    },
    {
     "name": "stdout",
     "output_type": "stream",
     "text": [
      "step1100, loss = 7.958409786224365, real = 0.2003953456878662, fake = 0.18381348252296448 6.052733421325684\n"
     ]
    },
    {
     "name": "stderr",
     "output_type": "stream",
     "text": [
      "Clipping input data to the valid range for imshow with RGB data ([0..1] for floats or [0..255] for integers).\n",
      "Clipping input data to the valid range for imshow with RGB data ([0..1] for floats or [0..255] for integers).\n",
      "Clipping input data to the valid range for imshow with RGB data ([0..1] for floats or [0..255] for integers).\n",
      "Clipping input data to the valid range for imshow with RGB data ([0..1] for floats or [0..255] for integers).\n",
      "Clipping input data to the valid range for imshow with RGB data ([0..1] for floats or [0..255] for integers).\n",
      "Clipping input data to the valid range for imshow with RGB data ([0..1] for floats or [0..255] for integers).\n",
      "Clipping input data to the valid range for imshow with RGB data ([0..1] for floats or [0..255] for integers).\n",
      "Clipping input data to the valid range for imshow with RGB data ([0..1] for floats or [0..255] for integers).\n"
     ]
    },
    {
     "name": "stdout",
     "output_type": "stream",
     "text": [
      "step1110, loss = 7.850698471069336, real = 0.1962060034275055, fake = 0.15197151899337769 6.2020158767700195\n",
      "step1120, loss = 9.031937599182129, real = 0.21847257018089294, fake = 0.1881302446126938 6.0312910079956055\n",
      "step1130, loss = 7.212979793548584, real = 0.20746847987174988, fake = 0.17828916013240814 6.076927185058594\n",
      "step1140, loss = 7.693964004516602, real = 0.19065675139427185, fake = 0.1564716100692749 6.174892425537109\n",
      "step1150, loss = 7.40563440322876, real = 0.1928764134645462, fake = 0.1640247106552124 6.140070915222168\n",
      "step1160, loss = 7.724664688110352, real = 0.2079179733991623, fake = 0.15586337447166443 6.185276985168457\n",
      "step1170, loss = 7.6398749351501465, real = 0.20261001586914062, fake = 0.15603050589561462 6.180543899536133\n",
      "step1180, loss = 7.729626178741455, real = 0.2065643072128296, fake = 0.17354261875152588 6.0955891609191895\n",
      "step1190, loss = 7.520545959472656, real = 0.20666393637657166, fake = 0.16507220268249512 6.13369083404541\n"
     ]
    },
    {
     "name": "stderr",
     "output_type": "stream",
     "text": [
      "Clipping input data to the valid range for imshow with RGB data ([0..1] for floats or [0..255] for integers).\n",
      "Clipping input data to the valid range for imshow with RGB data ([0..1] for floats or [0..255] for integers).\n"
     ]
    },
    {
     "name": "stdout",
     "output_type": "stream",
     "text": [
      "step1200, loss = 7.528622627258301, real = 0.19887633621692657, fake = 0.16133153438568115 6.157505989074707\n"
     ]
    },
    {
     "name": "stderr",
     "output_type": "stream",
     "text": [
      "Clipping input data to the valid range for imshow with RGB data ([0..1] for floats or [0..255] for integers).\n",
      "Clipping input data to the valid range for imshow with RGB data ([0..1] for floats or [0..255] for integers).\n",
      "Clipping input data to the valid range for imshow with RGB data ([0..1] for floats or [0..255] for integers).\n",
      "Clipping input data to the valid range for imshow with RGB data ([0..1] for floats or [0..255] for integers).\n",
      "Clipping input data to the valid range for imshow with RGB data ([0..1] for floats or [0..255] for integers).\n",
      "Clipping input data to the valid range for imshow with RGB data ([0..1] for floats or [0..255] for integers).\n",
      "Clipping input data to the valid range for imshow with RGB data ([0..1] for floats or [0..255] for integers).\n",
      "Clipping input data to the valid range for imshow with RGB data ([0..1] for floats or [0..255] for integers).\n"
     ]
    },
    {
     "name": "stdout",
     "output_type": "stream",
     "text": [
      "step1210, loss = 7.525809288024902, real = 0.20501506328582764, fake = 0.17571094632148743 6.09424352645874\n",
      "step1220, loss = 7.66864013671875, real = 0.19537974894046783, fake = 0.16636745631694794 6.134213924407959\n",
      "step1230, loss = 7.620179176330566, real = 0.1926824152469635, fake = 0.16437171399593353 6.143067359924316\n",
      "step1240, loss = 8.047783851623535, real = 0.19375576078891754, fake = 0.1598251461982727 6.163113117218018\n",
      "step1250, loss = 7.299729347229004, real = 0.20764562487602234, fake = 0.18253955245018005 6.059520721435547\n",
      "step1260, loss = 7.200495719909668, real = 0.19834083318710327, fake = 0.17304429411888123 6.102410316467285\n",
      "step1270, loss = 7.246409893035889, real = 0.19547519087791443, fake = 0.15949222445487976 6.164435386657715\n",
      "step1280, loss = 8.003181457519531, real = 0.212117001414299, fake = 0.1784290373325348 6.079178810119629\n",
      "step1290, loss = 7.54270076751709, real = 0.19070319831371307, fake = 0.16564011573791504 6.1371941566467285\n"
     ]
    },
    {
     "name": "stderr",
     "output_type": "stream",
     "text": [
      "Clipping input data to the valid range for imshow with RGB data ([0..1] for floats or [0..255] for integers).\n",
      "Clipping input data to the valid range for imshow with RGB data ([0..1] for floats or [0..255] for integers).\n"
     ]
    },
    {
     "name": "stdout",
     "output_type": "stream",
     "text": [
      "step1300, loss = 7.789520263671875, real = 0.204232856631279, fake = 0.17327392101287842 6.099498748779297\n"
     ]
    },
    {
     "name": "stderr",
     "output_type": "stream",
     "text": [
      "Clipping input data to the valid range for imshow with RGB data ([0..1] for floats or [0..255] for integers).\n",
      "Clipping input data to the valid range for imshow with RGB data ([0..1] for floats or [0..255] for integers).\n",
      "Clipping input data to the valid range for imshow with RGB data ([0..1] for floats or [0..255] for integers).\n",
      "Clipping input data to the valid range for imshow with RGB data ([0..1] for floats or [0..255] for integers).\n",
      "Clipping input data to the valid range for imshow with RGB data ([0..1] for floats or [0..255] for integers).\n",
      "Clipping input data to the valid range for imshow with RGB data ([0..1] for floats or [0..255] for integers).\n",
      "Clipping input data to the valid range for imshow with RGB data ([0..1] for floats or [0..255] for integers).\n",
      "Clipping input data to the valid range for imshow with RGB data ([0..1] for floats or [0..255] for integers).\n"
     ]
    },
    {
     "name": "stdout",
     "output_type": "stream",
     "text": [
      "step1310, loss = 7.388927459716797, real = 0.21917855739593506, fake = 0.1783720999956131 6.081162929534912\n",
      "step1320, loss = 8.876535415649414, real = 0.1989220380783081, fake = 0.17229041457176208 6.10625696182251\n",
      "step1330, loss = 7.751712322235107, real = 0.19367167353630066, fake = 0.15938688814640045 6.1625494956970215\n",
      "step1340, loss = 8.046411514282227, real = 0.1898288130760193, fake = 0.15481039881706238 6.187131881713867\n",
      "step1350, loss = 7.626138210296631, real = 0.20196470618247986, fake = 0.15000826120376587 6.207620620727539\n",
      "step1360, loss = 7.924249649047852, real = 0.193785160779953, fake = 0.152510866522789 6.1968231201171875\n",
      "step1370, loss = 7.4095659255981445, real = 0.21139812469482422, fake = 0.1734026074409485 6.103911399841309\n",
      "step1380, loss = 7.484577178955078, real = 0.20153120160102844, fake = 0.17115217447280884 6.111011505126953\n",
      "step1390, loss = 7.749513149261475, real = 0.19011527299880981, fake = 0.16229379177093506 6.152400016784668\n"
     ]
    },
    {
     "name": "stderr",
     "output_type": "stream",
     "text": [
      "Clipping input data to the valid range for imshow with RGB data ([0..1] for floats or [0..255] for integers).\n",
      "Clipping input data to the valid range for imshow with RGB data ([0..1] for floats or [0..255] for integers).\n"
     ]
    },
    {
     "name": "stdout",
     "output_type": "stream",
     "text": [
      "step1400, loss = 7.343171119689941, real = 0.19634777307510376, fake = 0.16904067993164062 6.117147445678711\n"
     ]
    },
    {
     "name": "stderr",
     "output_type": "stream",
     "text": [
      "Clipping input data to the valid range for imshow with RGB data ([0..1] for floats or [0..255] for integers).\n",
      "Clipping input data to the valid range for imshow with RGB data ([0..1] for floats or [0..255] for integers).\n",
      "Clipping input data to the valid range for imshow with RGB data ([0..1] for floats or [0..255] for integers).\n",
      "Clipping input data to the valid range for imshow with RGB data ([0..1] for floats or [0..255] for integers).\n",
      "Clipping input data to the valid range for imshow with RGB data ([0..1] for floats or [0..255] for integers).\n",
      "Clipping input data to the valid range for imshow with RGB data ([0..1] for floats or [0..255] for integers).\n",
      "Clipping input data to the valid range for imshow with RGB data ([0..1] for floats or [0..255] for integers).\n",
      "Clipping input data to the valid range for imshow with RGB data ([0..1] for floats or [0..255] for integers).\n"
     ]
    },
    {
     "name": "stdout",
     "output_type": "stream",
     "text": [
      "step1410, loss = 8.938344955444336, real = 0.20011556148529053, fake = 0.16132962703704834 6.153677940368652\n",
      "step1420, loss = 10.080646514892578, real = 0.21079762279987335, fake = 0.1559271663427353 6.179518699645996\n",
      "step1430, loss = 10.286946296691895, real = 0.2144072949886322, fake = 0.1682688593864441 6.124387741088867\n",
      "step1440, loss = 9.353601455688477, real = 0.19951462745666504, fake = 0.15052878856658936 6.206693172454834\n",
      "step1450, loss = 7.565065383911133, real = 0.20952638983726501, fake = 0.19070658087730408 6.022960662841797\n",
      "step1460, loss = 7.517033100128174, real = 0.20957620441913605, fake = 0.1681828498840332 6.124736309051514\n",
      "step1470, loss = 7.514833927154541, real = 0.21904020011425018, fake = 0.18806320428848267 6.03311014175415\n",
      "step1480, loss = 7.7214741706848145, real = 0.18495678901672363, fake = 0.17118120193481445 6.110011577606201\n",
      "step1490, loss = 7.2350239753723145, real = 0.21653595566749573, fake = 0.1888236105442047 6.029779434204102\n"
     ]
    },
    {
     "name": "stderr",
     "output_type": "stream",
     "text": [
      "Clipping input data to the valid range for imshow with RGB data ([0..1] for floats or [0..255] for integers).\n",
      "Clipping input data to the valid range for imshow with RGB data ([0..1] for floats or [0..255] for integers).\n"
     ]
    },
    {
     "name": "stdout",
     "output_type": "stream",
     "text": [
      "step1500, loss = 7.370872497558594, real = 0.20963604748249054, fake = 0.16422340273857117 6.146967887878418\n"
     ]
    },
    {
     "name": "stderr",
     "output_type": "stream",
     "text": [
      "Clipping input data to the valid range for imshow with RGB data ([0..1] for floats or [0..255] for integers).\n",
      "Clipping input data to the valid range for imshow with RGB data ([0..1] for floats or [0..255] for integers).\n",
      "Clipping input data to the valid range for imshow with RGB data ([0..1] for floats or [0..255] for integers).\n",
      "Clipping input data to the valid range for imshow with RGB data ([0..1] for floats or [0..255] for integers).\n",
      "Clipping input data to the valid range for imshow with RGB data ([0..1] for floats or [0..255] for integers).\n",
      "Clipping input data to the valid range for imshow with RGB data ([0..1] for floats or [0..255] for integers).\n",
      "Clipping input data to the valid range for imshow with RGB data ([0..1] for floats or [0..255] for integers).\n",
      "Clipping input data to the valid range for imshow with RGB data ([0..1] for floats or [0..255] for integers).\n"
     ]
    },
    {
     "name": "stdout",
     "output_type": "stream",
     "text": [
      "step1510, loss = 7.6691365242004395, real = 0.2171897441148758, fake = 0.16647231578826904 6.131763935089111\n",
      "step1520, loss = 7.755240440368652, real = 0.19253209233283997, fake = 0.15599142014980316 6.182198524475098\n",
      "step1530, loss = 7.969122886657715, real = 0.21139663457870483, fake = 0.15693756937980652 6.178737640380859\n",
      "step1540, loss = 7.988326549530029, real = 0.2043638527393341, fake = 0.17941436171531677 6.073969841003418\n",
      "step1550, loss = 8.52176284790039, real = 0.19230344891548157, fake = 0.1531004011631012 6.194528102874756\n",
      "step1560, loss = 7.783567428588867, real = 0.19824719429016113, fake = 0.17186479270458221 6.110708236694336\n",
      "step1570, loss = 9.212262153625488, real = 0.20519551634788513, fake = 0.17787952721118927 6.073223114013672\n",
      "step1580, loss = 9.405815124511719, real = 0.19462543725967407, fake = 0.1661827564239502 6.131417274475098\n",
      "step1590, loss = 8.749244689941406, real = 0.226408913731575, fake = 0.16580918431282043 6.135735511779785\n"
     ]
    },
    {
     "name": "stderr",
     "output_type": "stream",
     "text": [
      "Clipping input data to the valid range for imshow with RGB data ([0..1] for floats or [0..255] for integers).\n",
      "Clipping input data to the valid range for imshow with RGB data ([0..1] for floats or [0..255] for integers).\n"
     ]
    },
    {
     "name": "stdout",
     "output_type": "stream",
     "text": [
      "step1600, loss = 7.753783226013184, real = 0.20854482054710388, fake = 0.16187423467636108 6.1545610427856445\n"
     ]
    },
    {
     "name": "stderr",
     "output_type": "stream",
     "text": [
      "Clipping input data to the valid range for imshow with RGB data ([0..1] for floats or [0..255] for integers).\n",
      "Clipping input data to the valid range for imshow with RGB data ([0..1] for floats or [0..255] for integers).\n",
      "Clipping input data to the valid range for imshow with RGB data ([0..1] for floats or [0..255] for integers).\n",
      "Clipping input data to the valid range for imshow with RGB data ([0..1] for floats or [0..255] for integers).\n",
      "Clipping input data to the valid range for imshow with RGB data ([0..1] for floats or [0..255] for integers).\n",
      "Clipping input data to the valid range for imshow with RGB data ([0..1] for floats or [0..255] for integers).\n",
      "Clipping input data to the valid range for imshow with RGB data ([0..1] for floats or [0..255] for integers).\n",
      "Clipping input data to the valid range for imshow with RGB data ([0..1] for floats or [0..255] for integers).\n"
     ]
    },
    {
     "name": "stdout",
     "output_type": "stream",
     "text": [
      "step1610, loss = 8.22618579864502, real = 0.18936316668987274, fake = 0.170091450214386 6.114731788635254\n",
      "step1620, loss = 8.953655242919922, real = 0.18884506821632385, fake = 0.1654483675956726 6.13676643371582\n",
      "step1630, loss = 7.709649085998535, real = 0.204130619764328, fake = 0.18143275380134583 6.061783790588379\n",
      "step1640, loss = 7.140316009521484, real = 0.21239113807678223, fake = 0.17885908484458923 6.076916694641113\n",
      "step1650, loss = 10.651273727416992, real = 0.18898960947990417, fake = 0.15917372703552246 6.164568901062012\n",
      "step1660, loss = 8.024884223937988, real = 0.20820623636245728, fake = 0.16096866130828857 6.160552501678467\n",
      "step1670, loss = 12.383278846740723, real = 0.21960146725177765, fake = 0.17507636547088623 6.089789390563965\n",
      "step1680, loss = 7.882786750793457, real = 0.1926603615283966, fake = 0.15015655755996704 6.208335876464844\n",
      "step1690, loss = 8.158154487609863, real = 0.2145957052707672, fake = 0.1758158802986145 6.085736274719238\n"
     ]
    },
    {
     "name": "stderr",
     "output_type": "stream",
     "text": [
      "Clipping input data to the valid range for imshow with RGB data ([0..1] for floats or [0..255] for integers).\n",
      "Clipping input data to the valid range for imshow with RGB data ([0..1] for floats or [0..255] for integers).\n"
     ]
    },
    {
     "name": "stdout",
     "output_type": "stream",
     "text": [
      "step1700, loss = 7.633774280548096, real = 0.19803524017333984, fake = 0.1556549370288849 6.182413578033447\n"
     ]
    },
    {
     "name": "stderr",
     "output_type": "stream",
     "text": [
      "Clipping input data to the valid range for imshow with RGB data ([0..1] for floats or [0..255] for integers).\n",
      "Clipping input data to the valid range for imshow with RGB data ([0..1] for floats or [0..255] for integers).\n",
      "Clipping input data to the valid range for imshow with RGB data ([0..1] for floats or [0..255] for integers).\n",
      "Clipping input data to the valid range for imshow with RGB data ([0..1] for floats or [0..255] for integers).\n",
      "Clipping input data to the valid range for imshow with RGB data ([0..1] for floats or [0..255] for integers).\n",
      "Clipping input data to the valid range for imshow with RGB data ([0..1] for floats or [0..255] for integers).\n",
      "Clipping input data to the valid range for imshow with RGB data ([0..1] for floats or [0..255] for integers).\n",
      "Clipping input data to the valid range for imshow with RGB data ([0..1] for floats or [0..255] for integers).\n"
     ]
    },
    {
     "name": "stdout",
     "output_type": "stream",
     "text": [
      "step1710, loss = 7.975605010986328, real = 0.21401065587997437, fake = 0.17434649169445038 6.09529972076416\n",
      "step1720, loss = 8.623473167419434, real = 0.18991579115390778, fake = 0.1616726517677307 6.156888008117676\n",
      "step1730, loss = 8.993205070495605, real = 0.19504141807556152, fake = 0.17434710264205933 6.099114894866943\n",
      "step1740, loss = 9.162154197692871, real = 0.21548877656459808, fake = 0.1691242754459381 6.115760803222656\n",
      "step1750, loss = 7.327730655670166, real = 0.21630477905273438, fake = 0.17468756437301636 6.092971324920654\n",
      "step1760, loss = 7.160443305969238, real = 0.2200513780117035, fake = 0.18892571330070496 6.02821159362793\n",
      "step1770, loss = 7.360928535461426, real = 0.1900702565908432, fake = 0.16192007064819336 6.155996322631836\n",
      "step1780, loss = 7.790443420410156, real = 0.21198295056819916, fake = 0.1675988733768463 6.124773979187012\n",
      "step1790, loss = 7.64185905456543, real = 0.19090864062309265, fake = 0.1589864194393158 6.1715264320373535\n"
     ]
    },
    {
     "name": "stderr",
     "output_type": "stream",
     "text": [
      "Clipping input data to the valid range for imshow with RGB data ([0..1] for floats or [0..255] for integers).\n",
      "Clipping input data to the valid range for imshow with RGB data ([0..1] for floats or [0..255] for integers).\n"
     ]
    },
    {
     "name": "stdout",
     "output_type": "stream",
     "text": [
      "step1800, loss = 7.33625602722168, real = 0.1983785331249237, fake = 0.15920107066631317 6.167394638061523\n"
     ]
    },
    {
     "name": "stderr",
     "output_type": "stream",
     "text": [
      "Clipping input data to the valid range for imshow with RGB data ([0..1] for floats or [0..255] for integers).\n",
      "Clipping input data to the valid range for imshow with RGB data ([0..1] for floats or [0..255] for integers).\n",
      "Clipping input data to the valid range for imshow with RGB data ([0..1] for floats or [0..255] for integers).\n",
      "Clipping input data to the valid range for imshow with RGB data ([0..1] for floats or [0..255] for integers).\n",
      "Clipping input data to the valid range for imshow with RGB data ([0..1] for floats or [0..255] for integers).\n",
      "Clipping input data to the valid range for imshow with RGB data ([0..1] for floats or [0..255] for integers).\n",
      "Clipping input data to the valid range for imshow with RGB data ([0..1] for floats or [0..255] for integers).\n",
      "Clipping input data to the valid range for imshow with RGB data ([0..1] for floats or [0..255] for integers).\n"
     ]
    },
    {
     "name": "stdout",
     "output_type": "stream",
     "text": [
      "step1810, loss = 7.334038257598877, real = 0.199403315782547, fake = 0.16200213134288788 6.152072906494141\n",
      "step1820, loss = 8.3588285446167, real = 0.21697556972503662, fake = 0.1912752389907837 6.020097732543945\n",
      "step1830, loss = 9.035850524902344, real = 0.20656734704971313, fake = 0.17770203948020935 6.083301544189453\n",
      "[Epoch 2] loss:7.913778233775271\n"
     ]
    },
    {
     "name": "stderr",
     "output_type": "stream",
     "text": [
      "Clipping input data to the valid range for imshow with RGB data ([0..1] for floats or [0..255] for integers).\n",
      "Clipping input data to the valid range for imshow with RGB data ([0..1] for floats or [0..255] for integers).\n",
      "Clipping input data to the valid range for imshow with RGB data ([0..1] for floats or [0..255] for integers).\n"
     ]
    },
    {
     "name": "stdout",
     "output_type": "stream",
     "text": [
      "step0, loss = 10.844329833984375, real = 0.1921927034854889, fake = 0.21410107612609863 5.87485408782959\n"
     ]
    },
    {
     "name": "stderr",
     "output_type": "stream",
     "text": [
      "Clipping input data to the valid range for imshow with RGB data ([0..1] for floats or [0..255] for integers).\n",
      "Clipping input data to the valid range for imshow with RGB data ([0..1] for floats or [0..255] for integers).\n",
      "Clipping input data to the valid range for imshow with RGB data ([0..1] for floats or [0..255] for integers).\n",
      "Clipping input data to the valid range for imshow with RGB data ([0..1] for floats or [0..255] for integers).\n",
      "Clipping input data to the valid range for imshow with RGB data ([0..1] for floats or [0..255] for integers).\n",
      "Clipping input data to the valid range for imshow with RGB data ([0..1] for floats or [0..255] for integers).\n",
      "Clipping input data to the valid range for imshow with RGB data ([0..1] for floats or [0..255] for integers).\n"
     ]
    },
    {
     "name": "stdout",
     "output_type": "stream",
     "text": [
      "step10, loss = 7.792959213256836, real = 0.20885249972343445, fake = 0.16937041282653809 6.125519752502441\n",
      "step20, loss = 8.211620330810547, real = 0.21924453973770142, fake = 0.13582532107830048 6.2765350341796875\n",
      "step30, loss = 7.327931880950928, real = 0.2290271818637848, fake = 0.18276040256023407 6.062114715576172\n",
      "step40, loss = 7.577960968017578, real = 0.22300563752651215, fake = 0.14633506536483765 6.224024295806885\n",
      "step50, loss = 7.714381217956543, real = 0.2229476273059845, fake = 0.18563693761825562 6.043797969818115\n",
      "step60, loss = 7.465465545654297, real = 0.20849263668060303, fake = 0.1782042384147644 6.079143047332764\n",
      "step70, loss = 9.193605422973633, real = 0.21556414663791656, fake = 0.18901076912879944 6.031430244445801\n",
      "step80, loss = 7.398813247680664, real = 0.2191215455532074, fake = 0.16808386147022247 6.12584924697876\n",
      "step90, loss = 7.286886215209961, real = 0.21330992877483368, fake = 0.18213629722595215 6.060561180114746\n"
     ]
    },
    {
     "name": "stderr",
     "output_type": "stream",
     "text": [
      "Clipping input data to the valid range for imshow with RGB data ([0..1] for floats or [0..255] for integers).\n",
      "Clipping input data to the valid range for imshow with RGB data ([0..1] for floats or [0..255] for integers).\n"
     ]
    },
    {
     "name": "stdout",
     "output_type": "stream",
     "text": [
      "step100, loss = 10.352636337280273, real = 0.21945446729660034, fake = 0.154986172914505 6.1807661056518555\n"
     ]
    },
    {
     "name": "stderr",
     "output_type": "stream",
     "text": [
      "Clipping input data to the valid range for imshow with RGB data ([0..1] for floats or [0..255] for integers).\n",
      "Clipping input data to the valid range for imshow with RGB data ([0..1] for floats or [0..255] for integers).\n",
      "Clipping input data to the valid range for imshow with RGB data ([0..1] for floats or [0..255] for integers).\n",
      "Clipping input data to the valid range for imshow with RGB data ([0..1] for floats or [0..255] for integers).\n",
      "Clipping input data to the valid range for imshow with RGB data ([0..1] for floats or [0..255] for integers).\n",
      "Clipping input data to the valid range for imshow with RGB data ([0..1] for floats or [0..255] for integers).\n",
      "Clipping input data to the valid range for imshow with RGB data ([0..1] for floats or [0..255] for integers).\n",
      "Clipping input data to the valid range for imshow with RGB data ([0..1] for floats or [0..255] for integers).\n"
     ]
    },
    {
     "name": "stdout",
     "output_type": "stream",
     "text": [
      "step110, loss = 7.6915507316589355, real = 0.2042015790939331, fake = 0.169595405459404 6.121740341186523\n",
      "step120, loss = 7.581609725952148, real = 0.2028726041316986, fake = 0.16767039895057678 6.125967025756836\n",
      "step130, loss = 7.705341815948486, real = 0.18711762130260468, fake = 0.1681433618068695 6.126692771911621\n",
      "step140, loss = 7.890761375427246, real = 0.21777565777301788, fake = 0.17449048161506653 6.09748649597168\n",
      "step150, loss = 7.706474304199219, real = 0.2227146476507187, fake = 0.16566243767738342 6.140377521514893\n",
      "step160, loss = 7.546915054321289, real = 0.18197403848171234, fake = 0.15379148721694946 6.18959379196167\n",
      "step170, loss = 7.46984338760376, real = 0.2174903154373169, fake = 0.1620595008134842 6.14811897277832\n",
      "step180, loss = 7.525129795074463, real = 0.2040823996067047, fake = 0.16498523950576782 6.140881538391113\n",
      "step190, loss = 7.631386756896973, real = 0.21066400408744812, fake = 0.171222984790802 6.110816478729248\n"
     ]
    },
    {
     "name": "stderr",
     "output_type": "stream",
     "text": [
      "Clipping input data to the valid range for imshow with RGB data ([0..1] for floats or [0..255] for integers).\n",
      "Clipping input data to the valid range for imshow with RGB data ([0..1] for floats or [0..255] for integers).\n"
     ]
    },
    {
     "name": "stdout",
     "output_type": "stream",
     "text": [
      "step200, loss = 8.682266235351562, real = 0.19635120034217834, fake = 0.17181336879730225 6.114231109619141\n"
     ]
    },
    {
     "name": "stderr",
     "output_type": "stream",
     "text": [
      "Clipping input data to the valid range for imshow with RGB data ([0..1] for floats or [0..255] for integers).\n",
      "Clipping input data to the valid range for imshow with RGB data ([0..1] for floats or [0..255] for integers).\n",
      "Clipping input data to the valid range for imshow with RGB data ([0..1] for floats or [0..255] for integers).\n",
      "Clipping input data to the valid range for imshow with RGB data ([0..1] for floats or [0..255] for integers).\n",
      "Clipping input data to the valid range for imshow with RGB data ([0..1] for floats or [0..255] for integers).\n",
      "Clipping input data to the valid range for imshow with RGB data ([0..1] for floats or [0..255] for integers).\n",
      "Clipping input data to the valid range for imshow with RGB data ([0..1] for floats or [0..255] for integers).\n",
      "Clipping input data to the valid range for imshow with RGB data ([0..1] for floats or [0..255] for integers).\n"
     ]
    },
    {
     "name": "stdout",
     "output_type": "stream",
     "text": [
      "step210, loss = 7.360327243804932, real = 0.2038465142250061, fake = 0.16379615664482117 6.145848274230957\n",
      "step220, loss = 7.534625053405762, real = 0.19502562284469604, fake = 0.15165725350379944 6.202190399169922\n",
      "step230, loss = 7.851074695587158, real = 0.21141190826892853, fake = 0.17122167348861694 6.113643646240234\n",
      "step240, loss = 8.978187561035156, real = 0.21154054999351501, fake = 0.15236005187034607 6.19594669342041\n",
      "step250, loss = 7.574956893920898, real = 0.19152557849884033, fake = 0.16922053694725037 6.122859477996826\n",
      "step260, loss = 7.776434898376465, real = 0.19913649559020996, fake = 0.16848261654376984 6.12346076965332\n",
      "step270, loss = 7.468194484710693, real = 0.20354679226875305, fake = 0.16279008984565735 6.149919033050537\n",
      "step280, loss = 7.5216898918151855, real = 0.20775458216667175, fake = 0.16102102398872375 6.157866477966309\n",
      "step290, loss = 9.228263854980469, real = 0.20927956700325012, fake = 0.15829497575759888 6.166562080383301\n"
     ]
    },
    {
     "name": "stderr",
     "output_type": "stream",
     "text": [
      "Clipping input data to the valid range for imshow with RGB data ([0..1] for floats or [0..255] for integers).\n",
      "Clipping input data to the valid range for imshow with RGB data ([0..1] for floats or [0..255] for integers).\n"
     ]
    },
    {
     "name": "stdout",
     "output_type": "stream",
     "text": [
      "step300, loss = 7.551694869995117, real = 0.2035658359527588, fake = 0.16978606581687927 6.117973327636719\n"
     ]
    },
    {
     "name": "stderr",
     "output_type": "stream",
     "text": [
      "Clipping input data to the valid range for imshow with RGB data ([0..1] for floats or [0..255] for integers).\n",
      "Clipping input data to the valid range for imshow with RGB data ([0..1] for floats or [0..255] for integers).\n",
      "Clipping input data to the valid range for imshow with RGB data ([0..1] for floats or [0..255] for integers).\n",
      "Clipping input data to the valid range for imshow with RGB data ([0..1] for floats or [0..255] for integers).\n",
      "Clipping input data to the valid range for imshow with RGB data ([0..1] for floats or [0..255] for integers).\n",
      "Clipping input data to the valid range for imshow with RGB data ([0..1] for floats or [0..255] for integers).\n",
      "Clipping input data to the valid range for imshow with RGB data ([0..1] for floats or [0..255] for integers).\n",
      "Clipping input data to the valid range for imshow with RGB data ([0..1] for floats or [0..255] for integers).\n"
     ]
    },
    {
     "name": "stdout",
     "output_type": "stream",
     "text": [
      "step310, loss = 7.599730968475342, real = 0.1973259598016739, fake = 0.16612473130226135 6.132266044616699\n",
      "step320, loss = 7.531347751617432, real = 0.2198285311460495, fake = 0.1787266731262207 6.077435493469238\n",
      "step330, loss = 8.154193878173828, real = 0.2072182595729828, fake = 0.15738558769226074 6.174196243286133\n",
      "step340, loss = 8.701742172241211, real = 0.21099354326725006, fake = 0.17062556743621826 6.1140899658203125\n",
      "step350, loss = 7.762589454650879, real = 0.20563414692878723, fake = 0.1843276023864746 6.052524566650391\n",
      "step360, loss = 8.771203994750977, real = 0.20566216111183167, fake = 0.16119083762168884 6.157016277313232\n",
      "step370, loss = 7.468696594238281, real = 0.20539462566375732, fake = 0.15697023272514343 6.17306661605835\n",
      "step380, loss = 7.391264915466309, real = 0.20698943734169006, fake = 0.189142644405365 6.026832580566406\n",
      "step390, loss = 8.150924682617188, real = 0.20587553083896637, fake = 0.16107222437858582 6.158892631530762\n"
     ]
    },
    {
     "name": "stderr",
     "output_type": "stream",
     "text": [
      "Clipping input data to the valid range for imshow with RGB data ([0..1] for floats or [0..255] for integers).\n",
      "Clipping input data to the valid range for imshow with RGB data ([0..1] for floats or [0..255] for integers).\n",
      "Clipping input data to the valid range for imshow with RGB data ([0..1] for floats or [0..255] for integers).\n"
     ]
    },
    {
     "name": "stdout",
     "output_type": "stream",
     "text": [
      "step400, loss = 7.638115406036377, real = 0.22726893424987793, fake = 0.18146996200084686 6.059293746948242\n"
     ]
    },
    {
     "name": "stderr",
     "output_type": "stream",
     "text": [
      "Clipping input data to the valid range for imshow with RGB data ([0..1] for floats or [0..255] for integers).\n",
      "Clipping input data to the valid range for imshow with RGB data ([0..1] for floats or [0..255] for integers).\n",
      "Clipping input data to the valid range for imshow with RGB data ([0..1] for floats or [0..255] for integers).\n",
      "Clipping input data to the valid range for imshow with RGB data ([0..1] for floats or [0..255] for integers).\n",
      "Clipping input data to the valid range for imshow with RGB data ([0..1] for floats or [0..255] for integers).\n",
      "Clipping input data to the valid range for imshow with RGB data ([0..1] for floats or [0..255] for integers).\n",
      "Clipping input data to the valid range for imshow with RGB data ([0..1] for floats or [0..255] for integers).\n"
     ]
    },
    {
     "name": "stdout",
     "output_type": "stream",
     "text": [
      "step410, loss = 7.560206890106201, real = 0.189669668674469, fake = 0.15086795389652252 6.207281112670898\n",
      "step420, loss = 7.6879072189331055, real = 0.20889924466609955, fake = 0.16880708932876587 6.120862007141113\n",
      "step430, loss = 10.880775451660156, real = 0.20891842246055603, fake = 0.17374759912490845 6.098104000091553\n",
      "step440, loss = 7.283182621002197, real = 0.2021414041519165, fake = 0.1714494526386261 6.107836723327637\n",
      "step450, loss = 9.110103607177734, real = 0.20921172201633453, fake = 0.18574081361293793 6.045001983642578\n",
      "step460, loss = 7.590395450592041, real = 0.21751171350479126, fake = 0.16941943764686584 6.124752044677734\n",
      "step470, loss = 7.600104808807373, real = 0.2044721394777298, fake = 0.1673268973827362 6.125490188598633\n",
      "step480, loss = 9.907054901123047, real = 0.19073578715324402, fake = 0.16497233510017395 6.13570499420166\n",
      "step490, loss = 7.5931172370910645, real = 0.20858576893806458, fake = 0.17272281646728516 6.103762626647949\n"
     ]
    },
    {
     "name": "stderr",
     "output_type": "stream",
     "text": [
      "Clipping input data to the valid range for imshow with RGB data ([0..1] for floats or [0..255] for integers).\n",
      "Clipping input data to the valid range for imshow with RGB data ([0..1] for floats or [0..255] for integers).\n"
     ]
    },
    {
     "name": "stdout",
     "output_type": "stream",
     "text": [
      "step500, loss = 8.526603698730469, real = 0.23108360171318054, fake = 0.16476485133171082 6.1395673751831055\n"
     ]
    },
    {
     "name": "stderr",
     "output_type": "stream",
     "text": [
      "Clipping input data to the valid range for imshow with RGB data ([0..1] for floats or [0..255] for integers).\n",
      "Clipping input data to the valid range for imshow with RGB data ([0..1] for floats or [0..255] for integers).\n",
      "Clipping input data to the valid range for imshow with RGB data ([0..1] for floats or [0..255] for integers).\n",
      "Clipping input data to the valid range for imshow with RGB data ([0..1] for floats or [0..255] for integers).\n",
      "Clipping input data to the valid range for imshow with RGB data ([0..1] for floats or [0..255] for integers).\n",
      "Clipping input data to the valid range for imshow with RGB data ([0..1] for floats or [0..255] for integers).\n",
      "Clipping input data to the valid range for imshow with RGB data ([0..1] for floats or [0..255] for integers).\n",
      "Clipping input data to the valid range for imshow with RGB data ([0..1] for floats or [0..255] for integers).\n"
     ]
    },
    {
     "name": "stdout",
     "output_type": "stream",
     "text": [
      "step510, loss = 7.173794746398926, real = 0.19888801872730255, fake = 0.1667768657207489 6.130929946899414\n",
      "step520, loss = 7.886987209320068, real = 0.20934492349624634, fake = 0.1596279889345169 6.163719654083252\n",
      "step530, loss = 7.3480939865112305, real = 0.2027425765991211, fake = 0.1679862141609192 6.127424240112305\n",
      "step540, loss = 7.547998428344727, real = 0.1791171431541443, fake = 0.15044111013412476 6.207302093505859\n",
      "step550, loss = 7.344339847564697, real = 0.1969228982925415, fake = 0.17186053097248077 6.106942176818848\n",
      "step560, loss = 7.575830459594727, real = 0.18670408427715302, fake = 0.1602853238582611 6.163887023925781\n",
      "step570, loss = 7.739951133728027, real = 0.1974431276321411, fake = 0.17151138186454773 6.113015174865723\n",
      "step580, loss = 7.559150695800781, real = 0.2099105566740036, fake = 0.1640636920928955 6.144148826599121\n",
      "step590, loss = 7.899482727050781, real = 0.22026048600673676, fake = 0.16633671522140503 6.131930351257324\n"
     ]
    },
    {
     "name": "stderr",
     "output_type": "stream",
     "text": [
      "Clipping input data to the valid range for imshow with RGB data ([0..1] for floats or [0..255] for integers).\n",
      "Clipping input data to the valid range for imshow with RGB data ([0..1] for floats or [0..255] for integers).\n"
     ]
    },
    {
     "name": "stdout",
     "output_type": "stream",
     "text": [
      "step600, loss = 9.560279846191406, real = 0.2077127993106842, fake = 0.158769428730011 6.175664901733398\n"
     ]
    },
    {
     "name": "stderr",
     "output_type": "stream",
     "text": [
      "Clipping input data to the valid range for imshow with RGB data ([0..1] for floats or [0..255] for integers).\n",
      "Clipping input data to the valid range for imshow with RGB data ([0..1] for floats or [0..255] for integers).\n",
      "Clipping input data to the valid range for imshow with RGB data ([0..1] for floats or [0..255] for integers).\n",
      "Clipping input data to the valid range for imshow with RGB data ([0..1] for floats or [0..255] for integers).\n",
      "Clipping input data to the valid range for imshow with RGB data ([0..1] for floats or [0..255] for integers).\n",
      "Clipping input data to the valid range for imshow with RGB data ([0..1] for floats or [0..255] for integers).\n",
      "Clipping input data to the valid range for imshow with RGB data ([0..1] for floats or [0..255] for integers).\n",
      "Clipping input data to the valid range for imshow with RGB data ([0..1] for floats or [0..255] for integers).\n"
     ]
    },
    {
     "name": "stdout",
     "output_type": "stream",
     "text": [
      "step610, loss = 9.302268981933594, real = 0.20789992809295654, fake = 0.16056489944458008 6.159066200256348\n",
      "step620, loss = 7.8442487716674805, real = 0.20849668979644775, fake = 0.1612337976694107 6.159046649932861\n",
      "step630, loss = 8.58381175994873, real = 0.2110016644001007, fake = 0.17820197343826294 6.081055641174316\n",
      "step640, loss = 7.715607643127441, real = 0.18707434833049774, fake = 0.1658361405134201 6.132704257965088\n",
      "step650, loss = 7.869227409362793, real = 0.20206336677074432, fake = 0.17109689116477966 6.11102294921875\n",
      "step660, loss = 8.264988899230957, real = 0.20272743701934814, fake = 0.1649954617023468 6.140980243682861\n",
      "step670, loss = 7.847494602203369, real = 0.1961316466331482, fake = 0.15764445066452026 6.175741195678711\n",
      "step680, loss = 7.845727920532227, real = 0.19657252728939056, fake = 0.15638568997383118 6.180757522583008\n",
      "step690, loss = 7.280169486999512, real = 0.20508965849876404, fake = 0.1841353476047516 6.050242900848389\n"
     ]
    },
    {
     "name": "stderr",
     "output_type": "stream",
     "text": [
      "Clipping input data to the valid range for imshow with RGB data ([0..1] for floats or [0..255] for integers).\n",
      "Clipping input data to the valid range for imshow with RGB data ([0..1] for floats or [0..255] for integers).\n",
      "Clipping input data to the valid range for imshow with RGB data ([0..1] for floats or [0..255] for integers).\n"
     ]
    },
    {
     "name": "stdout",
     "output_type": "stream",
     "text": [
      "step700, loss = 7.855422496795654, real = 0.19385191798210144, fake = 0.16168726980686188 6.150367736816406\n"
     ]
    },
    {
     "name": "stderr",
     "output_type": "stream",
     "text": [
      "Clipping input data to the valid range for imshow with RGB data ([0..1] for floats or [0..255] for integers).\n",
      "Clipping input data to the valid range for imshow with RGB data ([0..1] for floats or [0..255] for integers).\n",
      "Clipping input data to the valid range for imshow with RGB data ([0..1] for floats or [0..255] for integers).\n",
      "Clipping input data to the valid range for imshow with RGB data ([0..1] for floats or [0..255] for integers).\n",
      "Clipping input data to the valid range for imshow with RGB data ([0..1] for floats or [0..255] for integers).\n",
      "Clipping input data to the valid range for imshow with RGB data ([0..1] for floats or [0..255] for integers).\n",
      "Clipping input data to the valid range for imshow with RGB data ([0..1] for floats or [0..255] for integers).\n"
     ]
    },
    {
     "name": "stdout",
     "output_type": "stream",
     "text": [
      "step710, loss = 7.087880611419678, real = 0.20480944216251373, fake = 0.16819483041763306 6.127109527587891\n",
      "step720, loss = 7.603565216064453, real = 0.19809512794017792, fake = 0.17607185244560242 6.089859485626221\n",
      "step730, loss = 7.705810070037842, real = 0.20476824045181274, fake = 0.1627439558506012 6.147913932800293\n",
      "step740, loss = 7.279672145843506, real = 0.21510270237922668, fake = 0.1794448047876358 6.071707248687744\n",
      "step750, loss = 7.623395919799805, real = 0.19607427716255188, fake = 0.15924960374832153 6.1641058921813965\n",
      "step760, loss = 7.770742416381836, real = 0.19440922141075134, fake = 0.15589797496795654 6.176867961883545\n",
      "step770, loss = 7.788968563079834, real = 0.21261507272720337, fake = 0.1842142790555954 6.051611423492432\n",
      "step780, loss = 7.620274543762207, real = 0.1969340443611145, fake = 0.15381303429603577 6.186319351196289\n",
      "step790, loss = 7.8254899978637695, real = 0.2160722315311432, fake = 0.17126083374023438 6.1111626625061035\n"
     ]
    },
    {
     "name": "stderr",
     "output_type": "stream",
     "text": [
      "Clipping input data to the valid range for imshow with RGB data ([0..1] for floats or [0..255] for integers).\n",
      "Clipping input data to the valid range for imshow with RGB data ([0..1] for floats or [0..255] for integers).\n",
      "Clipping input data to the valid range for imshow with RGB data ([0..1] for floats or [0..255] for integers).\n"
     ]
    },
    {
     "name": "stdout",
     "output_type": "stream",
     "text": [
      "step800, loss = 8.631345748901367, real = 0.1887577325105667, fake = 0.16141332685947418 6.158594131469727\n"
     ]
    },
    {
     "name": "stderr",
     "output_type": "stream",
     "text": [
      "Clipping input data to the valid range for imshow with RGB data ([0..1] for floats or [0..255] for integers).\n",
      "Clipping input data to the valid range for imshow with RGB data ([0..1] for floats or [0..255] for integers).\n",
      "Clipping input data to the valid range for imshow with RGB data ([0..1] for floats or [0..255] for integers).\n",
      "Clipping input data to the valid range for imshow with RGB data ([0..1] for floats or [0..255] for integers).\n",
      "Clipping input data to the valid range for imshow with RGB data ([0..1] for floats or [0..255] for integers).\n",
      "Clipping input data to the valid range for imshow with RGB data ([0..1] for floats or [0..255] for integers).\n",
      "Clipping input data to the valid range for imshow with RGB data ([0..1] for floats or [0..255] for integers).\n"
     ]
    },
    {
     "name": "stdout",
     "output_type": "stream",
     "text": [
      "step810, loss = 7.7247514724731445, real = 0.198396697640419, fake = 0.1666456162929535 6.131153106689453\n",
      "step820, loss = 7.517631530761719, real = 0.1977342963218689, fake = 0.1619197428226471 6.157630920410156\n",
      "step830, loss = 8.682193756103516, real = 0.20741605758666992, fake = 0.1689358651638031 6.122714996337891\n",
      "step840, loss = 7.581703186035156, real = 0.19929978251457214, fake = 0.1710335612297058 6.108975410461426\n",
      "step850, loss = 8.030674934387207, real = 0.18422013521194458, fake = 0.14846599102020264 6.213461875915527\n",
      "step860, loss = 7.656783103942871, real = 0.2093747854232788, fake = 0.16782993078231812 6.124832630157471\n",
      "step870, loss = 7.631021022796631, real = 0.1940121203660965, fake = 0.163496196269989 6.145533561706543\n",
      "step880, loss = 7.68686580657959, real = 0.21634191274642944, fake = 0.16341492533683777 6.146717548370361\n",
      "step890, loss = 8.211627006530762, real = 0.20364516973495483, fake = 0.1679205745458603 6.128973007202148\n"
     ]
    },
    {
     "name": "stderr",
     "output_type": "stream",
     "text": [
      "Clipping input data to the valid range for imshow with RGB data ([0..1] for floats or [0..255] for integers).\n",
      "Clipping input data to the valid range for imshow with RGB data ([0..1] for floats or [0..255] for integers).\n"
     ]
    },
    {
     "name": "stdout",
     "output_type": "stream",
     "text": [
      "step900, loss = 7.466522216796875, real = 0.20924367010593414, fake = 0.17558269202709198 6.0942254066467285\n"
     ]
    },
    {
     "name": "stderr",
     "output_type": "stream",
     "text": [
      "Clipping input data to the valid range for imshow with RGB data ([0..1] for floats or [0..255] for integers).\n",
      "Clipping input data to the valid range for imshow with RGB data ([0..1] for floats or [0..255] for integers).\n",
      "Clipping input data to the valid range for imshow with RGB data ([0..1] for floats or [0..255] for integers).\n",
      "Clipping input data to the valid range for imshow with RGB data ([0..1] for floats or [0..255] for integers).\n",
      "Clipping input data to the valid range for imshow with RGB data ([0..1] for floats or [0..255] for integers).\n",
      "Clipping input data to the valid range for imshow with RGB data ([0..1] for floats or [0..255] for integers).\n",
      "Clipping input data to the valid range for imshow with RGB data ([0..1] for floats or [0..255] for integers).\n",
      "Clipping input data to the valid range for imshow with RGB data ([0..1] for floats or [0..255] for integers).\n"
     ]
    },
    {
     "name": "stdout",
     "output_type": "stream",
     "text": [
      "step910, loss = 7.472341060638428, real = 0.20508116483688354, fake = 0.17706486582756042 6.086032390594482\n",
      "step920, loss = 7.552638053894043, real = 0.199334979057312, fake = 0.16427111625671387 6.1387619972229\n",
      "step930, loss = 7.326615810394287, real = 0.20124727487564087, fake = 0.1606813669204712 6.161499500274658\n",
      "step940, loss = 7.519708633422852, real = 0.18605124950408936, fake = 0.14119789004325867 6.2499003410339355\n",
      "step950, loss = 8.1326904296875, real = 0.2029891014099121, fake = 0.17818062007427216 6.0786261558532715\n",
      "step960, loss = 8.393637657165527, real = 0.2042972445487976, fake = 0.1822202503681183 6.0608696937561035\n",
      "step970, loss = 7.492771625518799, real = 0.19426794350147247, fake = 0.1856987029314041 6.046934127807617\n",
      "step980, loss = 7.520630359649658, real = 0.19486193358898163, fake = 0.16073495149612427 6.154449462890625\n",
      "step990, loss = 7.54898738861084, real = 0.18643926084041595, fake = 0.16919392347335815 6.1182332038879395\n"
     ]
    },
    {
     "name": "stderr",
     "output_type": "stream",
     "text": [
      "Clipping input data to the valid range for imshow with RGB data ([0..1] for floats or [0..255] for integers).\n",
      "Clipping input data to the valid range for imshow with RGB data ([0..1] for floats or [0..255] for integers).\n"
     ]
    },
    {
     "name": "stdout",
     "output_type": "stream",
     "text": [
      "step1000, loss = 7.47883939743042, real = 0.19845739006996155, fake = 0.16439276933670044 6.140987396240234\n"
     ]
    },
    {
     "name": "stderr",
     "output_type": "stream",
     "text": [
      "Clipping input data to the valid range for imshow with RGB data ([0..1] for floats or [0..255] for integers).\n",
      "Clipping input data to the valid range for imshow with RGB data ([0..1] for floats or [0..255] for integers).\n",
      "Clipping input data to the valid range for imshow with RGB data ([0..1] for floats or [0..255] for integers).\n",
      "Clipping input data to the valid range for imshow with RGB data ([0..1] for floats or [0..255] for integers).\n",
      "Clipping input data to the valid range for imshow with RGB data ([0..1] for floats or [0..255] for integers).\n",
      "Clipping input data to the valid range for imshow with RGB data ([0..1] for floats or [0..255] for integers).\n",
      "Clipping input data to the valid range for imshow with RGB data ([0..1] for floats or [0..255] for integers).\n",
      "Clipping input data to the valid range for imshow with RGB data ([0..1] for floats or [0..255] for integers).\n"
     ]
    },
    {
     "name": "stdout",
     "output_type": "stream",
     "text": [
      "step1010, loss = 7.301226615905762, real = 0.20626816153526306, fake = 0.1616959571838379 6.1527180671691895\n",
      "step1020, loss = 7.457536697387695, real = 0.19087845087051392, fake = 0.15782946348190308 6.17255163192749\n",
      "step1030, loss = 7.067844390869141, real = 0.20381340384483337, fake = 0.17244771122932434 6.108853340148926\n",
      "step1040, loss = 7.843807220458984, real = 0.19307097792625427, fake = 0.17113283276557922 6.111209392547607\n",
      "step1050, loss = 7.5167131423950195, real = 0.2028222382068634, fake = 0.17076927423477173 6.113553047180176\n",
      "step1060, loss = 7.598228454589844, real = 0.20691734552383423, fake = 0.16810747981071472 6.1260271072387695\n",
      "step1070, loss = 8.682531356811523, real = 0.1881958544254303, fake = 0.1735752522945404 6.1045451164245605\n",
      "step1080, loss = 7.790236473083496, real = 0.1910611391067505, fake = 0.1585790514945984 6.1674723625183105\n",
      "step1090, loss = 7.8458967208862305, real = 0.20198017358779907, fake = 0.1578938364982605 6.174447059631348\n"
     ]
    },
    {
     "name": "stderr",
     "output_type": "stream",
     "text": [
      "Clipping input data to the valid range for imshow with RGB data ([0..1] for floats or [0..255] for integers).\n",
      "Clipping input data to the valid range for imshow with RGB data ([0..1] for floats or [0..255] for integers).\n"
     ]
    },
    {
     "name": "stdout",
     "output_type": "stream",
     "text": [
      "step1100, loss = 7.227107524871826, real = 0.19587889313697815, fake = 0.17250606417655945 6.103734016418457\n"
     ]
    },
    {
     "name": "stderr",
     "output_type": "stream",
     "text": [
      "Clipping input data to the valid range for imshow with RGB data ([0..1] for floats or [0..255] for integers).\n",
      "Clipping input data to the valid range for imshow with RGB data ([0..1] for floats or [0..255] for integers).\n",
      "Clipping input data to the valid range for imshow with RGB data ([0..1] for floats or [0..255] for integers).\n",
      "Clipping input data to the valid range for imshow with RGB data ([0..1] for floats or [0..255] for integers).\n",
      "Clipping input data to the valid range for imshow with RGB data ([0..1] for floats or [0..255] for integers).\n",
      "Clipping input data to the valid range for imshow with RGB data ([0..1] for floats or [0..255] for integers).\n",
      "Clipping input data to the valid range for imshow with RGB data ([0..1] for floats or [0..255] for integers).\n",
      "Clipping input data to the valid range for imshow with RGB data ([0..1] for floats or [0..255] for integers).\n"
     ]
    },
    {
     "name": "stdout",
     "output_type": "stream",
     "text": [
      "step1110, loss = 7.585623264312744, real = 0.19667041301727295, fake = 0.15930020809173584 6.163691520690918\n",
      "step1120, loss = 7.6415205001831055, real = 0.20966410636901855, fake = 0.16250480711460114 6.148862361907959\n",
      "step1130, loss = 9.120389938354492, real = 0.1908082813024521, fake = 0.15820832550525665 6.171009540557861\n",
      "step1140, loss = 7.404905319213867, real = 0.18713384866714478, fake = 0.17471849918365479 6.095587730407715\n",
      "step1150, loss = 7.533792972564697, real = 0.20164501667022705, fake = 0.15910707414150238 6.163012504577637\n",
      "step1160, loss = 7.630566120147705, real = 0.20193034410476685, fake = 0.15542972087860107 6.177451133728027\n",
      "step1170, loss = 7.654097557067871, real = 0.2072053998708725, fake = 0.17180581390857697 6.10671329498291\n",
      "step1180, loss = 8.918085098266602, real = 0.21250909566879272, fake = 0.17578795552253723 6.091856479644775\n",
      "step1190, loss = 7.41768217086792, real = 0.19397234916687012, fake = 0.15925565361976624 6.168298244476318\n"
     ]
    },
    {
     "name": "stderr",
     "output_type": "stream",
     "text": [
      "Clipping input data to the valid range for imshow with RGB data ([0..1] for floats or [0..255] for integers).\n",
      "Clipping input data to the valid range for imshow with RGB data ([0..1] for floats or [0..255] for integers).\n"
     ]
    },
    {
     "name": "stdout",
     "output_type": "stream",
     "text": [
      "step1200, loss = 7.269924163818359, real = 0.207245334982872, fake = 0.17234820127487183 6.106141090393066\n"
     ]
    },
    {
     "name": "stderr",
     "output_type": "stream",
     "text": [
      "Clipping input data to the valid range for imshow with RGB data ([0..1] for floats or [0..255] for integers).\n",
      "Clipping input data to the valid range for imshow with RGB data ([0..1] for floats or [0..255] for integers).\n",
      "Clipping input data to the valid range for imshow with RGB data ([0..1] for floats or [0..255] for integers).\n",
      "Clipping input data to the valid range for imshow with RGB data ([0..1] for floats or [0..255] for integers).\n",
      "Clipping input data to the valid range for imshow with RGB data ([0..1] for floats or [0..255] for integers).\n",
      "Clipping input data to the valid range for imshow with RGB data ([0..1] for floats or [0..255] for integers).\n",
      "Clipping input data to the valid range for imshow with RGB data ([0..1] for floats or [0..255] for integers).\n",
      "Clipping input data to the valid range for imshow with RGB data ([0..1] for floats or [0..255] for integers).\n"
     ]
    },
    {
     "name": "stdout",
     "output_type": "stream",
     "text": [
      "step1210, loss = 7.790652275085449, real = 0.21708081662654877, fake = 0.162953719496727 6.146543502807617\n",
      "step1220, loss = 7.541236400604248, real = 0.18341493606567383, fake = 0.15539038181304932 6.181910514831543\n",
      "step1230, loss = 7.50919771194458, real = 0.21471449732780457, fake = 0.17016448080539703 6.1136393547058105\n",
      "step1240, loss = 7.504207611083984, real = 0.19801636040210724, fake = 0.16803687810897827 6.126340866088867\n",
      "step1250, loss = 7.950550079345703, real = 0.19963166117668152, fake = 0.16790306568145752 6.126487731933594\n",
      "step1260, loss = 10.776248931884766, real = 0.22038087248802185, fake = 0.1729518473148346 6.105113983154297\n",
      "step1270, loss = 7.168818473815918, real = 0.20109206438064575, fake = 0.17119306325912476 6.111597537994385\n",
      "step1280, loss = 7.779206275939941, real = 0.1863282173871994, fake = 0.15792620182037354 6.171472549438477\n",
      "step1290, loss = 7.460013389587402, real = 0.21608813107013702, fake = 0.1709505021572113 6.113384246826172\n"
     ]
    },
    {
     "name": "stderr",
     "output_type": "stream",
     "text": [
      "Clipping input data to the valid range for imshow with RGB data ([0..1] for floats or [0..255] for integers).\n",
      "Clipping input data to the valid range for imshow with RGB data ([0..1] for floats or [0..255] for integers).\n"
     ]
    },
    {
     "name": "stdout",
     "output_type": "stream",
     "text": [
      "step1300, loss = 7.65264892578125, real = 0.1842995136976242, fake = 0.1503967046737671 6.206401348114014\n"
     ]
    },
    {
     "name": "stderr",
     "output_type": "stream",
     "text": [
      "Clipping input data to the valid range for imshow with RGB data ([0..1] for floats or [0..255] for integers).\n",
      "Clipping input data to the valid range for imshow with RGB data ([0..1] for floats or [0..255] for integers).\n",
      "Clipping input data to the valid range for imshow with RGB data ([0..1] for floats or [0..255] for integers).\n",
      "Clipping input data to the valid range for imshow with RGB data ([0..1] for floats or [0..255] for integers).\n",
      "Clipping input data to the valid range for imshow with RGB data ([0..1] for floats or [0..255] for integers).\n",
      "Clipping input data to the valid range for imshow with RGB data ([0..1] for floats or [0..255] for integers).\n",
      "Clipping input data to the valid range for imshow with RGB data ([0..1] for floats or [0..255] for integers).\n",
      "Clipping input data to the valid range for imshow with RGB data ([0..1] for floats or [0..255] for integers).\n"
     ]
    },
    {
     "name": "stdout",
     "output_type": "stream",
     "text": [
      "step1310, loss = 7.281014442443848, real = 0.21090373396873474, fake = 0.17656035721302032 6.092148780822754\n",
      "step1320, loss = 8.270787239074707, real = 0.20412848889827728, fake = 0.17139622569084167 6.109777450561523\n",
      "step1330, loss = 7.626652717590332, real = 0.1933780312538147, fake = 0.15509697794914246 6.184135437011719\n",
      "step1340, loss = 7.807929992675781, real = 0.19454644620418549, fake = 0.16134081780910492 6.157283782958984\n",
      "step1350, loss = 7.125214099884033, real = 0.19327636063098907, fake = 0.16112929582595825 6.157355785369873\n",
      "step1360, loss = 7.668806076049805, real = 0.1915901005268097, fake = 0.16518810391426086 6.138485431671143\n",
      "step1370, loss = 7.540811061859131, real = 0.20250290632247925, fake = 0.16634789109230042 6.13386344909668\n",
      "step1380, loss = 7.350082874298096, real = 0.1968623399734497, fake = 0.16760021448135376 6.1288886070251465\n",
      "step1390, loss = 7.339039325714111, real = 0.190118670463562, fake = 0.16078582406044006 6.158714771270752\n"
     ]
    },
    {
     "name": "stderr",
     "output_type": "stream",
     "text": [
      "Clipping input data to the valid range for imshow with RGB data ([0..1] for floats or [0..255] for integers).\n",
      "Clipping input data to the valid range for imshow with RGB data ([0..1] for floats or [0..255] for integers).\n"
     ]
    },
    {
     "name": "stdout",
     "output_type": "stream",
     "text": [
      "step1400, loss = 7.503973960876465, real = 0.1942136585712433, fake = 0.1422596275806427 6.24067497253418\n"
     ]
    },
    {
     "name": "stderr",
     "output_type": "stream",
     "text": [
      "Clipping input data to the valid range for imshow with RGB data ([0..1] for floats or [0..255] for integers).\n",
      "Clipping input data to the valid range for imshow with RGB data ([0..1] for floats or [0..255] for integers).\n",
      "Clipping input data to the valid range for imshow with RGB data ([0..1] for floats or [0..255] for integers).\n",
      "Clipping input data to the valid range for imshow with RGB data ([0..1] for floats or [0..255] for integers).\n",
      "Clipping input data to the valid range for imshow with RGB data ([0..1] for floats or [0..255] for integers).\n",
      "Clipping input data to the valid range for imshow with RGB data ([0..1] for floats or [0..255] for integers).\n",
      "Clipping input data to the valid range for imshow with RGB data ([0..1] for floats or [0..255] for integers).\n",
      "Clipping input data to the valid range for imshow with RGB data ([0..1] for floats or [0..255] for integers).\n"
     ]
    },
    {
     "name": "stdout",
     "output_type": "stream",
     "text": [
      "step1410, loss = 7.568475723266602, real = 0.20828083157539368, fake = 0.1635207235813141 6.147549629211426\n",
      "step1420, loss = 8.861909866333008, real = 0.18740679323673248, fake = 0.16928987205028534 6.122041702270508\n",
      "step1430, loss = 7.285614490509033, real = 0.20707859098911285, fake = 0.17095321416854858 6.113946914672852\n",
      "step1440, loss = 8.097051620483398, real = 0.21229377388954163, fake = 0.17687997221946716 6.083857536315918\n",
      "step1450, loss = 8.080947875976562, real = 0.18333521485328674, fake = 0.1707887351512909 6.11381721496582\n",
      "step1460, loss = 8.716179847717285, real = 0.18950028717517853, fake = 0.1418760120868683 6.240625381469727\n",
      "step1470, loss = 7.757567882537842, real = 0.21563324332237244, fake = 0.17383833229541779 6.09970760345459\n",
      "step1480, loss = 9.502632141113281, real = 0.19667452573776245, fake = 0.16461998224258423 6.137877941131592\n",
      "step1490, loss = 7.55409574508667, real = 0.20790952444076538, fake = 0.16240498423576355 6.151433944702148\n"
     ]
    },
    {
     "name": "stderr",
     "output_type": "stream",
     "text": [
      "Clipping input data to the valid range for imshow with RGB data ([0..1] for floats or [0..255] for integers).\n",
      "Clipping input data to the valid range for imshow with RGB data ([0..1] for floats or [0..255] for integers).\n"
     ]
    },
    {
     "name": "stdout",
     "output_type": "stream",
     "text": [
      "step1500, loss = 8.155898094177246, real = 0.23127439618110657, fake = 0.1901305913925171 6.023737907409668\n"
     ]
    },
    {
     "name": "stderr",
     "output_type": "stream",
     "text": [
      "Clipping input data to the valid range for imshow with RGB data ([0..1] for floats or [0..255] for integers).\n",
      "Clipping input data to the valid range for imshow with RGB data ([0..1] for floats or [0..255] for integers).\n",
      "Clipping input data to the valid range for imshow with RGB data ([0..1] for floats or [0..255] for integers).\n",
      "Clipping input data to the valid range for imshow with RGB data ([0..1] for floats or [0..255] for integers).\n",
      "Clipping input data to the valid range for imshow with RGB data ([0..1] for floats or [0..255] for integers).\n",
      "Clipping input data to the valid range for imshow with RGB data ([0..1] for floats or [0..255] for integers).\n",
      "Clipping input data to the valid range for imshow with RGB data ([0..1] for floats or [0..255] for integers).\n",
      "Clipping input data to the valid range for imshow with RGB data ([0..1] for floats or [0..255] for integers).\n"
     ]
    },
    {
     "name": "stdout",
     "output_type": "stream",
     "text": [
      "step1510, loss = 7.482029438018799, real = 0.18581879138946533, fake = 0.17515799403190613 6.095528602600098\n",
      "step1520, loss = 7.618763446807861, real = 0.20774494111537933, fake = 0.1568945050239563 6.176438808441162\n",
      "step1530, loss = 8.638068199157715, real = 0.21350546181201935, fake = 0.1802404522895813 6.069896697998047\n",
      "step1540, loss = 8.245601654052734, real = 0.19505155086517334, fake = 0.1593310534954071 6.167747974395752\n",
      "step1550, loss = 8.059370994567871, real = 0.20592083036899567, fake = 0.17155969142913818 6.108081340789795\n",
      "step1560, loss = 7.669102191925049, real = 0.20423662662506104, fake = 0.16376112401485443 6.147101402282715\n",
      "step1570, loss = 7.801214694976807, real = 0.1957859992980957, fake = 0.15981833636760712 6.160920143127441\n",
      "step1580, loss = 7.804623603820801, real = 0.2092890739440918, fake = 0.1653008908033371 6.135354042053223\n",
      "step1590, loss = 7.523544788360596, real = 0.19984757900238037, fake = 0.16863971948623657 6.123299598693848\n"
     ]
    },
    {
     "name": "stderr",
     "output_type": "stream",
     "text": [
      "Clipping input data to the valid range for imshow with RGB data ([0..1] for floats or [0..255] for integers).\n",
      "Clipping input data to the valid range for imshow with RGB data ([0..1] for floats or [0..255] for integers).\n"
     ]
    },
    {
     "name": "stdout",
     "output_type": "stream",
     "text": [
      "step1600, loss = 7.482471942901611, real = 0.20302170515060425, fake = 0.1629921942949295 6.151613235473633\n"
     ]
    },
    {
     "name": "stderr",
     "output_type": "stream",
     "text": [
      "Clipping input data to the valid range for imshow with RGB data ([0..1] for floats or [0..255] for integers).\n",
      "Clipping input data to the valid range for imshow with RGB data ([0..1] for floats or [0..255] for integers).\n",
      "Clipping input data to the valid range for imshow with RGB data ([0..1] for floats or [0..255] for integers).\n",
      "Clipping input data to the valid range for imshow with RGB data ([0..1] for floats or [0..255] for integers).\n",
      "Clipping input data to the valid range for imshow with RGB data ([0..1] for floats or [0..255] for integers).\n",
      "Clipping input data to the valid range for imshow with RGB data ([0..1] for floats or [0..255] for integers).\n",
      "Clipping input data to the valid range for imshow with RGB data ([0..1] for floats or [0..255] for integers).\n",
      "Clipping input data to the valid range for imshow with RGB data ([0..1] for floats or [0..255] for integers).\n"
     ]
    },
    {
     "name": "stdout",
     "output_type": "stream",
     "text": [
      "step1610, loss = 7.300861358642578, real = 0.19864772260189056, fake = 0.17072370648384094 6.113572597503662\n",
      "step1620, loss = 7.707396507263184, real = 0.1875314712524414, fake = 0.1445416361093521 6.233654975891113\n",
      "step1630, loss = 9.796117782592773, real = 0.20473262667655945, fake = 0.1734418421983719 6.099767684936523\n",
      "step1640, loss = 7.85084342956543, real = 0.20753751695156097, fake = 0.17877689003944397 6.077784538269043\n",
      "step1650, loss = 7.320842742919922, real = 0.19547401368618011, fake = 0.16766637563705444 6.128859519958496\n",
      "step1660, loss = 7.7140793800354, real = 0.20492762327194214, fake = 0.16510078310966492 6.139463424682617\n",
      "step1670, loss = 7.727468013763428, real = 0.19577479362487793, fake = 0.16408002376556396 6.144747734069824\n",
      "step1680, loss = 7.49594783782959, real = 0.209105983376503, fake = 0.16889116168022156 6.121735095977783\n",
      "step1690, loss = 7.873545169830322, real = 0.19991441071033478, fake = 0.15981607139110565 6.1642069816589355\n"
     ]
    },
    {
     "name": "stderr",
     "output_type": "stream",
     "text": [
      "Clipping input data to the valid range for imshow with RGB data ([0..1] for floats or [0..255] for integers).\n",
      "Clipping input data to the valid range for imshow with RGB data ([0..1] for floats or [0..255] for integers).\n"
     ]
    },
    {
     "name": "stdout",
     "output_type": "stream",
     "text": [
      "step1700, loss = 7.86790657043457, real = 0.2049211710691452, fake = 0.15808174014091492 6.175018310546875\n"
     ]
    },
    {
     "name": "stderr",
     "output_type": "stream",
     "text": [
      "Clipping input data to the valid range for imshow with RGB data ([0..1] for floats or [0..255] for integers).\n",
      "Clipping input data to the valid range for imshow with RGB data ([0..1] for floats or [0..255] for integers).\n",
      "Clipping input data to the valid range for imshow with RGB data ([0..1] for floats or [0..255] for integers).\n",
      "Clipping input data to the valid range for imshow with RGB data ([0..1] for floats or [0..255] for integers).\n",
      "Clipping input data to the valid range for imshow with RGB data ([0..1] for floats or [0..255] for integers).\n",
      "Clipping input data to the valid range for imshow with RGB data ([0..1] for floats or [0..255] for integers).\n",
      "Clipping input data to the valid range for imshow with RGB data ([0..1] for floats or [0..255] for integers).\n",
      "Clipping input data to the valid range for imshow with RGB data ([0..1] for floats or [0..255] for integers).\n"
     ]
    },
    {
     "name": "stdout",
     "output_type": "stream",
     "text": [
      "step1710, loss = 7.633722305297852, real = 0.19543924927711487, fake = 0.16385871171951294 6.146584987640381\n",
      "step1720, loss = 7.595770359039307, real = 0.1997617781162262, fake = 0.17031967639923096 6.114744186401367\n",
      "step1730, loss = 7.892265796661377, real = 0.18714651465415955, fake = 0.1605052649974823 6.159107208251953\n",
      "step1740, loss = 7.529628753662109, real = 0.19707229733467102, fake = 0.17201608419418335 6.10624885559082\n",
      "step1750, loss = 7.412652015686035, real = 0.21149089932441711, fake = 0.17377039790153503 6.09815788269043\n",
      "step1760, loss = 8.372159957885742, real = 0.19322940707206726, fake = 0.1574145406484604 6.176727294921875\n",
      "step1770, loss = 7.5150227546691895, real = 0.1919025033712387, fake = 0.16377215087413788 6.145447731018066\n",
      "step1780, loss = 7.717458248138428, real = 0.19324807822704315, fake = 0.15997658669948578 6.163999557495117\n",
      "step1790, loss = 7.427507400512695, real = 0.18821343779563904, fake = 0.16263455152511597 6.14745569229126\n"
     ]
    },
    {
     "name": "stderr",
     "output_type": "stream",
     "text": [
      "Clipping input data to the valid range for imshow with RGB data ([0..1] for floats or [0..255] for integers).\n",
      "Clipping input data to the valid range for imshow with RGB data ([0..1] for floats or [0..255] for integers).\n",
      "Clipping input data to the valid range for imshow with RGB data ([0..1] for floats or [0..255] for integers).\n"
     ]
    },
    {
     "name": "stdout",
     "output_type": "stream",
     "text": [
      "step1800, loss = 7.454092979431152, real = 0.1904919445514679, fake = 0.1633111536502838 6.144872665405273\n"
     ]
    },
    {
     "name": "stderr",
     "output_type": "stream",
     "text": [
      "Clipping input data to the valid range for imshow with RGB data ([0..1] for floats or [0..255] for integers).\n",
      "Clipping input data to the valid range for imshow with RGB data ([0..1] for floats or [0..255] for integers).\n",
      "Clipping input data to the valid range for imshow with RGB data ([0..1] for floats or [0..255] for integers).\n",
      "Clipping input data to the valid range for imshow with RGB data ([0..1] for floats or [0..255] for integers).\n",
      "Clipping input data to the valid range for imshow with RGB data ([0..1] for floats or [0..255] for integers).\n",
      "Clipping input data to the valid range for imshow with RGB data ([0..1] for floats or [0..255] for integers).\n",
      "Clipping input data to the valid range for imshow with RGB data ([0..1] for floats or [0..255] for integers).\n"
     ]
    },
    {
     "name": "stdout",
     "output_type": "stream",
     "text": [
      "step1810, loss = 9.03563117980957, real = 0.22628426551818848, fake = 0.17189255356788635 6.108075141906738\n",
      "step1820, loss = 8.029136657714844, real = 0.20380939543247223, fake = 0.1635267734527588 6.14845085144043\n",
      "step1830, loss = 7.378790855407715, real = 0.20676584541797638, fake = 0.15710650384426117 6.180516242980957\n",
      "[Epoch 3] loss:7.861399802235522\n"
     ]
    },
    {
     "name": "stderr",
     "output_type": "stream",
     "text": [
      "Clipping input data to the valid range for imshow with RGB data ([0..1] for floats or [0..255] for integers).\n",
      "Clipping input data to the valid range for imshow with RGB data ([0..1] for floats or [0..255] for integers).\n"
     ]
    },
    {
     "name": "stdout",
     "output_type": "stream",
     "text": [
      "step0, loss = 9.438587188720703, real = 0.19812560081481934, fake = 0.24053789675235748 5.766650676727295\n"
     ]
    },
    {
     "name": "stderr",
     "output_type": "stream",
     "text": [
      "Clipping input data to the valid range for imshow with RGB data ([0..1] for floats or [0..255] for integers).\n",
      "Clipping input data to the valid range for imshow with RGB data ([0..1] for floats or [0..255] for integers).\n",
      "Clipping input data to the valid range for imshow with RGB data ([0..1] for floats or [0..255] for integers).\n",
      "Clipping input data to the valid range for imshow with RGB data ([0..1] for floats or [0..255] for integers).\n",
      "Clipping input data to the valid range for imshow with RGB data ([0..1] for floats or [0..255] for integers).\n",
      "Clipping input data to the valid range for imshow with RGB data ([0..1] for floats or [0..255] for integers).\n",
      "Clipping input data to the valid range for imshow with RGB data ([0..1] for floats or [0..255] for integers).\n",
      "Clipping input data to the valid range for imshow with RGB data ([0..1] for floats or [0..255] for integers).\n"
     ]
    },
    {
     "name": "stdout",
     "output_type": "stream",
     "text": [
      "step10, loss = 7.343486309051514, real = 0.24505427479743958, fake = 0.17906664311885834 6.080177307128906\n",
      "step20, loss = 9.237354278564453, real = 0.22985488176345825, fake = 0.16212981939315796 6.153838157653809\n",
      "step30, loss = 7.421716213226318, real = 0.20712429285049438, fake = 0.15585994720458984 6.1812849044799805\n",
      "step40, loss = 11.007935523986816, real = 0.21799331903457642, fake = 0.1609259694814682 6.164003372192383\n",
      "step50, loss = 9.593462944030762, real = 0.21910527348518372, fake = 0.17455217242240906 6.090349197387695\n",
      "step60, loss = 7.70236349105835, real = 0.20431579649448395, fake = 0.15081895887851715 6.206834316253662\n",
      "step70, loss = 7.656237602233887, real = 0.22948786616325378, fake = 0.18169373273849487 6.06712532043457\n",
      "step80, loss = 8.208757400512695, real = 0.2170194834470749, fake = 0.17033317685127258 6.116619110107422\n",
      "step90, loss = 7.846285343170166, real = 0.2108812928199768, fake = 0.16782259941101074 6.1253252029418945\n"
     ]
    },
    {
     "name": "stderr",
     "output_type": "stream",
     "text": [
      "Clipping input data to the valid range for imshow with RGB data ([0..1] for floats or [0..255] for integers).\n",
      "Clipping input data to the valid range for imshow with RGB data ([0..1] for floats or [0..255] for integers).\n"
     ]
    },
    {
     "name": "stdout",
     "output_type": "stream",
     "text": [
      "step100, loss = 7.575192928314209, real = 0.2315712571144104, fake = 0.17243990302085876 6.10727071762085\n"
     ]
    },
    {
     "name": "stderr",
     "output_type": "stream",
     "text": [
      "Clipping input data to the valid range for imshow with RGB data ([0..1] for floats or [0..255] for integers).\n",
      "Clipping input data to the valid range for imshow with RGB data ([0..1] for floats or [0..255] for integers).\n",
      "Clipping input data to the valid range for imshow with RGB data ([0..1] for floats or [0..255] for integers).\n",
      "Clipping input data to the valid range for imshow with RGB data ([0..1] for floats or [0..255] for integers).\n",
      "Clipping input data to the valid range for imshow with RGB data ([0..1] for floats or [0..255] for integers).\n",
      "Clipping input data to the valid range for imshow with RGB data ([0..1] for floats or [0..255] for integers).\n",
      "Clipping input data to the valid range for imshow with RGB data ([0..1] for floats or [0..255] for integers).\n",
      "Clipping input data to the valid range for imshow with RGB data ([0..1] for floats or [0..255] for integers).\n"
     ]
    },
    {
     "name": "stdout",
     "output_type": "stream",
     "text": [
      "step110, loss = 7.573217868804932, real = 0.19350919127464294, fake = 0.15448486804962158 6.188628196716309\n",
      "step120, loss = 7.637205123901367, real = 0.19834205508232117, fake = 0.16465003788471222 6.140182018280029\n",
      "step130, loss = 7.521103858947754, real = 0.1945732831954956, fake = 0.15902335941791534 6.17074728012085\n",
      "step140, loss = 7.864611625671387, real = 0.19190260767936707, fake = 0.16001957654953003 6.1586761474609375\n",
      "step150, loss = 7.555417537689209, real = 0.21028223633766174, fake = 0.17484593391418457 6.093010902404785\n",
      "step160, loss = 7.393988609313965, real = 0.20360977947711945, fake = 0.1650514453649521 6.140949249267578\n",
      "step170, loss = 7.493361949920654, real = 0.19066844880580902, fake = 0.15837819874286652 6.17507266998291\n",
      "step180, loss = 9.558845520019531, real = 0.22991102933883667, fake = 0.17741595208644867 6.086942195892334\n",
      "step190, loss = 7.453157424926758, real = 0.20187051594257355, fake = 0.15600904822349548 6.184673309326172\n"
     ]
    },
    {
     "name": "stderr",
     "output_type": "stream",
     "text": [
      "Clipping input data to the valid range for imshow with RGB data ([0..1] for floats or [0..255] for integers).\n",
      "Clipping input data to the valid range for imshow with RGB data ([0..1] for floats or [0..255] for integers).\n"
     ]
    },
    {
     "name": "stdout",
     "output_type": "stream",
     "text": [
      "step200, loss = 7.558938980102539, real = 0.20517435669898987, fake = 0.16968992352485657 6.117844104766846\n"
     ]
    },
    {
     "name": "stderr",
     "output_type": "stream",
     "text": [
      "Clipping input data to the valid range for imshow with RGB data ([0..1] for floats or [0..255] for integers).\n",
      "Clipping input data to the valid range for imshow with RGB data ([0..1] for floats or [0..255] for integers).\n",
      "Clipping input data to the valid range for imshow with RGB data ([0..1] for floats or [0..255] for integers).\n",
      "Clipping input data to the valid range for imshow with RGB data ([0..1] for floats or [0..255] for integers).\n",
      "Clipping input data to the valid range for imshow with RGB data ([0..1] for floats or [0..255] for integers).\n",
      "Clipping input data to the valid range for imshow with RGB data ([0..1] for floats or [0..255] for integers).\n",
      "Clipping input data to the valid range for imshow with RGB data ([0..1] for floats or [0..255] for integers).\n",
      "Clipping input data to the valid range for imshow with RGB data ([0..1] for floats or [0..255] for integers).\n"
     ]
    },
    {
     "name": "stdout",
     "output_type": "stream",
     "text": [
      "step210, loss = 7.428954601287842, real = 0.19529780745506287, fake = 0.158436119556427 6.1663689613342285\n",
      "step220, loss = 7.558854579925537, real = 0.20649157464504242, fake = 0.16298925876617432 6.149587631225586\n",
      "step230, loss = 7.40243673324585, real = 0.22016112506389618, fake = 0.18080829083919525 6.068240165710449\n",
      "step240, loss = 7.697677135467529, real = 0.2005319595336914, fake = 0.16938218474388123 6.116304874420166\n",
      "step250, loss = 7.423429489135742, real = 0.19105732440948486, fake = 0.16544118523597717 6.139522552490234\n",
      "step260, loss = 7.713800430297852, real = 0.18473614752292633, fake = 0.1611056625843048 6.161124229431152\n",
      "step270, loss = 7.359775543212891, real = 0.21058250963687897, fake = 0.1776120662689209 6.084351062774658\n",
      "step280, loss = 7.4700164794921875, real = 0.2141055017709732, fake = 0.16361573338508606 6.146745204925537\n",
      "step290, loss = 7.249955654144287, real = 0.20942842960357666, fake = 0.17398089170455933 6.101424217224121\n"
     ]
    },
    {
     "name": "stderr",
     "output_type": "stream",
     "text": [
      "Clipping input data to the valid range for imshow with RGB data ([0..1] for floats or [0..255] for integers).\n",
      "Clipping input data to the valid range for imshow with RGB data ([0..1] for floats or [0..255] for integers).\n"
     ]
    },
    {
     "name": "stdout",
     "output_type": "stream",
     "text": [
      "step300, loss = 7.6446757316589355, real = 0.20580261945724487, fake = 0.16483817994594574 6.1433916091918945\n"
     ]
    },
    {
     "name": "stderr",
     "output_type": "stream",
     "text": [
      "Clipping input data to the valid range for imshow with RGB data ([0..1] for floats or [0..255] for integers).\n",
      "Clipping input data to the valid range for imshow with RGB data ([0..1] for floats or [0..255] for integers).\n",
      "Clipping input data to the valid range for imshow with RGB data ([0..1] for floats or [0..255] for integers).\n",
      "Clipping input data to the valid range for imshow with RGB data ([0..1] for floats or [0..255] for integers).\n",
      "Clipping input data to the valid range for imshow with RGB data ([0..1] for floats or [0..255] for integers).\n",
      "Clipping input data to the valid range for imshow with RGB data ([0..1] for floats or [0..255] for integers).\n",
      "Clipping input data to the valid range for imshow with RGB data ([0..1] for floats or [0..255] for integers).\n",
      "Clipping input data to the valid range for imshow with RGB data ([0..1] for floats or [0..255] for integers).\n"
     ]
    },
    {
     "name": "stdout",
     "output_type": "stream",
     "text": [
      "step310, loss = 7.912807941436768, real = 0.19083960354328156, fake = 0.16740697622299194 6.131760597229004\n",
      "step320, loss = 7.416985511779785, real = 0.1970176100730896, fake = 0.15903858840465546 6.164332389831543\n",
      "step330, loss = 7.589101791381836, real = 0.21048927307128906, fake = 0.1547563672065735 6.184048652648926\n",
      "step340, loss = 7.412392616271973, real = 0.20826926827430725, fake = 0.1660045087337494 6.133992671966553\n",
      "step350, loss = 7.31104850769043, real = 0.20019376277923584, fake = 0.1567232608795166 6.179266452789307\n",
      "step360, loss = 8.903076171875, real = 0.21437731385231018, fake = 0.18373100459575653 6.056611061096191\n",
      "step370, loss = 7.403964042663574, real = 0.2057395875453949, fake = 0.16396698355674744 6.148138999938965\n",
      "step380, loss = 7.692232608795166, real = 0.21055251359939575, fake = 0.17158259451389313 6.108279228210449\n",
      "step390, loss = 7.64954948425293, real = 0.19114616513252258, fake = 0.16780640184879303 6.128701210021973\n"
     ]
    },
    {
     "name": "stderr",
     "output_type": "stream",
     "text": [
      "Clipping input data to the valid range for imshow with RGB data ([0..1] for floats or [0..255] for integers).\n",
      "Clipping input data to the valid range for imshow with RGB data ([0..1] for floats or [0..255] for integers).\n"
     ]
    },
    {
     "name": "stdout",
     "output_type": "stream",
     "text": [
      "step400, loss = 7.649477005004883, real = 0.20620964467525482, fake = 0.16937832534313202 6.121264457702637\n"
     ]
    },
    {
     "name": "stderr",
     "output_type": "stream",
     "text": [
      "Clipping input data to the valid range for imshow with RGB data ([0..1] for floats or [0..255] for integers).\n",
      "Clipping input data to the valid range for imshow with RGB data ([0..1] for floats or [0..255] for integers).\n",
      "Clipping input data to the valid range for imshow with RGB data ([0..1] for floats or [0..255] for integers).\n",
      "Clipping input data to the valid range for imshow with RGB data ([0..1] for floats or [0..255] for integers).\n",
      "Clipping input data to the valid range for imshow with RGB data ([0..1] for floats or [0..255] for integers).\n",
      "Clipping input data to the valid range for imshow with RGB data ([0..1] for floats or [0..255] for integers).\n",
      "Clipping input data to the valid range for imshow with RGB data ([0..1] for floats or [0..255] for integers).\n",
      "Clipping input data to the valid range for imshow with RGB data ([0..1] for floats or [0..255] for integers).\n"
     ]
    },
    {
     "name": "stdout",
     "output_type": "stream",
     "text": [
      "step410, loss = 7.477411270141602, real = 0.20220217108726501, fake = 0.1631278395652771 6.141935348510742\n",
      "step420, loss = 7.279445648193359, real = 0.20072956383228302, fake = 0.17368245124816895 6.101958751678467\n",
      "step430, loss = 8.44077205657959, real = 0.19095450639724731, fake = 0.16096366941928864 6.161726474761963\n",
      "step440, loss = 9.03866958618164, real = 0.20967841148376465, fake = 0.16646796464920044 6.131182670593262\n",
      "step450, loss = 8.04563045501709, real = 0.2010916769504547, fake = 0.1700715571641922 6.121395587921143\n",
      "step460, loss = 7.710173606872559, real = 0.211679607629776, fake = 0.17324277758598328 6.102697849273682\n",
      "step470, loss = 7.887778282165527, real = 0.19816388189792633, fake = 0.14789602160453796 6.220327377319336\n",
      "step480, loss = 7.6934733390808105, real = 0.2060316801071167, fake = 0.16571244597434998 6.13369607925415\n",
      "step490, loss = 7.790887355804443, real = 0.20164477825164795, fake = 0.16387316584587097 6.149869918823242\n"
     ]
    },
    {
     "name": "stderr",
     "output_type": "stream",
     "text": [
      "Clipping input data to the valid range for imshow with RGB data ([0..1] for floats or [0..255] for integers).\n",
      "Clipping input data to the valid range for imshow with RGB data ([0..1] for floats or [0..255] for integers).\n"
     ]
    },
    {
     "name": "stdout",
     "output_type": "stream",
     "text": [
      "step500, loss = 7.269912242889404, real = 0.201589435338974, fake = 0.16473814845085144 6.1434149742126465\n"
     ]
    },
    {
     "name": "stderr",
     "output_type": "stream",
     "text": [
      "Clipping input data to the valid range for imshow with RGB data ([0..1] for floats or [0..255] for integers).\n",
      "Clipping input data to the valid range for imshow with RGB data ([0..1] for floats or [0..255] for integers).\n",
      "Clipping input data to the valid range for imshow with RGB data ([0..1] for floats or [0..255] for integers).\n",
      "Clipping input data to the valid range for imshow with RGB data ([0..1] for floats or [0..255] for integers).\n",
      "Clipping input data to the valid range for imshow with RGB data ([0..1] for floats or [0..255] for integers).\n",
      "Clipping input data to the valid range for imshow with RGB data ([0..1] for floats or [0..255] for integers).\n",
      "Clipping input data to the valid range for imshow with RGB data ([0..1] for floats or [0..255] for integers).\n",
      "Clipping input data to the valid range for imshow with RGB data ([0..1] for floats or [0..255] for integers).\n"
     ]
    },
    {
     "name": "stdout",
     "output_type": "stream",
     "text": [
      "step510, loss = 7.433012008666992, real = 0.1969430148601532, fake = 0.15870685875415802 6.169943332672119\n",
      "step520, loss = 7.499171257019043, real = 0.18739742040634155, fake = 0.1641835719347 6.14293098449707\n",
      "step530, loss = 7.387177467346191, real = 0.2131478488445282, fake = 0.17173302173614502 6.107385635375977\n",
      "step540, loss = 7.378347396850586, real = 0.20721915364265442, fake = 0.1706288754940033 6.1132283210754395\n",
      "step550, loss = 7.54973030090332, real = 0.19198304414749146, fake = 0.1619168370962143 6.15362548828125\n",
      "step560, loss = 7.446196556091309, real = 0.1992715299129486, fake = 0.17480140924453735 6.093671798706055\n",
      "step570, loss = 7.80353307723999, real = 0.18942558765411377, fake = 0.16744039952754974 6.129281520843506\n",
      "step580, loss = 9.055403709411621, real = 0.19976292550563812, fake = 0.16249173879623413 6.149436950683594\n",
      "step590, loss = 7.4407806396484375, real = 0.20722009241580963, fake = 0.16608119010925293 6.135804176330566\n"
     ]
    },
    {
     "name": "stderr",
     "output_type": "stream",
     "text": [
      "Clipping input data to the valid range for imshow with RGB data ([0..1] for floats or [0..255] for integers).\n",
      "Clipping input data to the valid range for imshow with RGB data ([0..1] for floats or [0..255] for integers).\n"
     ]
    },
    {
     "name": "stdout",
     "output_type": "stream",
     "text": [
      "step600, loss = 7.46382999420166, real = 0.2183343917131424, fake = 0.17096608877182007 6.11845588684082\n"
     ]
    },
    {
     "name": "stderr",
     "output_type": "stream",
     "text": [
      "Clipping input data to the valid range for imshow with RGB data ([0..1] for floats or [0..255] for integers).\n",
      "Clipping input data to the valid range for imshow with RGB data ([0..1] for floats or [0..255] for integers).\n",
      "Clipping input data to the valid range for imshow with RGB data ([0..1] for floats or [0..255] for integers).\n",
      "Clipping input data to the valid range for imshow with RGB data ([0..1] for floats or [0..255] for integers).\n",
      "Clipping input data to the valid range for imshow with RGB data ([0..1] for floats or [0..255] for integers).\n",
      "Clipping input data to the valid range for imshow with RGB data ([0..1] for floats or [0..255] for integers).\n",
      "Clipping input data to the valid range for imshow with RGB data ([0..1] for floats or [0..255] for integers).\n",
      "Clipping input data to the valid range for imshow with RGB data ([0..1] for floats or [0..255] for integers).\n"
     ]
    },
    {
     "name": "stdout",
     "output_type": "stream",
     "text": [
      "step610, loss = 8.937536239624023, real = 0.20549649000167847, fake = 0.15991628170013428 6.167450904846191\n",
      "step620, loss = 8.957847595214844, real = 0.21211078763008118, fake = 0.16628345847129822 6.1367387771606445\n",
      "step630, loss = 8.449867248535156, real = 0.2059498429298401, fake = 0.16855134069919586 6.125247955322266\n",
      "step640, loss = 7.1380791664123535, real = 0.20553982257843018, fake = 0.16662034392356873 6.131243705749512\n",
      "step650, loss = 7.7628374099731445, real = 0.21097800135612488, fake = 0.18484370410442352 6.049178123474121\n",
      "step660, loss = 7.4912567138671875, real = 0.18899157643318176, fake = 0.16125088930130005 6.154856204986572\n",
      "step670, loss = 7.36958646774292, real = 0.20278947055339813, fake = 0.1723414659500122 6.1050519943237305\n",
      "step680, loss = 7.67818021774292, real = 0.21026888489723206, fake = 0.17034345865249634 6.115285873413086\n",
      "step690, loss = 7.574760437011719, real = 0.2124078869819641, fake = 0.16079214215278625 6.156369209289551\n"
     ]
    },
    {
     "name": "stderr",
     "output_type": "stream",
     "text": [
      "Clipping input data to the valid range for imshow with RGB data ([0..1] for floats or [0..255] for integers).\n",
      "Clipping input data to the valid range for imshow with RGB data ([0..1] for floats or [0..255] for integers).\n"
     ]
    },
    {
     "name": "stdout",
     "output_type": "stream",
     "text": [
      "step700, loss = 8.213980674743652, real = 0.20314675569534302, fake = 0.1650153398513794 6.142134666442871\n"
     ]
    },
    {
     "name": "stderr",
     "output_type": "stream",
     "text": [
      "Clipping input data to the valid range for imshow with RGB data ([0..1] for floats or [0..255] for integers).\n",
      "Clipping input data to the valid range for imshow with RGB data ([0..1] for floats or [0..255] for integers).\n",
      "Clipping input data to the valid range for imshow with RGB data ([0..1] for floats or [0..255] for integers).\n",
      "Clipping input data to the valid range for imshow with RGB data ([0..1] for floats or [0..255] for integers).\n",
      "Clipping input data to the valid range for imshow with RGB data ([0..1] for floats or [0..255] for integers).\n",
      "Clipping input data to the valid range for imshow with RGB data ([0..1] for floats or [0..255] for integers).\n",
      "Clipping input data to the valid range for imshow with RGB data ([0..1] for floats or [0..255] for integers).\n",
      "Clipping input data to the valid range for imshow with RGB data ([0..1] for floats or [0..255] for integers).\n"
     ]
    },
    {
     "name": "stdout",
     "output_type": "stream",
     "text": [
      "step710, loss = 7.350782871246338, real = 0.20375865697860718, fake = 0.16675615310668945 6.13031005859375\n",
      "step720, loss = 7.397244453430176, real = 0.19660596549510956, fake = 0.17974209785461426 6.074969291687012\n",
      "step730, loss = 7.579456806182861, real = 0.19244174659252167, fake = 0.1551649570465088 6.184727191925049\n",
      "step740, loss = 7.608506202697754, real = 0.20623637735843658, fake = 0.1654084324836731 6.13456916809082\n",
      "step750, loss = 7.716611385345459, real = 0.20444369316101074, fake = 0.16536226868629456 6.139565467834473\n",
      "step760, loss = 7.725393295288086, real = 0.1790226697921753, fake = 0.15469655394554138 6.189336776733398\n",
      "step770, loss = 8.153942108154297, real = 0.1996403932571411, fake = 0.17024987936019897 6.116763114929199\n",
      "step780, loss = 7.399508953094482, real = 0.20242717862129211, fake = 0.16765055060386658 6.1304216384887695\n",
      "step790, loss = 7.453991889953613, real = 0.19956228137016296, fake = 0.16446524858474731 6.139487266540527\n"
     ]
    },
    {
     "name": "stderr",
     "output_type": "stream",
     "text": [
      "Clipping input data to the valid range for imshow with RGB data ([0..1] for floats or [0..255] for integers).\n",
      "Clipping input data to the valid range for imshow with RGB data ([0..1] for floats or [0..255] for integers).\n"
     ]
    },
    {
     "name": "stdout",
     "output_type": "stream",
     "text": [
      "step800, loss = 7.4703826904296875, real = 0.20229408144950867, fake = 0.1725904941558838 6.102705955505371\n"
     ]
    },
    {
     "name": "stderr",
     "output_type": "stream",
     "text": [
      "Clipping input data to the valid range for imshow with RGB data ([0..1] for floats or [0..255] for integers).\n",
      "Clipping input data to the valid range for imshow with RGB data ([0..1] for floats or [0..255] for integers).\n",
      "Clipping input data to the valid range for imshow with RGB data ([0..1] for floats or [0..255] for integers).\n",
      "Clipping input data to the valid range for imshow with RGB data ([0..1] for floats or [0..255] for integers).\n",
      "Clipping input data to the valid range for imshow with RGB data ([0..1] for floats or [0..255] for integers).\n",
      "Clipping input data to the valid range for imshow with RGB data ([0..1] for floats or [0..255] for integers).\n",
      "Clipping input data to the valid range for imshow with RGB data ([0..1] for floats or [0..255] for integers).\n",
      "Clipping input data to the valid range for imshow with RGB data ([0..1] for floats or [0..255] for integers).\n"
     ]
    },
    {
     "name": "stdout",
     "output_type": "stream",
     "text": [
      "step810, loss = 10.307050704956055, real = 0.21228355169296265, fake = 0.16765709221363068 6.130575180053711\n",
      "step820, loss = 7.438709259033203, real = 0.20746542513370514, fake = 0.1717597246170044 6.110858917236328\n",
      "step830, loss = 7.771188735961914, real = 0.2114180475473404, fake = 0.17376071214675903 6.100566864013672\n",
      "step840, loss = 7.631189346313477, real = 0.19890791177749634, fake = 0.15824821591377258 6.171298027038574\n",
      "step850, loss = 7.8102335929870605, real = 0.20492492616176605, fake = 0.16908250749111176 6.1235198974609375\n"
     ]
    }
   ],
   "source": [
    "optimizer = torch.optim.Adam(model_origin.parameters(), lr=0.001)\n",
    "\n",
    "for epoch in range(1, epochs+1):\n",
    "    epoch_loss = train(model=model_origin, discnet=netD, train_loader=trainloader, epochnow=epoch)\n",
    "    print(\"[Epoch {}] loss:{}\".format(epoch, epoch_loss))\n",
    "    torch.save(model_origin.state_dict(), \"../data/model/\" + timestampStr + \"/new_stepwise_ep{}.pt\".format(epoch))\n",
    "    torch.save(netD.state_dict(), \"../data/model/\" + timestampStr + \"/new_discnet_ep{}.pt\".format(epoch))"
   ]
  },
  {
   "cell_type": "code",
   "execution_count": null,
   "id": "5cc3cb21",
   "metadata": {},
   "outputs": [],
   "source": [
    "plt.plot(loss_history)\n",
    "plt.show()\n",
    "torch.cuda.empty_cache()"
   ]
  },
  {
   "cell_type": "code",
   "execution_count": null,
   "id": "1e8922dd",
   "metadata": {},
   "outputs": [],
   "source": [
    "# torch.cuda.empty_cache()\n",
    "# model_origin = StepAE().to(device)\n",
    "# model_origin.load_state_dict(torch.load(\"cifar10.pt\"))\n",
    "model_origin.eval()"
   ]
  }
 ],
 "metadata": {
  "interpreter": {
   "hash": "0b4d6e17db2916af3fe64491bf0ea9d2d6710a0e3b1344ba1420057f34ba30e6"
  },
  "kernelspec": {
   "display_name": "Python 3 (ipykernel)",
   "language": "python",
   "name": "python3"
  },
  "language_info": {
   "codemirror_mode": {
    "name": "ipython",
    "version": 3
   },
   "file_extension": ".py",
   "mimetype": "text/x-python",
   "name": "python",
   "nbconvert_exporter": "python",
   "pygments_lexer": "ipython3",
   "version": "3.10.4"
  }
 },
 "nbformat": 4,
 "nbformat_minor": 5
}
