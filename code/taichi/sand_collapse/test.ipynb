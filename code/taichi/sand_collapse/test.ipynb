{
 "cells": [
  {
   "cell_type": "code",
   "execution_count": 1,
   "metadata": {},
   "outputs": [],
   "source": [
    "import numpy as np"
   ]
  },
  {
   "cell_type": "code",
   "execution_count": 11,
   "metadata": {},
   "outputs": [
    {
     "name": "stdout",
     "output_type": "stream",
     "text": [
      "[[1. 1. 1.]\n",
      " [1. 1. 1.]\n",
      " [1. 1. 1.]] [[2. 2. 2.]\n",
      " [2. 2. 2.]\n",
      " [2. 2. 2.]] [[3. 3. 3.]\n",
      " [3. 3. 3.]\n",
      " [3. 3. 3.]]\n"
     ]
    }
   ],
   "source": [
    "a1 = np.ones((3, 3))\n",
    "# a1 = a1.reshape(3,3,1)\n",
    "a2 = a1*2\n",
    "a3 = a1*3\n",
    "print(a1, a2, a3)"
   ]
  },
  {
   "cell_type": "code",
   "execution_count": 12,
   "metadata": {},
   "outputs": [
    {
     "name": "stdout",
     "output_type": "stream",
     "text": [
      "(3, 9) [[1. 1. 1. 2. 2. 2. 3. 3. 3.]\n",
      " [1. 1. 1. 2. 2. 2. 3. 3. 3.]\n",
      " [1. 1. 1. 2. 2. 2. 3. 3. 3.]]\n"
     ]
    }
   ],
   "source": [
    "aa = np.concatenate((a1,a2,a3), -1)\n",
    "print(aa.shape, aa)"
   ]
  },
  {
   "cell_type": "code",
   "execution_count": 15,
   "metadata": {},
   "outputs": [
    {
     "name": "stdout",
     "output_type": "stream",
     "text": [
      "[[[0, 0.5, 0.5], [0, 0.5, 0.5], [0, 0.5, 0.5]], [[0, 0.5, 0.5], [0, 0.5, 0.5], [0, 0.5, 0.5]], [[0, 0.5, 0.5], [0, 0.5, 0.5], [0, 0.5, 0.5]]]\n"
     ]
    }
   ],
   "source": [
    "tmpmtx_cplot = [[[0, 0.5, 0.5] for i in range(3)] for i in range(3)]\n",
    "print(tmpmtx_cplot)"
   ]
  },
  {
   "cell_type": "code",
   "execution_count": 31,
   "metadata": {},
   "outputs": [
    {
     "name": "stdout",
     "output_type": "stream",
     "text": [
      "1\n",
      "124\n"
     ]
    }
   ],
   "source": [
    "nums = []\n",
    "for filename in ['a1.npy', 's124.npy']:\n",
    "    i = ''\n",
    "    for c in filename:\n",
    "        if c.isdigit():\n",
    "            # print(c)\n",
    "            i += c\n",
    "    print(i)"
   ]
  }
 ],
 "metadata": {
  "interpreter": {
   "hash": "2c7630e42c07fc97b7bdd3b961f12b9f6f566b7756c390ffd7b074a3a9c10baf"
  },
  "kernelspec": {
   "display_name": "Python 3.9.11 ('torch')",
   "language": "python",
   "name": "python3"
  },
  "language_info": {
   "codemirror_mode": {
    "name": "ipython",
    "version": 3
   },
   "file_extension": ".py",
   "mimetype": "text/x-python",
   "name": "python",
   "nbconvert_exporter": "python",
   "pygments_lexer": "ipython3",
   "version": "3.9.11"
  },
  "orig_nbformat": 4
 },
 "nbformat": 4,
 "nbformat_minor": 2
}
